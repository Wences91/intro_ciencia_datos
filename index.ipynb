{
 "cells": [
  {
   "cell_type": "markdown",
   "id": "992d5ff3-96c9-4705-abcd-1ac4bf321b43",
   "metadata": {},
   "source": [
    "# Introducción práctica a la ciencia de datos en R"
   ]
  },
  {
   "cell_type": "markdown",
   "id": "a57238fa-73d9-478d-9041-bdaba088d8ab",
   "metadata": {},
   "source": [
    "**Wenceslao Arroyo-Machado**"
   ]
  },
  {
   "cell_type": "markdown",
   "id": "f5faaf26-ee3b-4de9-9b43-e8839fe6c057",
   "metadata": {},
   "source": [
    "Esta es una [R Markdown](http://rmarkdown.rstudio.com) Notebook con todos los contenidos del curso [Introducción práctica a la ciencia de datos en R](https://yosigopublicando.ugr.es/courses/introduccion-practica-a-la-ciencia-de-datos-en-r/) y su [repetición](https://yosigopublicando.ugr.es/courses/introduccion-practica-a-la-ciencia-de-datos-en-r-redux/). El objetivo es introducir los procesos básicos de ciencia de datos para el procesamiento de datos (lectura, procesamiento y exportación)."
   ]
  },
  {
   "cell_type": "markdown",
   "id": "4d11aa24-c24c-4d1c-830d-cf3167d1a98a",
   "metadata": {},
   "source": [
    "# Preparación"
   ]
  },
  {
   "cell_type": "markdown",
   "id": "01ecbdf8-5047-4fcc-a599-22b50391bd70",
   "metadata": {},
   "source": [
    "## Paquetes"
   ]
  },
  {
   "cell_type": "markdown",
   "id": "dc5705cc-59e3-42e7-8559-fb8bb571973f",
   "metadata": {},
   "source": [
    "Vamos a hacer uso de dos paquetes de R: `data.table()` y `dplyr()`. Puedes importarlos a la sesión mediante la función `library()`."
   ]
  },
  {
   "cell_type": "code",
   "execution_count": 1,
   "id": "f79ae746-971f-4547-8dd7-78b7a82a81dc",
   "metadata": {},
   "outputs": [
    {
     "name": "stderr",
     "output_type": "stream",
     "text": [
      "\n",
      "Attaching package: ‘dplyr’\n",
      "\n",
      "The following objects are masked from ‘package:data.table’:\n",
      "\n",
      "    between, first, last\n",
      "\n",
      "The following objects are masked from ‘package:stats’:\n",
      "\n",
      "    filter, lag\n",
      "\n",
      "The following objects are masked from ‘package:base’:\n",
      "\n",
      "    intersect, setdiff, setequal, union\n",
      "\n"
     ]
    }
   ],
   "source": [
    "library(data.table)\n",
    "library(dplyr)"
   ]
  },
  {
   "cell_type": "markdown",
   "id": "ef041edf-de62-4c39-afe2-2803b42bea8c",
   "metadata": {},
   "source": [
    "En caso de que no tengas alguno de los paquetes puedes instalarlos rápidamente con `install.packages()` y tras ello importarlos usando la función `library()`."
   ]
  },
  {
   "cell_type": "code",
   "execution_count": null,
   "id": "a1c8e7d6-1af5-4f33-903a-2dcd1e081d70",
   "metadata": {},
   "outputs": [],
   "source": [
    "#install.packages('data.table')\n",
    "#install.packages('dplyr')"
   ]
  },
  {
   "cell_type": "markdown",
   "id": "5cb43de9-c1e5-4157-8e47-f7a3500615cc",
   "metadata": {},
   "source": [
    "## Datos"
   ]
  },
  {
   "cell_type": "markdown",
   "id": "48820a91-2174-4a7c-9c83-89ae8ac06664",
   "metadata": {},
   "source": [
    "Para esta sesión vamos a usar un subconjunto de datos de [IMDB](https://www.imdb.com/interfaces/). Se han recuperado varios datasets y filtrado previamente a películas, cortos y videojuegos de los años 90. Los datos están disponibles en el directorio *data*.\n",
    "\n",
    "En concreto vamos a usar tres datasets:\n",
    "\n",
    "-   **title_basics.tsv** (96026 x 8) - dataset principal con los datos básicos de las obras\n",
    "    -   *tconst* - id de la obra\n",
    "    -   *titleType* - tipo de obra\n",
    "    -   *primaryTitle* - título principal\n",
    "    -   *originalTitle* - título original\n",
    "    -   *isAdult* - contenido adulto\n",
    "    -   *startYear* - año\n",
    "    -   *runtimeMinutes* - duración\n",
    "    -   *genres* - género/s\n",
    "\n",
    "\n",
    "-   **title_ratings.tsv** (44028 x 3) - puntuaciones promedio\n",
    "    -   *tconst* - id de la obra\n",
    "    -   *averageRating* - puntuación promedio\n",
    "    -   *numVotes*- número de votos\n",
    "\n",
    "\n",
    "-   **title_akas.tsv** (371351 x 8) - traducciones de los títulos\n",
    "    -   *titleId* - id de la obra\n",
    "    -   *ordering* - orden\n",
    "    -   *title* - título\n",
    "    -   *region* - región del título\n",
    "    -   *language* - idioma\n",
    "    -   *types* - atributos\n",
    "    -   *attributes* - términos adicionales\n",
    "    -   *isOriginalTitle* - título original"
   ]
  },
  {
   "cell_type": "markdown",
   "id": "21498091-a8ac-4b6b-b98a-477c8ec18c49",
   "metadata": {},
   "source": [
    "# Lectura de datos"
   ]
  },
  {
   "cell_type": "markdown",
   "id": "4d3a31ca-7f95-42c0-a01c-7c103c8042e3",
   "metadata": {},
   "source": [
    "Antes de importar los datos a RStudio o cualquier otra herramienta es necesario revisar los ficheros manualmente para conocer su estructura y características. Los formatos estándar son en texto plano delimitado por comas o punto y coma (*.csv*) y tabulador (*.tsv*). Es fundamental saber:\n",
    "\n",
    "-   **Codificación** - juego de caracteres, generalmente usarás UTF-8.\n",
    "-   **Delimitador** - carácter de separación, lo normal es la coma (,), punto y coma (;) y tabulador (\\\\t).\n",
    "-   **Calificador** - carácter que evita que en cadenas de texto donde esta presente un caracter igual al delimitador no lo reconozca como tal, lo normal son las comillas dobles (\") o comillas simples (').\n",
    "-   **Caractereres nulos** - cadenas de caracteres que reconocer como valores nulos.\n",
    "\n",
    "Estos son las opciones que más problemas te pueden dar. Sin embargo existen otras como el caracter usado para los decimales, el uso o no de cabecera..."
   ]
  },
  {
   "cell_type": "markdown",
   "id": "15f2118f-ca0f-4cb6-9fcc-1edada8381a8",
   "metadata": {},
   "source": [
    "## read.table()"
   ]
  },
  {
   "cell_type": "markdown",
   "id": "78688a05-988f-4cab-bca1-692a6cbdea8a",
   "metadata": {},
   "source": [
    "Existe una función base que permite importar archivos en texto plano. La función es `read.table()`. Tanto esta como otras funciones vienen con parámetros por defecto, usa `?read.table()` para conocerlos. En este caso verás que muchos vienen desactivados."
   ]
  },
  {
   "cell_type": "markdown",
   "id": "7d71ed78-6125-40b9-acb9-9daf957f29b1",
   "metadata": {},
   "source": [
    "**Ejemplo:** Vamos a importar el archivo con la información básica de películas."
   ]
  },
  {
   "cell_type": "code",
   "execution_count": 2,
   "id": "9149f0f0-0cfc-42f5-8e03-493fa82e6cba",
   "metadata": {},
   "outputs": [],
   "source": [
    "df <- read.table(file = 'data/title_basics.tsv',\n",
    "                 header = TRUE, # mi archivo tiene cabecera\n",
    "                 sep = '\\t', # el delimitador es el tabulador\n",
    "                 quote = '', # no tengo calificadores\n",
    "                 na.strings = 'null', # caracteres nulos\n",
    "                 comment.char = '', # no tengo comentarios\n",
    "                 encoding = 'UTF-8') # codificación"
   ]
  },
  {
   "cell_type": "markdown",
   "id": "89ff04d7-26fa-499a-9076-f267a965a2c7",
   "metadata": {},
   "source": [
    "Desde el IDE de RStudio puedes comprobar cómo se han importado los datos e incluso visualizarlos. Podemos usar para ello `summary()` para obtener un resumen de las variables/instancias y `head()`. para visualizar las primeras líneas del *data.frame*. Los datos son importados como *data.frame*, el cual puede ser visto como una tabla o una hoja de cálculo. Los *data.frame* cuentan con diferentes variables o columnas, pudiendo ser cada una de un tipo (texto,, número, booleano...) y existen diferentes instancias o filas."
   ]
  },
  {
   "cell_type": "code",
   "execution_count": 3,
   "id": "84b741f5-e7b3-41b1-82a2-cd2daa151aa6",
   "metadata": {},
   "outputs": [
    {
     "data": {
      "text/plain": [
       "       tconst          titleType                          primaryTitle  \n",
       " tt0015724:    1   movie    :44754   Requiem                    :   15  \n",
       " tt0038086:    1   short    :26208   The Gift                   :   15  \n",
       " tt0040844:    1   tvMovie  :17757   Angel                      :   11  \n",
       " tt0059325:    1   tvShort  : 1106   Maria                      :   10  \n",
       " tt0059900:    1   videoGame: 6201   Statsministerens nytårstale:   10  \n",
       " tt0065188:    1                     Payback                    :    9  \n",
       " (Other)  :96020                     (Other)                    :95956  \n",
       "                     originalTitle      isAdult          startYear   \n",
       " Requiem                    :   15   Min.   :0.00000   Min.   :1990  \n",
       " The Gift                   :   14   1st Qu.:0.00000   1st Qu.:1992  \n",
       " Angel                      :   10   Median :0.00000   Median :1995  \n",
       " Maria                      :   10   Mean   :0.01504   Mean   :1995  \n",
       " Statsministerens nytårstale:   10   3rd Qu.:0.00000   3rd Qu.:1997  \n",
       " Blind Date                 :    9   Max.   :1.00000   Max.   :1999  \n",
       " (Other)                    :95958                                   \n",
       " runtimeMinutes                 genres     \n",
       " Min.   :   0.0   Short            :11211  \n",
       " 1st Qu.:  22.0   Documentary      :10131  \n",
       " Median :  66.0   Drama            : 9893  \n",
       " Mean   :  63.9   Comedy           : 4476  \n",
       " 3rd Qu.:  94.0   Documentary,Short: 4257  \n",
       " Max.   :1500.0   (Other)          :44843  \n",
       " NA's   :29186    NA's             :11215  "
      ]
     },
     "metadata": {},
     "output_type": "display_data"
    },
    {
     "data": {
      "text/html": [
       "<table>\n",
       "<thead><tr><th scope=col>tconst</th><th scope=col>titleType</th><th scope=col>primaryTitle</th><th scope=col>originalTitle</th><th scope=col>isAdult</th><th scope=col>startYear</th><th scope=col>runtimeMinutes</th><th scope=col>genres</th></tr></thead>\n",
       "<tbody>\n",
       "\t<tr><td>tt0015724                     </td><td>movie                         </td><td>Dama de noche                 </td><td>Dama de noche                 </td><td>0                             </td><td>1993                          </td><td>102                           </td><td>Drama,Mystery,Romance         </td></tr>\n",
       "\t<tr><td>tt0038086                     </td><td>movie                         </td><td>Shiva und die Galgenblume     </td><td>Shiva und die Galgenblume     </td><td>0                             </td><td>1993                          </td><td> NA                           </td><td>Thriller                      </td></tr>\n",
       "\t<tr><td>tt0040844                     </td><td>short                         </td><td>Crossroads of Laredo          </td><td>Crossroads of Laredo          </td><td>0                             </td><td>1995                          </td><td> 30                           </td><td>Short,Western                 </td></tr>\n",
       "\t<tr><td>tt0059325                     </td><td>movie                         </td><td>Born in '45                   </td><td>Jahrgang 45                   </td><td>0                             </td><td>1990                          </td><td>100                           </td><td>Drama,Romance                 </td></tr>\n",
       "\t<tr><td>tt0059900                     </td><td>movie                         </td><td>Wenn du groß bist, lieber Adam</td><td>Wenn du groß bist, lieber Adam</td><td>0                             </td><td>1990                          </td><td> 78                           </td><td>Drama,Fantasy                 </td></tr>\n",
       "\t<tr><td>tt0065188                     </td><td>movie                         </td><td>Vojtech, receny sirotek       </td><td>Vojtech, receny sirotek       </td><td>0                             </td><td>1990                          </td><td> 80                           </td><td>Drama                         </td></tr>\n",
       "</tbody>\n",
       "</table>\n"
      ],
      "text/latex": [
       "\\begin{tabular}{r|llllllll}\n",
       " tconst & titleType & primaryTitle & originalTitle & isAdult & startYear & runtimeMinutes & genres\\\\\n",
       "\\hline\n",
       "\t tt0015724                      & movie                          & Dama de noche                  & Dama de noche                  & 0                              & 1993                           & 102                            & Drama,Mystery,Romance         \\\\\n",
       "\t tt0038086                      & movie                          & Shiva und die Galgenblume      & Shiva und die Galgenblume      & 0                              & 1993                           &  NA                            & Thriller                      \\\\\n",
       "\t tt0040844                      & short                          & Crossroads of Laredo           & Crossroads of Laredo           & 0                              & 1995                           &  30                            & Short,Western                 \\\\\n",
       "\t tt0059325                      & movie                          & Born in '45                    & Jahrgang 45                    & 0                              & 1990                           & 100                            & Drama,Romance                 \\\\\n",
       "\t tt0059900                      & movie                          & Wenn du groß bist, lieber Adam & Wenn du groß bist, lieber Adam & 0                              & 1990                           &  78                            & Drama,Fantasy                 \\\\\n",
       "\t tt0065188                      & movie                          & Vojtech, receny sirotek        & Vojtech, receny sirotek        & 0                              & 1990                           &  80                            & Drama                         \\\\\n",
       "\\end{tabular}\n"
      ],
      "text/markdown": [
       "\n",
       "| tconst | titleType | primaryTitle | originalTitle | isAdult | startYear | runtimeMinutes | genres |\n",
       "|---|---|---|---|---|---|---|---|\n",
       "| tt0015724                      | movie                          | Dama de noche                  | Dama de noche                  | 0                              | 1993                           | 102                            | Drama,Mystery,Romance          |\n",
       "| tt0038086                      | movie                          | Shiva und die Galgenblume      | Shiva und die Galgenblume      | 0                              | 1993                           |  NA                            | Thriller                       |\n",
       "| tt0040844                      | short                          | Crossroads of Laredo           | Crossroads of Laredo           | 0                              | 1995                           |  30                            | Short,Western                  |\n",
       "| tt0059325                      | movie                          | Born in '45                    | Jahrgang 45                    | 0                              | 1990                           | 100                            | Drama,Romance                  |\n",
       "| tt0059900                      | movie                          | Wenn du groß bist, lieber Adam | Wenn du groß bist, lieber Adam | 0                              | 1990                           |  78                            | Drama,Fantasy                  |\n",
       "| tt0065188                      | movie                          | Vojtech, receny sirotek        | Vojtech, receny sirotek        | 0                              | 1990                           |  80                            | Drama                          |\n",
       "\n"
      ],
      "text/plain": [
       "  tconst    titleType primaryTitle                  \n",
       "1 tt0015724 movie     Dama de noche                 \n",
       "2 tt0038086 movie     Shiva und die Galgenblume     \n",
       "3 tt0040844 short     Crossroads of Laredo          \n",
       "4 tt0059325 movie     Born in '45                   \n",
       "5 tt0059900 movie     Wenn du groß bist, lieber Adam\n",
       "6 tt0065188 movie     Vojtech, receny sirotek       \n",
       "  originalTitle                  isAdult startYear runtimeMinutes\n",
       "1 Dama de noche                  0       1993      102           \n",
       "2 Shiva und die Galgenblume      0       1993       NA           \n",
       "3 Crossroads of Laredo           0       1995       30           \n",
       "4 Jahrgang 45                    0       1990      100           \n",
       "5 Wenn du groß bist, lieber Adam 0       1990       78           \n",
       "6 Vojtech, receny sirotek        0       1990       80           \n",
       "  genres               \n",
       "1 Drama,Mystery,Romance\n",
       "2 Thriller             \n",
       "3 Short,Western        \n",
       "4 Drama,Romance        \n",
       "5 Drama,Fantasy        \n",
       "6 Drama                "
      ]
     },
     "metadata": {},
     "output_type": "display_data"
    }
   ],
   "source": [
    "summary(df)\n",
    "head(df)"
   ]
  },
  {
   "cell_type": "markdown",
   "id": "cc18a2a4-d2f0-4a49-8afd-4714255dc80c",
   "metadata": {},
   "source": [
    "Existen diferente variantes de `read.table()` que tomando está como base incluyen algunos parámetros concretos para importar determinados archivos de forma ágil. Estas son:\n",
    "\n",
    "-   `read.csv()` - archivos separados por comas y con puntos por decimales.\n",
    "-   `read.csv2()` - archivos separados por comas y con comas por decimales.\n",
    "-   `read.delim()` - archivos separados por tabuladores y con puntos por decimales.\n",
    "-   `read.delim2()` - archivos separados por tabuladores y con comas por decimales."
   ]
  },
  {
   "cell_type": "markdown",
   "id": "4930c44b-23cf-4fb0-af92-8a1e581d44c4",
   "metadata": {},
   "source": [
    "**Ejemplo:** El archivo anterior se puede importar directamente con `read.delim()`.\n"
   ]
  },
  {
   "cell_type": "code",
   "execution_count": 4,
   "id": "913e9f0b-b1a7-41af-9b06-385b728f6996",
   "metadata": {},
   "outputs": [],
   "source": [
    "df <- read.delim(file = 'data/title_basics.tsv',\n",
    "                 quote = '', # no tengo calificadores\n",
    "                 na.strings = 'null', # caracteres nulos\n",
    "                 encoding = 'UTF-8') # codificación"
   ]
  },
  {
   "cell_type": "markdown",
   "id": "031d1942-faab-470c-9974-93356d5aa391",
   "metadata": {},
   "source": [
    "Como está enmascarando la función `read.table()` podemos usar los mismos argumentos que esta admite.\n",
    "\n",
    "Otro elemento a considerar en la importación de los datos es el tipo de dato. Este formato es asignado por defecto pero puede que en ocasiones queramos cambiarlo. Podemos hacerlo desde la propia importación de datos usando el argumento *colClasses*, indicando la variable y su tipo."
   ]
  },
  {
   "cell_type": "markdown",
   "id": "d8d3983b-9325-4249-bf50-efc16134dab3",
   "metadata": {},
   "source": [
    "**Ejemplo:** Importar el archivo anterior pero con la columnas de años como texto en lugar de números."
   ]
  },
  {
   "cell_type": "code",
   "execution_count": 5,
   "id": "28a05128-34e5-4290-bc4e-34ec30a21c18",
   "metadata": {},
   "outputs": [],
   "source": [
    "df <- read.delim(file = 'data/title_basics.tsv',\n",
    "                 quote = '', # no tengo calificadores\n",
    "                 na.strings = 'null', # caracteres nulos\n",
    "                 encoding = 'UTF-8', # codificación\n",
    "                 colClasses = c('startYear'='character')) # forzamos que los años sean texto"
   ]
  },
  {
   "cell_type": "markdown",
   "id": "1f75734b-f362-4d92-8f01-e544027c00b2",
   "metadata": {},
   "source": [
    "En línea con ello, también podemos hacer que las variables de tipo texto sean reconocidas como factores con el argumento *stringsAsFactors*. Esta opción hasta hace unos años venía activada por defecto."
   ]
  },
  {
   "cell_type": "markdown",
   "id": "05e74699-e83c-4e48-9e2e-67326b682808",
   "metadata": {},
   "source": [
    "**Ejemplo:** Importar el archivo anterior pero con las variables de texto como factores."
   ]
  },
  {
   "cell_type": "code",
   "execution_count": 6,
   "id": "09fdd727-0078-4261-9bdc-0c6762c910a2",
   "metadata": {},
   "outputs": [],
   "source": [
    "df <- read.delim(file = 'data/title_basics.tsv',\n",
    "                 quote = '', # no tengo calificadores\n",
    "                 na.strings = 'null', # caracteres nulos\n",
    "                 encoding = 'UTF-8', # codificación\n",
    "                 stringsAsFactors = TRUE) # texto como factores"
   ]
  },
  {
   "cell_type": "markdown",
   "id": "92fd064d-01f4-44fe-9526-c921f889d170",
   "metadata": {},
   "source": [
    "## fread()"
   ]
  },
  {
   "cell_type": "markdown",
   "id": "a6d876d2-4367-446d-94f4-330b3c01db3d",
   "metadata": {},
   "source": [
    "Existen funciones en otros paquetes que facilitan aún más este trabajo, como es el caso de `fread()` del paquete `data.table`. Esta función es más rápida y directamente reconoce el delimitador, aunque es recomendable curarse en salud e indicarlo. A grandes rasgos, los argumentos de `read.table()` también están presentes aquí, por lo que es muy fácil trabajar con esta función."
   ]
  },
  {
   "cell_type": "markdown",
   "id": "d65e1f79-4367-4f94-80a7-e0036f0dc284",
   "metadata": {},
   "source": [
    "**Ejemplo:** Importar el archivo anterior con la información básica de películas con `fread()`."
   ]
  },
  {
   "cell_type": "code",
   "execution_count": 7,
   "id": "04ad4843-0961-4f44-9c1d-3081890a7868",
   "metadata": {},
   "outputs": [],
   "source": [
    "df <- fread(file = 'data/title_basics.tsv',\n",
    "            quote = '', # no tengo calificadores\n",
    "            na.strings = 'null', # caracteres nulos\n",
    "            encoding = 'UTF-8') # codificación"
   ]
  },
  {
   "cell_type": "markdown",
   "id": "a985784e-55eb-4442-9994-e58367fe76e0",
   "metadata": {},
   "source": [
    "Sin embargo, hay un aspecto a tener en cuenta. Esta función por defecto importa los datos como tipo *data.table* en lugar de *data.frame*. Este formato es más ágil y avanzado, pero puedes hacer que se importe como *data.frame* con el argumento *data.table*. En nuestro caso trabajaremos con *data.frame* por ser un curso introductorio."
   ]
  },
  {
   "cell_type": "code",
   "execution_count": 9,
   "id": "1cbf5752-0a3c-49ea-a6c2-f4b9b67e5d30",
   "metadata": {},
   "outputs": [],
   "source": [
    "df <- fread(file = 'data/title_basics.tsv',\n",
    "            quote = '', # no tengo calificadores\n",
    "            na.strings = 'null', # caracteres nulos\n",
    "            encoding = 'UTF-8', # codificación\n",
    "            data.table = FALSE) # data.table o data.frame"
   ]
  },
  {
   "cell_type": "markdown",
   "id": "e5e242c1-4feb-45a1-bbee-e4075ab3ad40",
   "metadata": {},
   "source": [
    "# Jugando con los datos"
   ]
  },
  {
   "cell_type": "markdown",
   "id": "e18d2374-5ec2-4c5a-a444-054869e29b4c",
   "metadata": {},
   "source": [
    "Una vez importados los datos podemos realizar diferentes procesos con ellos para filtrarlos, combinarlos... A lo largo de esta sección trabajaremos con las opciones base de R así como con el paquete `dplyr`."
   ]
  },
  {
   "cell_type": "markdown",
   "id": "e60c1de2-ceb0-42ba-ab4c-900f871fabf7",
   "metadata": {},
   "source": [
    "## Consideraciones previas"
   ]
  },
  {
   "cell_type": "markdown",
   "id": "fd99c8f2-5734-47d9-a1d2-532a603dee78",
   "metadata": {},
   "source": [
    "-   Lo habitual al realizar alguna manipulación de datos es almacenar el *data.frame* resultante en una nueva variable o sustituir la actual. Si no estás muy segura/o del resultado de la operación o crees que más adelante tendrás que volver al conjunto original crea una variable nueva.\n",
    "\n",
    "-   En el caso de `dplyr`, es posible realizar varias operaciones consecutivas de forma ágil. Este paquete habilita el operador pipe (%\\>%) que facilita este proceso. Más adelante veremos su funcionamiento."
   ]
  },
  {
   "cell_type": "markdown",
   "id": "8a075321-9b5f-438a-89c7-77a522d66aea",
   "metadata": {},
   "source": [
    "## Ordenar filas"
   ]
  },
  {
   "cell_type": "markdown",
   "id": "3ced681b-1cf5-49f9-a49d-930f967941ef",
   "metadata": {},
   "source": [
    "Una primera operación sencilla y básica es ordenar filas en base a los valores de una columna. La forma básica es a través de la función `order()`. indicando la columna y con el argumento *decreasing* si queremos ordenar de manera ascendente o descendente. Si no lo indicamos por defecto lo hace ascendente."
   ]
  },
  {
   "cell_type": "markdown",
   "id": "6be61a0a-4a71-49b5-a946-77032901a28c",
   "metadata": {},
   "source": [
    "**Ejemplo:** Ordenar el *data.frame* por *startYear* en orden descendente."
   ]
  },
  {
   "cell_type": "code",
   "execution_count": 10,
   "id": "f3452b5b-f2f7-4ba8-9ab1-e874979f73e3",
   "metadata": {},
   "outputs": [
    {
     "data": {
      "text/html": [
       "<table>\n",
       "<thead><tr><th></th><th scope=col>tconst</th><th scope=col>titleType</th><th scope=col>primaryTitle</th><th scope=col>originalTitle</th><th scope=col>isAdult</th><th scope=col>startYear</th><th scope=col>runtimeMinutes</th><th scope=col>genres</th></tr></thead>\n",
       "<tbody>\n",
       "\t<tr><th scope=row>17</th><td>tt0082473             </td><td>short                 </td><td>The Great Barrier Reef</td><td>Great Barrier Reef    </td><td>0                     </td><td>1999                  </td><td> 39                   </td><td>Documentary,Short     </td></tr>\n",
       "\t<tr><th scope=row>4796</th><td>tt0104674             </td><td>tvMovie               </td><td>Lakota Moon           </td><td>Lakota Moon           </td><td>0                     </td><td>1999                  </td><td> 85                   </td><td>Western               </td></tr>\n",
       "\t<tr><th scope=row>9423</th><td>tt0110445             </td><td>movie                 </td><td>Making Waves          </td><td>Making Waves          </td><td>0                     </td><td>1999                  </td><td>105                   </td><td>Comedy,Fantasy        </td></tr>\n",
       "\t<tr><th scope=row>9987</th><td>tt0111068             </td><td>movie                 </td><td>Sangharsh             </td><td>Sangharsh             </td><td>0                     </td><td>1999                  </td><td>127                   </td><td>Action,Crime,Drama    </td></tr>\n",
       "\t<tr><th scope=row>10300</th><td>tt0111427             </td><td>movie                 </td><td>Tiden är en dröm      </td><td>Tiden är en dröm      </td><td>0                     </td><td>1999                  </td><td>125                   </td><td>Documentary,History   </td></tr>\n",
       "\t<tr><th scope=row>10897</th><td>tt0112444             </td><td>movie                 </td><td>My Teacher's Wife     </td><td>My Teacher's Wife     </td><td>0                     </td><td>1999                  </td><td> 89                   </td><td>Comedy,Romance        </td></tr>\n",
       "</tbody>\n",
       "</table>\n"
      ],
      "text/latex": [
       "\\begin{tabular}{r|llllllll}\n",
       "  & tconst & titleType & primaryTitle & originalTitle & isAdult & startYear & runtimeMinutes & genres\\\\\n",
       "\\hline\n",
       "\t17 & tt0082473              & short                  & The Great Barrier Reef & Great Barrier Reef     & 0                      & 1999                   &  39                    & Documentary,Short     \\\\\n",
       "\t4796 & tt0104674              & tvMovie                & Lakota Moon            & Lakota Moon            & 0                      & 1999                   &  85                    & Western               \\\\\n",
       "\t9423 & tt0110445              & movie                  & Making Waves           & Making Waves           & 0                      & 1999                   & 105                    & Comedy,Fantasy        \\\\\n",
       "\t9987 & tt0111068              & movie                  & Sangharsh              & Sangharsh              & 0                      & 1999                   & 127                    & Action,Crime,Drama    \\\\\n",
       "\t10300 & tt0111427              & movie                  & Tiden är en dröm       & Tiden är en dröm       & 0                      & 1999                   & 125                    & Documentary,History   \\\\\n",
       "\t10897 & tt0112444              & movie                  & My Teacher's Wife      & My Teacher's Wife      & 0                      & 1999                   &  89                    & Comedy,Romance        \\\\\n",
       "\\end{tabular}\n"
      ],
      "text/markdown": [
       "\n",
       "| <!--/--> | tconst | titleType | primaryTitle | originalTitle | isAdult | startYear | runtimeMinutes | genres |\n",
       "|---|---|---|---|---|---|---|---|---|\n",
       "| 17 | tt0082473              | short                  | The Great Barrier Reef | Great Barrier Reef     | 0                      | 1999                   |  39                    | Documentary,Short      |\n",
       "| 4796 | tt0104674              | tvMovie                | Lakota Moon            | Lakota Moon            | 0                      | 1999                   |  85                    | Western                |\n",
       "| 9423 | tt0110445              | movie                  | Making Waves           | Making Waves           | 0                      | 1999                   | 105                    | Comedy,Fantasy         |\n",
       "| 9987 | tt0111068              | movie                  | Sangharsh              | Sangharsh              | 0                      | 1999                   | 127                    | Action,Crime,Drama     |\n",
       "| 10300 | tt0111427              | movie                  | Tiden är en dröm       | Tiden är en dröm       | 0                      | 1999                   | 125                    | Documentary,History    |\n",
       "| 10897 | tt0112444              | movie                  | My Teacher's Wife      | My Teacher's Wife      | 0                      | 1999                   |  89                    | Comedy,Romance         |\n",
       "\n"
      ],
      "text/plain": [
       "      tconst    titleType primaryTitle           originalTitle      isAdult\n",
       "17    tt0082473 short     The Great Barrier Reef Great Barrier Reef 0      \n",
       "4796  tt0104674 tvMovie   Lakota Moon            Lakota Moon        0      \n",
       "9423  tt0110445 movie     Making Waves           Making Waves       0      \n",
       "9987  tt0111068 movie     Sangharsh              Sangharsh          0      \n",
       "10300 tt0111427 movie     Tiden är en dröm       Tiden är en dröm   0      \n",
       "10897 tt0112444 movie     My Teacher's Wife      My Teacher's Wife  0      \n",
       "      startYear runtimeMinutes genres             \n",
       "17    1999       39            Documentary,Short  \n",
       "4796  1999       85            Western            \n",
       "9423  1999      105            Comedy,Fantasy     \n",
       "9987  1999      127            Action,Crime,Drama \n",
       "10300 1999      125            Documentary,History\n",
       "10897 1999       89            Comedy,Romance     "
      ]
     },
     "metadata": {},
     "output_type": "display_data"
    }
   ],
   "source": [
    "df_filtrado <- df[order(df$startYear, decreasing = TRUE),]\n",
    "head(df_filtrado)"
   ]
  },
  {
   "cell_type": "markdown",
   "id": "919d4f67-fe5e-48d2-8793-c8520ed9c18c",
   "metadata": {},
   "source": [
    "En el caso de `dplyr` podemos hacerlo con la función `arrange()`. En este caso si a continuación incluimos el nombre de la variable ordenamos de manera ascendente, pero si queremos de forma descendente tenemos incluir la variable dentro de la función `desc()`. Fíjate que las variables se indican directamente sin nada más, ni siquiera comillas, esto es algo que se va a repetir en este paquete."
   ]
  },
  {
   "cell_type": "markdown",
   "id": "d150ce52-1464-4839-9cc5-4d134a4f58ce",
   "metadata": {},
   "source": [
    "**Ejemplo:** Ordenar el *data.frame* por *startYear* en orden descendente con `dplyr`."
   ]
  },
  {
   "cell_type": "code",
   "execution_count": 11,
   "id": "f398996d-163b-4eb9-8dee-74092b487fb3",
   "metadata": {},
   "outputs": [
    {
     "data": {
      "text/html": [
       "<table>\n",
       "<thead><tr><th scope=col>tconst</th><th scope=col>titleType</th><th scope=col>primaryTitle</th><th scope=col>originalTitle</th><th scope=col>isAdult</th><th scope=col>startYear</th><th scope=col>runtimeMinutes</th><th scope=col>genres</th></tr></thead>\n",
       "<tbody>\n",
       "\t<tr><td>tt0082473             </td><td>short                 </td><td>The Great Barrier Reef</td><td>Great Barrier Reef    </td><td>0                     </td><td>1999                  </td><td> 39                   </td><td>Documentary,Short     </td></tr>\n",
       "\t<tr><td>tt0104674             </td><td>tvMovie               </td><td>Lakota Moon           </td><td>Lakota Moon           </td><td>0                     </td><td>1999                  </td><td> 85                   </td><td>Western               </td></tr>\n",
       "\t<tr><td>tt0110445             </td><td>movie                 </td><td>Making Waves          </td><td>Making Waves          </td><td>0                     </td><td>1999                  </td><td>105                   </td><td>Comedy,Fantasy        </td></tr>\n",
       "\t<tr><td>tt0111068             </td><td>movie                 </td><td>Sangharsh             </td><td>Sangharsh             </td><td>0                     </td><td>1999                  </td><td>127                   </td><td>Action,Crime,Drama    </td></tr>\n",
       "\t<tr><td>tt0111427             </td><td>movie                 </td><td>Tiden är en dröm      </td><td>Tiden är en dröm      </td><td>0                     </td><td>1999                  </td><td>125                   </td><td>Documentary,History   </td></tr>\n",
       "\t<tr><td>tt0112444             </td><td>movie                 </td><td>My Teacher's Wife     </td><td>My Teacher's Wife     </td><td>0                     </td><td>1999                  </td><td> 89                   </td><td>Comedy,Romance        </td></tr>\n",
       "</tbody>\n",
       "</table>\n"
      ],
      "text/latex": [
       "\\begin{tabular}{r|llllllll}\n",
       " tconst & titleType & primaryTitle & originalTitle & isAdult & startYear & runtimeMinutes & genres\\\\\n",
       "\\hline\n",
       "\t tt0082473              & short                  & The Great Barrier Reef & Great Barrier Reef     & 0                      & 1999                   &  39                    & Documentary,Short     \\\\\n",
       "\t tt0104674              & tvMovie                & Lakota Moon            & Lakota Moon            & 0                      & 1999                   &  85                    & Western               \\\\\n",
       "\t tt0110445              & movie                  & Making Waves           & Making Waves           & 0                      & 1999                   & 105                    & Comedy,Fantasy        \\\\\n",
       "\t tt0111068              & movie                  & Sangharsh              & Sangharsh              & 0                      & 1999                   & 127                    & Action,Crime,Drama    \\\\\n",
       "\t tt0111427              & movie                  & Tiden är en dröm       & Tiden är en dröm       & 0                      & 1999                   & 125                    & Documentary,History   \\\\\n",
       "\t tt0112444              & movie                  & My Teacher's Wife      & My Teacher's Wife      & 0                      & 1999                   &  89                    & Comedy,Romance        \\\\\n",
       "\\end{tabular}\n"
      ],
      "text/markdown": [
       "\n",
       "| tconst | titleType | primaryTitle | originalTitle | isAdult | startYear | runtimeMinutes | genres |\n",
       "|---|---|---|---|---|---|---|---|\n",
       "| tt0082473              | short                  | The Great Barrier Reef | Great Barrier Reef     | 0                      | 1999                   |  39                    | Documentary,Short      |\n",
       "| tt0104674              | tvMovie                | Lakota Moon            | Lakota Moon            | 0                      | 1999                   |  85                    | Western                |\n",
       "| tt0110445              | movie                  | Making Waves           | Making Waves           | 0                      | 1999                   | 105                    | Comedy,Fantasy         |\n",
       "| tt0111068              | movie                  | Sangharsh              | Sangharsh              | 0                      | 1999                   | 127                    | Action,Crime,Drama     |\n",
       "| tt0111427              | movie                  | Tiden är en dröm       | Tiden är en dröm       | 0                      | 1999                   | 125                    | Documentary,History    |\n",
       "| tt0112444              | movie                  | My Teacher's Wife      | My Teacher's Wife      | 0                      | 1999                   |  89                    | Comedy,Romance         |\n",
       "\n"
      ],
      "text/plain": [
       "  tconst    titleType primaryTitle           originalTitle      isAdult\n",
       "1 tt0082473 short     The Great Barrier Reef Great Barrier Reef 0      \n",
       "2 tt0104674 tvMovie   Lakota Moon            Lakota Moon        0      \n",
       "3 tt0110445 movie     Making Waves           Making Waves       0      \n",
       "4 tt0111068 movie     Sangharsh              Sangharsh          0      \n",
       "5 tt0111427 movie     Tiden är en dröm       Tiden är en dröm   0      \n",
       "6 tt0112444 movie     My Teacher's Wife      My Teacher's Wife  0      \n",
       "  startYear runtimeMinutes genres             \n",
       "1 1999       39            Documentary,Short  \n",
       "2 1999       85            Western            \n",
       "3 1999      105            Comedy,Fantasy     \n",
       "4 1999      127            Action,Crime,Drama \n",
       "5 1999      125            Documentary,History\n",
       "6 1999       89            Comedy,Romance     "
      ]
     },
     "metadata": {},
     "output_type": "display_data"
    }
   ],
   "source": [
    "df_filtrado <- arrange(df, desc(startYear))\n",
    "head(df_filtrado)"
   ]
  },
  {
   "cell_type": "markdown",
   "id": "2d843929-a3ce-42b8-b525-5d329317e45e",
   "metadata": {},
   "source": [
    "## Selección de columnas"
   ]
  },
  {
   "cell_type": "markdown",
   "id": "29e63143-e924-4d05-b6eb-6fcea0627717",
   "metadata": {},
   "source": [
    "La selección de columnas puede hacerse indicando directamente el nombre de la/s columna/s que queremos seleccionar o el índice de su posición en el *data.frame*. Es útil además para cambiar el orden de las columnas."
   ]
  },
  {
   "cell_type": "markdown",
   "id": "98ce3ddc-bd5e-452b-97e0-4ff1e627f03f",
   "metadata": {},
   "source": [
    "**Ejemplo:** Seleccionar las variables *primaryTitle* y *titleType* (en este orden)."
   ]
  },
  {
   "cell_type": "code",
   "execution_count": 12,
   "id": "202c6025-cab4-423f-ac56-b22cb26ea3a3",
   "metadata": {},
   "outputs": [
    {
     "data": {
      "text/html": [
       "<table>\n",
       "<thead><tr><th scope=col>primaryTitle</th><th scope=col>titleType</th></tr></thead>\n",
       "<tbody>\n",
       "\t<tr><td>Dama de noche                 </td><td>movie                         </td></tr>\n",
       "\t<tr><td>Shiva und die Galgenblume     </td><td>movie                         </td></tr>\n",
       "\t<tr><td>Crossroads of Laredo          </td><td>short                         </td></tr>\n",
       "\t<tr><td>Born in '45                   </td><td>movie                         </td></tr>\n",
       "\t<tr><td>Wenn du groß bist, lieber Adam</td><td>movie                         </td></tr>\n",
       "\t<tr><td>Vojtech, receny sirotek       </td><td>movie                         </td></tr>\n",
       "</tbody>\n",
       "</table>\n"
      ],
      "text/latex": [
       "\\begin{tabular}{r|ll}\n",
       " primaryTitle & titleType\\\\\n",
       "\\hline\n",
       "\t Dama de noche                  & movie                         \\\\\n",
       "\t Shiva und die Galgenblume      & movie                         \\\\\n",
       "\t Crossroads of Laredo           & short                         \\\\\n",
       "\t Born in '45                    & movie                         \\\\\n",
       "\t Wenn du groß bist, lieber Adam & movie                         \\\\\n",
       "\t Vojtech, receny sirotek        & movie                         \\\\\n",
       "\\end{tabular}\n"
      ],
      "text/markdown": [
       "\n",
       "| primaryTitle | titleType |\n",
       "|---|---|\n",
       "| Dama de noche                  | movie                          |\n",
       "| Shiva und die Galgenblume      | movie                          |\n",
       "| Crossroads of Laredo           | short                          |\n",
       "| Born in '45                    | movie                          |\n",
       "| Wenn du groß bist, lieber Adam | movie                          |\n",
       "| Vojtech, receny sirotek        | movie                          |\n",
       "\n"
      ],
      "text/plain": [
       "  primaryTitle                   titleType\n",
       "1 Dama de noche                  movie    \n",
       "2 Shiva und die Galgenblume      movie    \n",
       "3 Crossroads of Laredo           short    \n",
       "4 Born in '45                    movie    \n",
       "5 Wenn du groß bist, lieber Adam movie    \n",
       "6 Vojtech, receny sirotek        movie    "
      ]
     },
     "metadata": {},
     "output_type": "display_data"
    }
   ],
   "source": [
    "df_filtrado <- df[,c('primaryTitle', 'titleType')]\n",
    "df_filtrado <- df[,c(3,2)] # igual que el anterior pero con el índice\n",
    "head(df_filtrado)"
   ]
  },
  {
   "cell_type": "markdown",
   "id": "10fe2d4f-5ab3-4ef6-9b13-96e3dfee584f",
   "metadata": {},
   "source": [
    "En el caso de `dplyr` podemos hacerlo con la función `select()`, indicando primero el *data.frame* a filtrar y tras ello el nombre de las diferentes variables."
   ]
  },
  {
   "cell_type": "markdown",
   "id": "962179c2-ff33-4f89-86bc-7a5dcde695d1",
   "metadata": {},
   "source": [
    "**Ejemplo:** Seleccionar las variables *primaryTitle* y *titleType* (en este orden) con `dplyr`."
   ]
  },
  {
   "cell_type": "code",
   "execution_count": 13,
   "id": "7ebab044-07ca-47b3-a184-77311b68b369",
   "metadata": {},
   "outputs": [
    {
     "data": {
      "text/html": [
       "<table>\n",
       "<thead><tr><th scope=col>primaryTitle</th><th scope=col>titleType</th></tr></thead>\n",
       "<tbody>\n",
       "\t<tr><td>Dama de noche                 </td><td>movie                         </td></tr>\n",
       "\t<tr><td>Shiva und die Galgenblume     </td><td>movie                         </td></tr>\n",
       "\t<tr><td>Crossroads of Laredo          </td><td>short                         </td></tr>\n",
       "\t<tr><td>Born in '45                   </td><td>movie                         </td></tr>\n",
       "\t<tr><td>Wenn du groß bist, lieber Adam</td><td>movie                         </td></tr>\n",
       "\t<tr><td>Vojtech, receny sirotek       </td><td>movie                         </td></tr>\n",
       "</tbody>\n",
       "</table>\n"
      ],
      "text/latex": [
       "\\begin{tabular}{r|ll}\n",
       " primaryTitle & titleType\\\\\n",
       "\\hline\n",
       "\t Dama de noche                  & movie                         \\\\\n",
       "\t Shiva und die Galgenblume      & movie                         \\\\\n",
       "\t Crossroads of Laredo           & short                         \\\\\n",
       "\t Born in '45                    & movie                         \\\\\n",
       "\t Wenn du groß bist, lieber Adam & movie                         \\\\\n",
       "\t Vojtech, receny sirotek        & movie                         \\\\\n",
       "\\end{tabular}\n"
      ],
      "text/markdown": [
       "\n",
       "| primaryTitle | titleType |\n",
       "|---|---|\n",
       "| Dama de noche                  | movie                          |\n",
       "| Shiva und die Galgenblume      | movie                          |\n",
       "| Crossroads of Laredo           | short                          |\n",
       "| Born in '45                    | movie                          |\n",
       "| Wenn du groß bist, lieber Adam | movie                          |\n",
       "| Vojtech, receny sirotek        | movie                          |\n",
       "\n"
      ],
      "text/plain": [
       "  primaryTitle                   titleType\n",
       "1 Dama de noche                  movie    \n",
       "2 Shiva und die Galgenblume      movie    \n",
       "3 Crossroads of Laredo           short    \n",
       "4 Born in '45                    movie    \n",
       "5 Wenn du groß bist, lieber Adam movie    \n",
       "6 Vojtech, receny sirotek        movie    "
      ]
     },
     "metadata": {},
     "output_type": "display_data"
    }
   ],
   "source": [
    "df_filtrado <- select(df, primaryTitle, titleType)\n",
    "head(df_filtrado)"
   ]
  },
  {
   "cell_type": "markdown",
   "id": "6b41f3bf-ebec-4f01-a878-f3320ad2f64c",
   "metadata": {},
   "source": [
    "## Selección de casos"
   ]
  },
  {
   "cell_type": "markdown",
   "id": "89aae186-8597-451b-898e-7dbd04faec89",
   "metadata": {},
   "source": [
    "### Posición"
   ]
  },
  {
   "cell_type": "markdown",
   "id": "71f9db8c-f72f-409a-b561-c5063ff80455",
   "metadata": {},
   "source": [
    "La selección de casos puede hacerse indicando directamente el nombre de la/s fila/s (si lo tiene) o, lo más habitual, el índice de su posición en el *data.frame*."
   ]
  },
  {
   "cell_type": "markdown",
   "id": "44b80890-0fab-4a7b-aff9-4e6aa1404e9d",
   "metadata": {},
   "source": [
    "**Ejemplo:** Seleccionar las filas de la posición 100 a la 200."
   ]
  },
  {
   "cell_type": "code",
   "execution_count": 14,
   "id": "e2e0fc2d-d78e-4f1a-8cff-feb96b1bb4fd",
   "metadata": {},
   "outputs": [
    {
     "data": {
      "text/html": [
       "<table>\n",
       "<thead><tr><th></th><th scope=col>tconst</th><th scope=col>titleType</th><th scope=col>primaryTitle</th><th scope=col>originalTitle</th><th scope=col>isAdult</th><th scope=col>startYear</th><th scope=col>runtimeMinutes</th><th scope=col>genres</th></tr></thead>\n",
       "<tbody>\n",
       "\t<tr><th scope=row>100</th><td>tt0096154                         </td><td>movie                             </td><td>Spies Inc.                        </td><td>Spies Inc.                        </td><td>0                                 </td><td>1992                              </td><td>93                                </td><td>Adventure,Comedy                  </td></tr>\n",
       "\t<tr><th scope=row>101</th><td>tt0096174                         </td><td>movie                             </td><td>Stela                             </td><td>Stela                             </td><td>0                                 </td><td>1990                              </td><td>86                                </td><td>Drama                             </td></tr>\n",
       "\t<tr><th scope=row>102</th><td>tt0096177                         </td><td>movie                             </td><td>Still Life: The Fine Art of Murder</td><td>Still Life                        </td><td>0                                 </td><td>1990                              </td><td>83                                </td><td>Mystery,Thriller                  </td></tr>\n",
       "\t<tr><th scope=row>103</th><td>tt0096222                         </td><td>movie                             </td><td>To Miss with Love                 </td><td>Tao xue wai zhuan                 </td><td>0                                 </td><td>1992                              </td><td>90                                </td><td>Comedy,Drama                      </td></tr>\n",
       "\t<tr><th scope=row>104</th><td>tt0096254                         </td><td>short                             </td><td>That Burning Question             </td><td>That Burning Question             </td><td>0                                 </td><td>1990                              </td><td>30                                </td><td>Short                             </td></tr>\n",
       "\t<tr><th scope=row>105</th><td>tt0096345                         </td><td>short                             </td><td>Unter Freunden                    </td><td>Unter Freunden                    </td><td>0                                 </td><td>1990                              </td><td>15                                </td><td>Short                             </td></tr>\n",
       "</tbody>\n",
       "</table>\n"
      ],
      "text/latex": [
       "\\begin{tabular}{r|llllllll}\n",
       "  & tconst & titleType & primaryTitle & originalTitle & isAdult & startYear & runtimeMinutes & genres\\\\\n",
       "\\hline\n",
       "\t100 & tt0096154                          & movie                              & Spies Inc.                         & Spies Inc.                         & 0                                  & 1992                               & 93                                 & Adventure,Comedy                  \\\\\n",
       "\t101 & tt0096174                          & movie                              & Stela                              & Stela                              & 0                                  & 1990                               & 86                                 & Drama                             \\\\\n",
       "\t102 & tt0096177                          & movie                              & Still Life: The Fine Art of Murder & Still Life                         & 0                                  & 1990                               & 83                                 & Mystery,Thriller                  \\\\\n",
       "\t103 & tt0096222                          & movie                              & To Miss with Love                  & Tao xue wai zhuan                  & 0                                  & 1992                               & 90                                 & Comedy,Drama                      \\\\\n",
       "\t104 & tt0096254                          & short                              & That Burning Question              & That Burning Question              & 0                                  & 1990                               & 30                                 & Short                             \\\\\n",
       "\t105 & tt0096345                          & short                              & Unter Freunden                     & Unter Freunden                     & 0                                  & 1990                               & 15                                 & Short                             \\\\\n",
       "\\end{tabular}\n"
      ],
      "text/markdown": [
       "\n",
       "| <!--/--> | tconst | titleType | primaryTitle | originalTitle | isAdult | startYear | runtimeMinutes | genres |\n",
       "|---|---|---|---|---|---|---|---|---|\n",
       "| 100 | tt0096154                          | movie                              | Spies Inc.                         | Spies Inc.                         | 0                                  | 1992                               | 93                                 | Adventure,Comedy                   |\n",
       "| 101 | tt0096174                          | movie                              | Stela                              | Stela                              | 0                                  | 1990                               | 86                                 | Drama                              |\n",
       "| 102 | tt0096177                          | movie                              | Still Life: The Fine Art of Murder | Still Life                         | 0                                  | 1990                               | 83                                 | Mystery,Thriller                   |\n",
       "| 103 | tt0096222                          | movie                              | To Miss with Love                  | Tao xue wai zhuan                  | 0                                  | 1992                               | 90                                 | Comedy,Drama                       |\n",
       "| 104 | tt0096254                          | short                              | That Burning Question              | That Burning Question              | 0                                  | 1990                               | 30                                 | Short                              |\n",
       "| 105 | tt0096345                          | short                              | Unter Freunden                     | Unter Freunden                     | 0                                  | 1990                               | 15                                 | Short                              |\n",
       "\n"
      ],
      "text/plain": [
       "    tconst    titleType primaryTitle                      \n",
       "100 tt0096154 movie     Spies Inc.                        \n",
       "101 tt0096174 movie     Stela                             \n",
       "102 tt0096177 movie     Still Life: The Fine Art of Murder\n",
       "103 tt0096222 movie     To Miss with Love                 \n",
       "104 tt0096254 short     That Burning Question             \n",
       "105 tt0096345 short     Unter Freunden                    \n",
       "    originalTitle         isAdult startYear runtimeMinutes genres          \n",
       "100 Spies Inc.            0       1992      93             Adventure,Comedy\n",
       "101 Stela                 0       1990      86             Drama           \n",
       "102 Still Life            0       1990      83             Mystery,Thriller\n",
       "103 Tao xue wai zhuan     0       1992      90             Comedy,Drama    \n",
       "104 That Burning Question 0       1990      30             Short           \n",
       "105 Unter Freunden        0       1990      15             Short           "
      ]
     },
     "metadata": {},
     "output_type": "display_data"
    }
   ],
   "source": [
    "df_filtrado <- df[c(100:200),]\n",
    "head(df_filtrado)"
   ]
  },
  {
   "cell_type": "markdown",
   "id": "8d8a0d80-2356-4c0c-960a-10ad820104b2",
   "metadata": {},
   "source": [
    "En el caso de `dplyr` podemos hacerlo con la función `slice()`, indicando primero el *data.frame* y después la posición."
   ]
  },
  {
   "cell_type": "markdown",
   "id": "b377091d-1039-4f22-850e-96fc9b0a0c38",
   "metadata": {},
   "source": [
    "**Ejemplo:** Seleccionar las filas de la posición 100 a la 200 con `dplyr`.df_filtrado <- slice(df, 100:200)\n",
    "head(df_filtrado)"
   ]
  },
  {
   "cell_type": "code",
   "execution_count": 15,
   "id": "59f1979b-3e38-47a5-ab11-051a7fc561f6",
   "metadata": {},
   "outputs": [
    {
     "data": {
      "text/html": [
       "<table>\n",
       "<thead><tr><th scope=col>tconst</th><th scope=col>titleType</th><th scope=col>primaryTitle</th><th scope=col>originalTitle</th><th scope=col>isAdult</th><th scope=col>startYear</th><th scope=col>runtimeMinutes</th><th scope=col>genres</th></tr></thead>\n",
       "<tbody>\n",
       "\t<tr><td>tt0096154                         </td><td>movie                             </td><td>Spies Inc.                        </td><td>Spies Inc.                        </td><td>0                                 </td><td>1992                              </td><td>93                                </td><td>Adventure,Comedy                  </td></tr>\n",
       "\t<tr><td>tt0096174                         </td><td>movie                             </td><td>Stela                             </td><td>Stela                             </td><td>0                                 </td><td>1990                              </td><td>86                                </td><td>Drama                             </td></tr>\n",
       "\t<tr><td>tt0096177                         </td><td>movie                             </td><td>Still Life: The Fine Art of Murder</td><td>Still Life                        </td><td>0                                 </td><td>1990                              </td><td>83                                </td><td>Mystery,Thriller                  </td></tr>\n",
       "\t<tr><td>tt0096222                         </td><td>movie                             </td><td>To Miss with Love                 </td><td>Tao xue wai zhuan                 </td><td>0                                 </td><td>1992                              </td><td>90                                </td><td>Comedy,Drama                      </td></tr>\n",
       "\t<tr><td>tt0096254                         </td><td>short                             </td><td>That Burning Question             </td><td>That Burning Question             </td><td>0                                 </td><td>1990                              </td><td>30                                </td><td>Short                             </td></tr>\n",
       "\t<tr><td>tt0096345                         </td><td>short                             </td><td>Unter Freunden                    </td><td>Unter Freunden                    </td><td>0                                 </td><td>1990                              </td><td>15                                </td><td>Short                             </td></tr>\n",
       "</tbody>\n",
       "</table>\n"
      ],
      "text/latex": [
       "\\begin{tabular}{r|llllllll}\n",
       " tconst & titleType & primaryTitle & originalTitle & isAdult & startYear & runtimeMinutes & genres\\\\\n",
       "\\hline\n",
       "\t tt0096154                          & movie                              & Spies Inc.                         & Spies Inc.                         & 0                                  & 1992                               & 93                                 & Adventure,Comedy                  \\\\\n",
       "\t tt0096174                          & movie                              & Stela                              & Stela                              & 0                                  & 1990                               & 86                                 & Drama                             \\\\\n",
       "\t tt0096177                          & movie                              & Still Life: The Fine Art of Murder & Still Life                         & 0                                  & 1990                               & 83                                 & Mystery,Thriller                  \\\\\n",
       "\t tt0096222                          & movie                              & To Miss with Love                  & Tao xue wai zhuan                  & 0                                  & 1992                               & 90                                 & Comedy,Drama                      \\\\\n",
       "\t tt0096254                          & short                              & That Burning Question              & That Burning Question              & 0                                  & 1990                               & 30                                 & Short                             \\\\\n",
       "\t tt0096345                          & short                              & Unter Freunden                     & Unter Freunden                     & 0                                  & 1990                               & 15                                 & Short                             \\\\\n",
       "\\end{tabular}\n"
      ],
      "text/markdown": [
       "\n",
       "| tconst | titleType | primaryTitle | originalTitle | isAdult | startYear | runtimeMinutes | genres |\n",
       "|---|---|---|---|---|---|---|---|\n",
       "| tt0096154                          | movie                              | Spies Inc.                         | Spies Inc.                         | 0                                  | 1992                               | 93                                 | Adventure,Comedy                   |\n",
       "| tt0096174                          | movie                              | Stela                              | Stela                              | 0                                  | 1990                               | 86                                 | Drama                              |\n",
       "| tt0096177                          | movie                              | Still Life: The Fine Art of Murder | Still Life                         | 0                                  | 1990                               | 83                                 | Mystery,Thriller                   |\n",
       "| tt0096222                          | movie                              | To Miss with Love                  | Tao xue wai zhuan                  | 0                                  | 1992                               | 90                                 | Comedy,Drama                       |\n",
       "| tt0096254                          | short                              | That Burning Question              | That Burning Question              | 0                                  | 1990                               | 30                                 | Short                              |\n",
       "| tt0096345                          | short                              | Unter Freunden                     | Unter Freunden                     | 0                                  | 1990                               | 15                                 | Short                              |\n",
       "\n"
      ],
      "text/plain": [
       "  tconst    titleType primaryTitle                       originalTitle        \n",
       "1 tt0096154 movie     Spies Inc.                         Spies Inc.           \n",
       "2 tt0096174 movie     Stela                              Stela                \n",
       "3 tt0096177 movie     Still Life: The Fine Art of Murder Still Life           \n",
       "4 tt0096222 movie     To Miss with Love                  Tao xue wai zhuan    \n",
       "5 tt0096254 short     That Burning Question              That Burning Question\n",
       "6 tt0096345 short     Unter Freunden                     Unter Freunden       \n",
       "  isAdult startYear runtimeMinutes genres          \n",
       "1 0       1992      93             Adventure,Comedy\n",
       "2 0       1990      86             Drama           \n",
       "3 0       1990      83             Mystery,Thriller\n",
       "4 0       1992      90             Comedy,Drama    \n",
       "5 0       1990      30             Short           \n",
       "6 0       1990      15             Short           "
      ]
     },
     "metadata": {},
     "output_type": "display_data"
    }
   ],
   "source": [
    "df_filtrado <- slice(df, 100:200)\n",
    "head(df_filtrado)"
   ]
  },
  {
   "cell_type": "markdown",
   "id": "189d0444-7066-409b-975a-bcf32f146c00",
   "metadata": {},
   "source": [
    "### Filtrar (lógico)"
   ]
  },
  {
   "cell_type": "markdown",
   "id": "73d66eef-cfb2-4258-8a97-c8969b3a8e7c",
   "metadata": {},
   "source": [
    "Es posible en ambos casos hacer la selección filtrando mediante criterios. De base puede hacerse con la función `which()` estableciendo criterios lógicos.\n",
    "\n",
    "Operadores lógicos comunes:\n",
    "\n",
    "-   **\\<** - menor que\n",
    "-   \\> - mayor que\n",
    "-   \\>= - mayor o igual que\n",
    "-   \\<= - menor o igual que\n",
    "-   ! - negación\n",
    "-   == - exactamente\n",
    "-   != - distinto\n",
    "-   %in% - pertenece a un grupo"
   ]
  },
  {
   "cell_type": "markdown",
   "id": "5e4f4a0e-9e22-4712-a1fc-006527300246",
   "metadata": {},
   "source": [
    "**Ejemplo:** Seleccionar las filas con un valor de *startYear* mayor a 1995.\n"
   ]
  },
  {
   "cell_type": "code",
   "execution_count": 16,
   "id": "7b7eae5e-b662-4ede-ad15-b9f10be3c1d4",
   "metadata": {},
   "outputs": [
    {
     "data": {
      "text/html": [
       "<table>\n",
       "<thead><tr><th></th><th scope=col>tconst</th><th scope=col>titleType</th><th scope=col>primaryTitle</th><th scope=col>originalTitle</th><th scope=col>isAdult</th><th scope=col>startYear</th><th scope=col>runtimeMinutes</th><th scope=col>genres</th></tr></thead>\n",
       "<tbody>\n",
       "\t<tr><th scope=row>17</th><td>tt0082473                      </td><td>short                          </td><td>The Great Barrier Reef         </td><td>Great Barrier Reef             </td><td>0                              </td><td>1999                           </td><td> 39                            </td><td>Documentary,Short              </td></tr>\n",
       "\t<tr><th scope=row>47</th><td>tt0093061                      </td><td>movie                          </td><td>Funkytown                      </td><td>Funkytown                      </td><td>0                              </td><td>1998                           </td><td> 82                            </td><td>Documentary,Music              </td></tr>\n",
       "\t<tr><th scope=row>86</th><td>tt0095469                      </td><td>movie                          </td><td>Ku jia tian xia                </td><td>Ku jia tian xia                </td><td>0                              </td><td>1998                           </td><td>102                            </td><td>Comedy                         </td></tr>\n",
       "\t<tr><th scope=row>155</th><td>tt0097066                      </td><td>movie                          </td><td>Citizen Tania                  </td><td>Citizen Tania                  </td><td>0                              </td><td>1997                           </td><td> 87                            </td><td>Crime,Drama                    </td></tr>\n",
       "\t<tr><th scope=row>197</th><td>tt0097566                      </td><td>movie                          </td><td>Im Süden meiner Seele          </td><td>Im Süden meiner Seele          </td><td>0                              </td><td>1996                           </td><td> NA                            </td><td>NA                             </td></tr>\n",
       "\t<tr><th scope=row>1023</th><td>tt0099840                      </td><td>movie                          </td><td>In the Shadow of the Sandcastle</td><td>In the Shadow of the Sandcastle</td><td>0                              </td><td>1996                           </td><td> 79                            </td><td>Crime,Drama                    </td></tr>\n",
       "</tbody>\n",
       "</table>\n"
      ],
      "text/latex": [
       "\\begin{tabular}{r|llllllll}\n",
       "  & tconst & titleType & primaryTitle & originalTitle & isAdult & startYear & runtimeMinutes & genres\\\\\n",
       "\\hline\n",
       "\t17 & tt0082473                       & short                           & The Great Barrier Reef          & Great Barrier Reef              & 0                               & 1999                            &  39                             & Documentary,Short              \\\\\n",
       "\t47 & tt0093061                       & movie                           & Funkytown                       & Funkytown                       & 0                               & 1998                            &  82                             & Documentary,Music              \\\\\n",
       "\t86 & tt0095469                       & movie                           & Ku jia tian xia                 & Ku jia tian xia                 & 0                               & 1998                            & 102                             & Comedy                         \\\\\n",
       "\t155 & tt0097066                       & movie                           & Citizen Tania                   & Citizen Tania                   & 0                               & 1997                            &  87                             & Crime,Drama                    \\\\\n",
       "\t197 & tt0097566                       & movie                           & Im Süden meiner Seele           & Im Süden meiner Seele           & 0                               & 1996                            &  NA                             & NA                             \\\\\n",
       "\t1023 & tt0099840                       & movie                           & In the Shadow of the Sandcastle & In the Shadow of the Sandcastle & 0                               & 1996                            &  79                             & Crime,Drama                    \\\\\n",
       "\\end{tabular}\n"
      ],
      "text/markdown": [
       "\n",
       "| <!--/--> | tconst | titleType | primaryTitle | originalTitle | isAdult | startYear | runtimeMinutes | genres |\n",
       "|---|---|---|---|---|---|---|---|---|\n",
       "| 17 | tt0082473                       | short                           | The Great Barrier Reef          | Great Barrier Reef              | 0                               | 1999                            |  39                             | Documentary,Short               |\n",
       "| 47 | tt0093061                       | movie                           | Funkytown                       | Funkytown                       | 0                               | 1998                            |  82                             | Documentary,Music               |\n",
       "| 86 | tt0095469                       | movie                           | Ku jia tian xia                 | Ku jia tian xia                 | 0                               | 1998                            | 102                             | Comedy                          |\n",
       "| 155 | tt0097066                       | movie                           | Citizen Tania                   | Citizen Tania                   | 0                               | 1997                            |  87                             | Crime,Drama                     |\n",
       "| 197 | tt0097566                       | movie                           | Im Süden meiner Seele           | Im Süden meiner Seele           | 0                               | 1996                            |  NA                             | NA                              |\n",
       "| 1023 | tt0099840                       | movie                           | In the Shadow of the Sandcastle | In the Shadow of the Sandcastle | 0                               | 1996                            |  79                             | Crime,Drama                     |\n",
       "\n"
      ],
      "text/plain": [
       "     tconst    titleType primaryTitle                   \n",
       "17   tt0082473 short     The Great Barrier Reef         \n",
       "47   tt0093061 movie     Funkytown                      \n",
       "86   tt0095469 movie     Ku jia tian xia                \n",
       "155  tt0097066 movie     Citizen Tania                  \n",
       "197  tt0097566 movie     Im Süden meiner Seele          \n",
       "1023 tt0099840 movie     In the Shadow of the Sandcastle\n",
       "     originalTitle                   isAdult startYear runtimeMinutes\n",
       "17   Great Barrier Reef              0       1999       39           \n",
       "47   Funkytown                       0       1998       82           \n",
       "86   Ku jia tian xia                 0       1998      102           \n",
       "155  Citizen Tania                   0       1997       87           \n",
       "197  Im Süden meiner Seele           0       1996       NA           \n",
       "1023 In the Shadow of the Sandcastle 0       1996       79           \n",
       "     genres           \n",
       "17   Documentary,Short\n",
       "47   Documentary,Music\n",
       "86   Comedy           \n",
       "155  Crime,Drama      \n",
       "197  NA               \n",
       "1023 Crime,Drama      "
      ]
     },
     "metadata": {},
     "output_type": "display_data"
    }
   ],
   "source": [
    "df_filtrado <- df[which(df$startYear > 1995),]\n",
    "head(df_filtrado)"
   ]
  },
  {
   "cell_type": "markdown",
   "id": "73def961-8dc1-4e5d-a0a2-6ab375e490e1",
   "metadata": {},
   "source": [
    "**Ejemplo:** Seleccionar las filas con un valor de *startYear* entre 1995 y 1997."
   ]
  },
  {
   "cell_type": "code",
   "execution_count": 18,
   "id": "793045ee-fbab-4595-8e84-50b6e53fc484",
   "metadata": {},
   "outputs": [
    {
     "data": {
      "text/html": [
       "<table>\n",
       "<thead><tr><th></th><th scope=col>tconst</th><th scope=col>titleType</th><th scope=col>primaryTitle</th><th scope=col>originalTitle</th><th scope=col>isAdult</th><th scope=col>startYear</th><th scope=col>runtimeMinutes</th><th scope=col>genres</th></tr></thead>\n",
       "<tbody>\n",
       "\t<tr><th scope=row>3</th><td>tt0040844              </td><td>short                  </td><td>Crossroads of Laredo   </td><td>Crossroads of Laredo   </td><td>0                      </td><td>1995                   </td><td>30                     </td><td>Short,Western          </td></tr>\n",
       "\t<tr><th scope=row>7</th><td>tt0067460              </td><td>movie                  </td><td>My Kingdom for...      </td><td>My Kingdom For...      </td><td>0                      </td><td>1995                   </td><td>85                     </td><td>Documentary,Sport      </td></tr>\n",
       "\t<tr><th scope=row>18</th><td>tt0082631              </td><td>tvMovie                </td><td>Short Working Day      </td><td>Krótki dzien pracy     </td><td>0                      </td><td>1995                   </td><td>73                     </td><td>Drama                  </td></tr>\n",
       "\t<tr><th scope=row>31</th><td>tt0089544              </td><td>tvMovie                </td><td>Man(n) sucht Frau      </td><td>Man(n) sucht Frau      </td><td>0                      </td><td>1995                   </td><td>85                     </td><td>Comedy                 </td></tr>\n",
       "\t<tr><th scope=row>32</th><td>tt0090000              </td><td>movie                  </td><td>Wet Sexes in the Sun   </td><td>Sexos húmedos al sol   </td><td>1                      </td><td>1995                   </td><td>NA                     </td><td>Adult                  </td></tr>\n",
       "\t<tr><th scope=row>76</th><td>tt0095102              </td><td>movie                  </td><td>Fallen Couple          </td><td>Les ennemis de la mafia</td><td>0                      </td><td>1995                   </td><td>87                     </td><td>Thriller               </td></tr>\n",
       "</tbody>\n",
       "</table>\n"
      ],
      "text/latex": [
       "\\begin{tabular}{r|llllllll}\n",
       "  & tconst & titleType & primaryTitle & originalTitle & isAdult & startYear & runtimeMinutes & genres\\\\\n",
       "\\hline\n",
       "\t3 & tt0040844               & short                   & Crossroads of Laredo    & Crossroads of Laredo    & 0                       & 1995                    & 30                      & Short,Western          \\\\\n",
       "\t7 & tt0067460               & movie                   & My Kingdom for...       & My Kingdom For...       & 0                       & 1995                    & 85                      & Documentary,Sport      \\\\\n",
       "\t18 & tt0082631               & tvMovie                 & Short Working Day       & Krótki dzien pracy      & 0                       & 1995                    & 73                      & Drama                  \\\\\n",
       "\t31 & tt0089544               & tvMovie                 & Man(n) sucht Frau       & Man(n) sucht Frau       & 0                       & 1995                    & 85                      & Comedy                 \\\\\n",
       "\t32 & tt0090000               & movie                   & Wet Sexes in the Sun    & Sexos húmedos al sol    & 1                       & 1995                    & NA                      & Adult                  \\\\\n",
       "\t76 & tt0095102               & movie                   & Fallen Couple           & Les ennemis de la mafia & 0                       & 1995                    & 87                      & Thriller               \\\\\n",
       "\\end{tabular}\n"
      ],
      "text/markdown": [
       "\n",
       "| <!--/--> | tconst | titleType | primaryTitle | originalTitle | isAdult | startYear | runtimeMinutes | genres |\n",
       "|---|---|---|---|---|---|---|---|---|\n",
       "| 3 | tt0040844               | short                   | Crossroads of Laredo    | Crossroads of Laredo    | 0                       | 1995                    | 30                      | Short,Western           |\n",
       "| 7 | tt0067460               | movie                   | My Kingdom for...       | My Kingdom For...       | 0                       | 1995                    | 85                      | Documentary,Sport       |\n",
       "| 18 | tt0082631               | tvMovie                 | Short Working Day       | Krótki dzien pracy      | 0                       | 1995                    | 73                      | Drama                   |\n",
       "| 31 | tt0089544               | tvMovie                 | Man(n) sucht Frau       | Man(n) sucht Frau       | 0                       | 1995                    | 85                      | Comedy                  |\n",
       "| 32 | tt0090000               | movie                   | Wet Sexes in the Sun    | Sexos húmedos al sol    | 1                       | 1995                    | NA                      | Adult                   |\n",
       "| 76 | tt0095102               | movie                   | Fallen Couple           | Les ennemis de la mafia | 0                       | 1995                    | 87                      | Thriller                |\n",
       "\n"
      ],
      "text/plain": [
       "   tconst    titleType primaryTitle         originalTitle           isAdult\n",
       "3  tt0040844 short     Crossroads of Laredo Crossroads of Laredo    0      \n",
       "7  tt0067460 movie     My Kingdom for...    My Kingdom For...       0      \n",
       "18 tt0082631 tvMovie   Short Working Day    Krótki dzien pracy      0      \n",
       "31 tt0089544 tvMovie   Man(n) sucht Frau    Man(n) sucht Frau       0      \n",
       "32 tt0090000 movie     Wet Sexes in the Sun Sexos húmedos al sol    1      \n",
       "76 tt0095102 movie     Fallen Couple        Les ennemis de la mafia 0      \n",
       "   startYear runtimeMinutes genres           \n",
       "3  1995      30             Short,Western    \n",
       "7  1995      85             Documentary,Sport\n",
       "18 1995      73             Drama            \n",
       "31 1995      85             Comedy           \n",
       "32 1995      NA             Adult            \n",
       "76 1995      87             Thriller         "
      ]
     },
     "metadata": {},
     "output_type": "display_data"
    }
   ],
   "source": [
    "df_filtrado <- df[which(df$startYear %in% c(1995:1997)),]\n",
    "head(df_filtrado)"
   ]
  },
  {
   "cell_type": "markdown",
   "id": "b630911f-7e14-4992-918d-6dc1d1b33544",
   "metadata": {},
   "source": [
    "En el caso de `dplyr` podemos hacerlo con la función `filter()`, indicando primero el *data.frame* y luego el criterio."
   ]
  },
  {
   "cell_type": "markdown",
   "id": "fd532cf2-9f6d-4f3a-89c6-76fcae80ea5d",
   "metadata": {},
   "source": [
    "**Ejemplo:** Seleccionar las filas con un valor de *startYear* mayor a 1995 con `dplyr`."
   ]
  },
  {
   "cell_type": "code",
   "execution_count": 19,
   "id": "bf5bdfc6-c7c3-4286-8435-574ffce51f27",
   "metadata": {},
   "outputs": [
    {
     "data": {
      "text/html": [
       "<table>\n",
       "<thead><tr><th scope=col>tconst</th><th scope=col>titleType</th><th scope=col>primaryTitle</th><th scope=col>originalTitle</th><th scope=col>isAdult</th><th scope=col>startYear</th><th scope=col>runtimeMinutes</th><th scope=col>genres</th></tr></thead>\n",
       "<tbody>\n",
       "\t<tr><td>tt0082473                      </td><td>short                          </td><td>The Great Barrier Reef         </td><td>Great Barrier Reef             </td><td>0                              </td><td>1999                           </td><td> 39                            </td><td>Documentary,Short              </td></tr>\n",
       "\t<tr><td>tt0093061                      </td><td>movie                          </td><td>Funkytown                      </td><td>Funkytown                      </td><td>0                              </td><td>1998                           </td><td> 82                            </td><td>Documentary,Music              </td></tr>\n",
       "\t<tr><td>tt0095469                      </td><td>movie                          </td><td>Ku jia tian xia                </td><td>Ku jia tian xia                </td><td>0                              </td><td>1998                           </td><td>102                            </td><td>Comedy                         </td></tr>\n",
       "\t<tr><td>tt0097066                      </td><td>movie                          </td><td>Citizen Tania                  </td><td>Citizen Tania                  </td><td>0                              </td><td>1997                           </td><td> 87                            </td><td>Crime,Drama                    </td></tr>\n",
       "\t<tr><td>tt0097566                      </td><td>movie                          </td><td>Im Süden meiner Seele          </td><td>Im Süden meiner Seele          </td><td>0                              </td><td>1996                           </td><td> NA                            </td><td>NA                             </td></tr>\n",
       "\t<tr><td>tt0099840                      </td><td>movie                          </td><td>In the Shadow of the Sandcastle</td><td>In the Shadow of the Sandcastle</td><td>0                              </td><td>1996                           </td><td> 79                            </td><td>Crime,Drama                    </td></tr>\n",
       "</tbody>\n",
       "</table>\n"
      ],
      "text/latex": [
       "\\begin{tabular}{r|llllllll}\n",
       " tconst & titleType & primaryTitle & originalTitle & isAdult & startYear & runtimeMinutes & genres\\\\\n",
       "\\hline\n",
       "\t tt0082473                       & short                           & The Great Barrier Reef          & Great Barrier Reef              & 0                               & 1999                            &  39                             & Documentary,Short              \\\\\n",
       "\t tt0093061                       & movie                           & Funkytown                       & Funkytown                       & 0                               & 1998                            &  82                             & Documentary,Music              \\\\\n",
       "\t tt0095469                       & movie                           & Ku jia tian xia                 & Ku jia tian xia                 & 0                               & 1998                            & 102                             & Comedy                         \\\\\n",
       "\t tt0097066                       & movie                           & Citizen Tania                   & Citizen Tania                   & 0                               & 1997                            &  87                             & Crime,Drama                    \\\\\n",
       "\t tt0097566                       & movie                           & Im Süden meiner Seele           & Im Süden meiner Seele           & 0                               & 1996                            &  NA                             & NA                             \\\\\n",
       "\t tt0099840                       & movie                           & In the Shadow of the Sandcastle & In the Shadow of the Sandcastle & 0                               & 1996                            &  79                             & Crime,Drama                    \\\\\n",
       "\\end{tabular}\n"
      ],
      "text/markdown": [
       "\n",
       "| tconst | titleType | primaryTitle | originalTitle | isAdult | startYear | runtimeMinutes | genres |\n",
       "|---|---|---|---|---|---|---|---|\n",
       "| tt0082473                       | short                           | The Great Barrier Reef          | Great Barrier Reef              | 0                               | 1999                            |  39                             | Documentary,Short               |\n",
       "| tt0093061                       | movie                           | Funkytown                       | Funkytown                       | 0                               | 1998                            |  82                             | Documentary,Music               |\n",
       "| tt0095469                       | movie                           | Ku jia tian xia                 | Ku jia tian xia                 | 0                               | 1998                            | 102                             | Comedy                          |\n",
       "| tt0097066                       | movie                           | Citizen Tania                   | Citizen Tania                   | 0                               | 1997                            |  87                             | Crime,Drama                     |\n",
       "| tt0097566                       | movie                           | Im Süden meiner Seele           | Im Süden meiner Seele           | 0                               | 1996                            |  NA                             | NA                              |\n",
       "| tt0099840                       | movie                           | In the Shadow of the Sandcastle | In the Shadow of the Sandcastle | 0                               | 1996                            |  79                             | Crime,Drama                     |\n",
       "\n"
      ],
      "text/plain": [
       "  tconst    titleType primaryTitle                   \n",
       "1 tt0082473 short     The Great Barrier Reef         \n",
       "2 tt0093061 movie     Funkytown                      \n",
       "3 tt0095469 movie     Ku jia tian xia                \n",
       "4 tt0097066 movie     Citizen Tania                  \n",
       "5 tt0097566 movie     Im Süden meiner Seele          \n",
       "6 tt0099840 movie     In the Shadow of the Sandcastle\n",
       "  originalTitle                   isAdult startYear runtimeMinutes\n",
       "1 Great Barrier Reef              0       1999       39           \n",
       "2 Funkytown                       0       1998       82           \n",
       "3 Ku jia tian xia                 0       1998      102           \n",
       "4 Citizen Tania                   0       1997       87           \n",
       "5 Im Süden meiner Seele           0       1996       NA           \n",
       "6 In the Shadow of the Sandcastle 0       1996       79           \n",
       "  genres           \n",
       "1 Documentary,Short\n",
       "2 Documentary,Music\n",
       "3 Comedy           \n",
       "4 Crime,Drama      \n",
       "5 NA               \n",
       "6 Crime,Drama      "
      ]
     },
     "metadata": {},
     "output_type": "display_data"
    }
   ],
   "source": [
    "df_filtrado <- filter(df, startYear > 1995)\n",
    "head(df_filtrado)"
   ]
  },
  {
   "cell_type": "markdown",
   "id": "77fdc022-f893-4738-8724-16d3cb97756d",
   "metadata": {},
   "source": [
    "**Ejemplo:** Seleccionar las filas con un valor de *startYear* entre 1995 y 1997 con `dplyr`."
   ]
  },
  {
   "cell_type": "code",
   "execution_count": 20,
   "id": "c09f5501-8bb1-42c2-87d0-aef44077516b",
   "metadata": {},
   "outputs": [
    {
     "data": {
      "text/html": [
       "<table>\n",
       "<thead><tr><th scope=col>tconst</th><th scope=col>titleType</th><th scope=col>primaryTitle</th><th scope=col>originalTitle</th><th scope=col>isAdult</th><th scope=col>startYear</th><th scope=col>runtimeMinutes</th><th scope=col>genres</th></tr></thead>\n",
       "<tbody>\n",
       "\t<tr><td>tt0040844              </td><td>short                  </td><td>Crossroads of Laredo   </td><td>Crossroads of Laredo   </td><td>0                      </td><td>1995                   </td><td>30                     </td><td>Short,Western          </td></tr>\n",
       "\t<tr><td>tt0067460              </td><td>movie                  </td><td>My Kingdom for...      </td><td>My Kingdom For...      </td><td>0                      </td><td>1995                   </td><td>85                     </td><td>Documentary,Sport      </td></tr>\n",
       "\t<tr><td>tt0082631              </td><td>tvMovie                </td><td>Short Working Day      </td><td>Krótki dzien pracy     </td><td>0                      </td><td>1995                   </td><td>73                     </td><td>Drama                  </td></tr>\n",
       "\t<tr><td>tt0089544              </td><td>tvMovie                </td><td>Man(n) sucht Frau      </td><td>Man(n) sucht Frau      </td><td>0                      </td><td>1995                   </td><td>85                     </td><td>Comedy                 </td></tr>\n",
       "\t<tr><td>tt0090000              </td><td>movie                  </td><td>Wet Sexes in the Sun   </td><td>Sexos húmedos al sol   </td><td>1                      </td><td>1995                   </td><td>NA                     </td><td>Adult                  </td></tr>\n",
       "\t<tr><td>tt0095102              </td><td>movie                  </td><td>Fallen Couple          </td><td>Les ennemis de la mafia</td><td>0                      </td><td>1995                   </td><td>87                     </td><td>Thriller               </td></tr>\n",
       "</tbody>\n",
       "</table>\n"
      ],
      "text/latex": [
       "\\begin{tabular}{r|llllllll}\n",
       " tconst & titleType & primaryTitle & originalTitle & isAdult & startYear & runtimeMinutes & genres\\\\\n",
       "\\hline\n",
       "\t tt0040844               & short                   & Crossroads of Laredo    & Crossroads of Laredo    & 0                       & 1995                    & 30                      & Short,Western          \\\\\n",
       "\t tt0067460               & movie                   & My Kingdom for...       & My Kingdom For...       & 0                       & 1995                    & 85                      & Documentary,Sport      \\\\\n",
       "\t tt0082631               & tvMovie                 & Short Working Day       & Krótki dzien pracy      & 0                       & 1995                    & 73                      & Drama                  \\\\\n",
       "\t tt0089544               & tvMovie                 & Man(n) sucht Frau       & Man(n) sucht Frau       & 0                       & 1995                    & 85                      & Comedy                 \\\\\n",
       "\t tt0090000               & movie                   & Wet Sexes in the Sun    & Sexos húmedos al sol    & 1                       & 1995                    & NA                      & Adult                  \\\\\n",
       "\t tt0095102               & movie                   & Fallen Couple           & Les ennemis de la mafia & 0                       & 1995                    & 87                      & Thriller               \\\\\n",
       "\\end{tabular}\n"
      ],
      "text/markdown": [
       "\n",
       "| tconst | titleType | primaryTitle | originalTitle | isAdult | startYear | runtimeMinutes | genres |\n",
       "|---|---|---|---|---|---|---|---|\n",
       "| tt0040844               | short                   | Crossroads of Laredo    | Crossroads of Laredo    | 0                       | 1995                    | 30                      | Short,Western           |\n",
       "| tt0067460               | movie                   | My Kingdom for...       | My Kingdom For...       | 0                       | 1995                    | 85                      | Documentary,Sport       |\n",
       "| tt0082631               | tvMovie                 | Short Working Day       | Krótki dzien pracy      | 0                       | 1995                    | 73                      | Drama                   |\n",
       "| tt0089544               | tvMovie                 | Man(n) sucht Frau       | Man(n) sucht Frau       | 0                       | 1995                    | 85                      | Comedy                  |\n",
       "| tt0090000               | movie                   | Wet Sexes in the Sun    | Sexos húmedos al sol    | 1                       | 1995                    | NA                      | Adult                   |\n",
       "| tt0095102               | movie                   | Fallen Couple           | Les ennemis de la mafia | 0                       | 1995                    | 87                      | Thriller                |\n",
       "\n"
      ],
      "text/plain": [
       "  tconst    titleType primaryTitle         originalTitle           isAdult\n",
       "1 tt0040844 short     Crossroads of Laredo Crossroads of Laredo    0      \n",
       "2 tt0067460 movie     My Kingdom for...    My Kingdom For...       0      \n",
       "3 tt0082631 tvMovie   Short Working Day    Krótki dzien pracy      0      \n",
       "4 tt0089544 tvMovie   Man(n) sucht Frau    Man(n) sucht Frau       0      \n",
       "5 tt0090000 movie     Wet Sexes in the Sun Sexos húmedos al sol    1      \n",
       "6 tt0095102 movie     Fallen Couple        Les ennemis de la mafia 0      \n",
       "  startYear runtimeMinutes genres           \n",
       "1 1995      30             Short,Western    \n",
       "2 1995      85             Documentary,Sport\n",
       "3 1995      73             Drama            \n",
       "4 1995      85             Comedy           \n",
       "5 1995      NA             Adult            \n",
       "6 1995      87             Thriller         "
      ]
     },
     "metadata": {},
     "output_type": "display_data"
    }
   ],
   "source": [
    "df_filtrado <- filter(df, startYear %in% c(1995:1997))\n",
    "head(df_filtrado)"
   ]
  },
  {
   "cell_type": "markdown",
   "id": "2aa8f0f2-39c6-4d4b-9f6d-197c0b0efbfa",
   "metadata": {},
   "source": [
    "Asimismo, podemos combinar diferentes criterios con los operadores lógicos AND y OR. De base puede usarse AND con & y OR con \\|."
   ]
  },
  {
   "cell_type": "markdown",
   "id": "137957cc-20f6-489d-8c30-9c0cfa8a6c10",
   "metadata": {},
   "source": [
    "**Ejemplo:** Seleccionar las filas con un valor de *startYear* mayor a 1995 y con *titleTyple* movie."
   ]
  },
  {
   "cell_type": "code",
   "execution_count": 21,
   "id": "a6d8faf7-6142-4510-8ca9-f0e0da514fe8",
   "metadata": {},
   "outputs": [
    {
     "data": {
      "text/html": [
       "<table>\n",
       "<thead><tr><th></th><th scope=col>tconst</th><th scope=col>titleType</th><th scope=col>primaryTitle</th><th scope=col>originalTitle</th><th scope=col>isAdult</th><th scope=col>startYear</th><th scope=col>runtimeMinutes</th><th scope=col>genres</th></tr></thead>\n",
       "<tbody>\n",
       "\t<tr><th scope=row>47</th><td>tt0093061                      </td><td>movie                          </td><td>Funkytown                      </td><td>Funkytown                      </td><td>0                              </td><td>1998                           </td><td> 82                            </td><td>Documentary,Music              </td></tr>\n",
       "\t<tr><th scope=row>86</th><td>tt0095469                      </td><td>movie                          </td><td>Ku jia tian xia                </td><td>Ku jia tian xia                </td><td>0                              </td><td>1998                           </td><td>102                            </td><td>Comedy                         </td></tr>\n",
       "\t<tr><th scope=row>155</th><td>tt0097066                      </td><td>movie                          </td><td>Citizen Tania                  </td><td>Citizen Tania                  </td><td>0                              </td><td>1997                           </td><td> 87                            </td><td>Crime,Drama                    </td></tr>\n",
       "\t<tr><th scope=row>197</th><td>tt0097566                      </td><td>movie                          </td><td>Im Süden meiner Seele          </td><td>Im Süden meiner Seele          </td><td>0                              </td><td>1996                           </td><td> NA                            </td><td>NA                             </td></tr>\n",
       "\t<tr><th scope=row>1023</th><td>tt0099840                      </td><td>movie                          </td><td>In the Shadow of the Sandcastle</td><td>In the Shadow of the Sandcastle</td><td>0                              </td><td>1996                           </td><td> 79                            </td><td>Crime,Drama                    </td></tr>\n",
       "\t<tr><th scope=row>2875</th><td>tt0102267                      </td><td>movie                          </td><td>Lifebreath                     </td><td>Lifebreath                     </td><td>0                              </td><td>1997                           </td><td> 90                            </td><td>Drama,Romance,Thriller         </td></tr>\n",
       "</tbody>\n",
       "</table>\n"
      ],
      "text/latex": [
       "\\begin{tabular}{r|llllllll}\n",
       "  & tconst & titleType & primaryTitle & originalTitle & isAdult & startYear & runtimeMinutes & genres\\\\\n",
       "\\hline\n",
       "\t47 & tt0093061                       & movie                           & Funkytown                       & Funkytown                       & 0                               & 1998                            &  82                             & Documentary,Music              \\\\\n",
       "\t86 & tt0095469                       & movie                           & Ku jia tian xia                 & Ku jia tian xia                 & 0                               & 1998                            & 102                             & Comedy                         \\\\\n",
       "\t155 & tt0097066                       & movie                           & Citizen Tania                   & Citizen Tania                   & 0                               & 1997                            &  87                             & Crime,Drama                    \\\\\n",
       "\t197 & tt0097566                       & movie                           & Im Süden meiner Seele           & Im Süden meiner Seele           & 0                               & 1996                            &  NA                             & NA                             \\\\\n",
       "\t1023 & tt0099840                       & movie                           & In the Shadow of the Sandcastle & In the Shadow of the Sandcastle & 0                               & 1996                            &  79                             & Crime,Drama                    \\\\\n",
       "\t2875 & tt0102267                       & movie                           & Lifebreath                      & Lifebreath                      & 0                               & 1997                            &  90                             & Drama,Romance,Thriller         \\\\\n",
       "\\end{tabular}\n"
      ],
      "text/markdown": [
       "\n",
       "| <!--/--> | tconst | titleType | primaryTitle | originalTitle | isAdult | startYear | runtimeMinutes | genres |\n",
       "|---|---|---|---|---|---|---|---|---|\n",
       "| 47 | tt0093061                       | movie                           | Funkytown                       | Funkytown                       | 0                               | 1998                            |  82                             | Documentary,Music               |\n",
       "| 86 | tt0095469                       | movie                           | Ku jia tian xia                 | Ku jia tian xia                 | 0                               | 1998                            | 102                             | Comedy                          |\n",
       "| 155 | tt0097066                       | movie                           | Citizen Tania                   | Citizen Tania                   | 0                               | 1997                            |  87                             | Crime,Drama                     |\n",
       "| 197 | tt0097566                       | movie                           | Im Süden meiner Seele           | Im Süden meiner Seele           | 0                               | 1996                            |  NA                             | NA                              |\n",
       "| 1023 | tt0099840                       | movie                           | In the Shadow of the Sandcastle | In the Shadow of the Sandcastle | 0                               | 1996                            |  79                             | Crime,Drama                     |\n",
       "| 2875 | tt0102267                       | movie                           | Lifebreath                      | Lifebreath                      | 0                               | 1997                            |  90                             | Drama,Romance,Thriller          |\n",
       "\n"
      ],
      "text/plain": [
       "     tconst    titleType primaryTitle                   \n",
       "47   tt0093061 movie     Funkytown                      \n",
       "86   tt0095469 movie     Ku jia tian xia                \n",
       "155  tt0097066 movie     Citizen Tania                  \n",
       "197  tt0097566 movie     Im Süden meiner Seele          \n",
       "1023 tt0099840 movie     In the Shadow of the Sandcastle\n",
       "2875 tt0102267 movie     Lifebreath                     \n",
       "     originalTitle                   isAdult startYear runtimeMinutes\n",
       "47   Funkytown                       0       1998       82           \n",
       "86   Ku jia tian xia                 0       1998      102           \n",
       "155  Citizen Tania                   0       1997       87           \n",
       "197  Im Süden meiner Seele           0       1996       NA           \n",
       "1023 In the Shadow of the Sandcastle 0       1996       79           \n",
       "2875 Lifebreath                      0       1997       90           \n",
       "     genres                \n",
       "47   Documentary,Music     \n",
       "86   Comedy                \n",
       "155  Crime,Drama           \n",
       "197  NA                    \n",
       "1023 Crime,Drama           \n",
       "2875 Drama,Romance,Thriller"
      ]
     },
     "metadata": {},
     "output_type": "display_data"
    }
   ],
   "source": [
    "df_filtrado <- df[which(df$startYear > 1995 & df$titleType == 'movie'),]\n",
    "head(df_filtrado)"
   ]
  },
  {
   "cell_type": "markdown",
   "id": "9a241eeb-dd0d-4de7-a597-fe1640f4779f",
   "metadata": {},
   "source": [
    "En `dplyr` podemos hacer uso de AND con & o separando los criterios con comas y de OR usando directamente \\|."
   ]
  },
  {
   "cell_type": "markdown",
   "id": "ef283577-423d-414f-8994-76bac6461279",
   "metadata": {},
   "source": [
    "**Ejemplo:** Seleccionar las filas con un valor de *startYear* mayor a 1995 y con *titleTyple* movie con `dplyr`."
   ]
  },
  {
   "cell_type": "code",
   "execution_count": 22,
   "id": "62c95d6d-6591-4816-a4f1-91448de43bfd",
   "metadata": {},
   "outputs": [
    {
     "data": {
      "text/html": [
       "<table>\n",
       "<thead><tr><th scope=col>tconst</th><th scope=col>titleType</th><th scope=col>primaryTitle</th><th scope=col>originalTitle</th><th scope=col>isAdult</th><th scope=col>startYear</th><th scope=col>runtimeMinutes</th><th scope=col>genres</th></tr></thead>\n",
       "<tbody>\n",
       "\t<tr><td>tt0093061                      </td><td>movie                          </td><td>Funkytown                      </td><td>Funkytown                      </td><td>0                              </td><td>1998                           </td><td> 82                            </td><td>Documentary,Music              </td></tr>\n",
       "\t<tr><td>tt0095469                      </td><td>movie                          </td><td>Ku jia tian xia                </td><td>Ku jia tian xia                </td><td>0                              </td><td>1998                           </td><td>102                            </td><td>Comedy                         </td></tr>\n",
       "\t<tr><td>tt0097066                      </td><td>movie                          </td><td>Citizen Tania                  </td><td>Citizen Tania                  </td><td>0                              </td><td>1997                           </td><td> 87                            </td><td>Crime,Drama                    </td></tr>\n",
       "\t<tr><td>tt0097566                      </td><td>movie                          </td><td>Im Süden meiner Seele          </td><td>Im Süden meiner Seele          </td><td>0                              </td><td>1996                           </td><td> NA                            </td><td>NA                             </td></tr>\n",
       "\t<tr><td>tt0099840                      </td><td>movie                          </td><td>In the Shadow of the Sandcastle</td><td>In the Shadow of the Sandcastle</td><td>0                              </td><td>1996                           </td><td> 79                            </td><td>Crime,Drama                    </td></tr>\n",
       "\t<tr><td>tt0102267                      </td><td>movie                          </td><td>Lifebreath                     </td><td>Lifebreath                     </td><td>0                              </td><td>1997                           </td><td> 90                            </td><td>Drama,Romance,Thriller         </td></tr>\n",
       "</tbody>\n",
       "</table>\n"
      ],
      "text/latex": [
       "\\begin{tabular}{r|llllllll}\n",
       " tconst & titleType & primaryTitle & originalTitle & isAdult & startYear & runtimeMinutes & genres\\\\\n",
       "\\hline\n",
       "\t tt0093061                       & movie                           & Funkytown                       & Funkytown                       & 0                               & 1998                            &  82                             & Documentary,Music              \\\\\n",
       "\t tt0095469                       & movie                           & Ku jia tian xia                 & Ku jia tian xia                 & 0                               & 1998                            & 102                             & Comedy                         \\\\\n",
       "\t tt0097066                       & movie                           & Citizen Tania                   & Citizen Tania                   & 0                               & 1997                            &  87                             & Crime,Drama                    \\\\\n",
       "\t tt0097566                       & movie                           & Im Süden meiner Seele           & Im Süden meiner Seele           & 0                               & 1996                            &  NA                             & NA                             \\\\\n",
       "\t tt0099840                       & movie                           & In the Shadow of the Sandcastle & In the Shadow of the Sandcastle & 0                               & 1996                            &  79                             & Crime,Drama                    \\\\\n",
       "\t tt0102267                       & movie                           & Lifebreath                      & Lifebreath                      & 0                               & 1997                            &  90                             & Drama,Romance,Thriller         \\\\\n",
       "\\end{tabular}\n"
      ],
      "text/markdown": [
       "\n",
       "| tconst | titleType | primaryTitle | originalTitle | isAdult | startYear | runtimeMinutes | genres |\n",
       "|---|---|---|---|---|---|---|---|\n",
       "| tt0093061                       | movie                           | Funkytown                       | Funkytown                       | 0                               | 1998                            |  82                             | Documentary,Music               |\n",
       "| tt0095469                       | movie                           | Ku jia tian xia                 | Ku jia tian xia                 | 0                               | 1998                            | 102                             | Comedy                          |\n",
       "| tt0097066                       | movie                           | Citizen Tania                   | Citizen Tania                   | 0                               | 1997                            |  87                             | Crime,Drama                     |\n",
       "| tt0097566                       | movie                           | Im Süden meiner Seele           | Im Süden meiner Seele           | 0                               | 1996                            |  NA                             | NA                              |\n",
       "| tt0099840                       | movie                           | In the Shadow of the Sandcastle | In the Shadow of the Sandcastle | 0                               | 1996                            |  79                             | Crime,Drama                     |\n",
       "| tt0102267                       | movie                           | Lifebreath                      | Lifebreath                      | 0                               | 1997                            |  90                             | Drama,Romance,Thriller          |\n",
       "\n"
      ],
      "text/plain": [
       "  tconst    titleType primaryTitle                   \n",
       "1 tt0093061 movie     Funkytown                      \n",
       "2 tt0095469 movie     Ku jia tian xia                \n",
       "3 tt0097066 movie     Citizen Tania                  \n",
       "4 tt0097566 movie     Im Süden meiner Seele          \n",
       "5 tt0099840 movie     In the Shadow of the Sandcastle\n",
       "6 tt0102267 movie     Lifebreath                     \n",
       "  originalTitle                   isAdult startYear runtimeMinutes\n",
       "1 Funkytown                       0       1998       82           \n",
       "2 Ku jia tian xia                 0       1998      102           \n",
       "3 Citizen Tania                   0       1997       87           \n",
       "4 Im Süden meiner Seele           0       1996       NA           \n",
       "5 In the Shadow of the Sandcastle 0       1996       79           \n",
       "6 Lifebreath                      0       1997       90           \n",
       "  genres                \n",
       "1 Documentary,Music     \n",
       "2 Comedy                \n",
       "3 Crime,Drama           \n",
       "4 NA                    \n",
       "5 Crime,Drama           \n",
       "6 Drama,Romance,Thriller"
      ]
     },
     "metadata": {},
     "output_type": "display_data"
    }
   ],
   "source": [
    "df_filtrado <- filter(df, startYear > 1995, titleType == 'movie')\n",
    "head(df_filtrado)"
   ]
  },
  {
   "cell_type": "markdown",
   "id": "6294afb7-2aca-41b6-a6df-64c9af78bff4",
   "metadata": {},
   "source": [
    "Un tipo de filtrado de mucha utilidad es a partir de valores nulos, para eliminar aquellas instancias que contienen en una o varias columnas valores nulos. Para ello, podemos usar la función `is.na()` junto al operador *!*."
   ]
  },
  {
   "cell_type": "markdown",
   "id": "e4b14b3b-d541-4212-a97e-a8abddcbada4",
   "metadata": {},
   "source": [
    "**Ejemplo:** Seleccionar las filas que no tienen valores nulos en *genres*."
   ]
  },
  {
   "cell_type": "code",
   "execution_count": 23,
   "id": "726dfb4a-ff67-44a6-97f4-0cac816b0821",
   "metadata": {},
   "outputs": [
    {
     "data": {
      "text/html": [
       "<table>\n",
       "<thead><tr><th scope=col>tconst</th><th scope=col>titleType</th><th scope=col>primaryTitle</th><th scope=col>originalTitle</th><th scope=col>isAdult</th><th scope=col>startYear</th><th scope=col>runtimeMinutes</th><th scope=col>genres</th></tr></thead>\n",
       "<tbody>\n",
       "\t<tr><td>tt0015724                     </td><td>movie                         </td><td>Dama de noche                 </td><td>Dama de noche                 </td><td>0                             </td><td>1993                          </td><td>102                           </td><td>Drama,Mystery,Romance         </td></tr>\n",
       "\t<tr><td>tt0038086                     </td><td>movie                         </td><td>Shiva und die Galgenblume     </td><td>Shiva und die Galgenblume     </td><td>0                             </td><td>1993                          </td><td> NA                           </td><td>Thriller                      </td></tr>\n",
       "\t<tr><td>tt0040844                     </td><td>short                         </td><td>Crossroads of Laredo          </td><td>Crossroads of Laredo          </td><td>0                             </td><td>1995                          </td><td> 30                           </td><td>Short,Western                 </td></tr>\n",
       "\t<tr><td>tt0059325                     </td><td>movie                         </td><td>Born in '45                   </td><td>Jahrgang 45                   </td><td>0                             </td><td>1990                          </td><td>100                           </td><td>Drama,Romance                 </td></tr>\n",
       "\t<tr><td>tt0059900                     </td><td>movie                         </td><td>Wenn du groß bist, lieber Adam</td><td>Wenn du groß bist, lieber Adam</td><td>0                             </td><td>1990                          </td><td> 78                           </td><td>Drama,Fantasy                 </td></tr>\n",
       "\t<tr><td>tt0065188                     </td><td>movie                         </td><td>Vojtech, receny sirotek       </td><td>Vojtech, receny sirotek       </td><td>0                             </td><td>1990                          </td><td> 80                           </td><td>Drama                         </td></tr>\n",
       "</tbody>\n",
       "</table>\n"
      ],
      "text/latex": [
       "\\begin{tabular}{r|llllllll}\n",
       " tconst & titleType & primaryTitle & originalTitle & isAdult & startYear & runtimeMinutes & genres\\\\\n",
       "\\hline\n",
       "\t tt0015724                      & movie                          & Dama de noche                  & Dama de noche                  & 0                              & 1993                           & 102                            & Drama,Mystery,Romance         \\\\\n",
       "\t tt0038086                      & movie                          & Shiva und die Galgenblume      & Shiva und die Galgenblume      & 0                              & 1993                           &  NA                            & Thriller                      \\\\\n",
       "\t tt0040844                      & short                          & Crossroads of Laredo           & Crossroads of Laredo           & 0                              & 1995                           &  30                            & Short,Western                 \\\\\n",
       "\t tt0059325                      & movie                          & Born in '45                    & Jahrgang 45                    & 0                              & 1990                           & 100                            & Drama,Romance                 \\\\\n",
       "\t tt0059900                      & movie                          & Wenn du groß bist, lieber Adam & Wenn du groß bist, lieber Adam & 0                              & 1990                           &  78                            & Drama,Fantasy                 \\\\\n",
       "\t tt0065188                      & movie                          & Vojtech, receny sirotek        & Vojtech, receny sirotek        & 0                              & 1990                           &  80                            & Drama                         \\\\\n",
       "\\end{tabular}\n"
      ],
      "text/markdown": [
       "\n",
       "| tconst | titleType | primaryTitle | originalTitle | isAdult | startYear | runtimeMinutes | genres |\n",
       "|---|---|---|---|---|---|---|---|\n",
       "| tt0015724                      | movie                          | Dama de noche                  | Dama de noche                  | 0                              | 1993                           | 102                            | Drama,Mystery,Romance          |\n",
       "| tt0038086                      | movie                          | Shiva und die Galgenblume      | Shiva und die Galgenblume      | 0                              | 1993                           |  NA                            | Thriller                       |\n",
       "| tt0040844                      | short                          | Crossroads of Laredo           | Crossroads of Laredo           | 0                              | 1995                           |  30                            | Short,Western                  |\n",
       "| tt0059325                      | movie                          | Born in '45                    | Jahrgang 45                    | 0                              | 1990                           | 100                            | Drama,Romance                  |\n",
       "| tt0059900                      | movie                          | Wenn du groß bist, lieber Adam | Wenn du groß bist, lieber Adam | 0                              | 1990                           |  78                            | Drama,Fantasy                  |\n",
       "| tt0065188                      | movie                          | Vojtech, receny sirotek        | Vojtech, receny sirotek        | 0                              | 1990                           |  80                            | Drama                          |\n",
       "\n"
      ],
      "text/plain": [
       "  tconst    titleType primaryTitle                  \n",
       "1 tt0015724 movie     Dama de noche                 \n",
       "2 tt0038086 movie     Shiva und die Galgenblume     \n",
       "3 tt0040844 short     Crossroads of Laredo          \n",
       "4 tt0059325 movie     Born in '45                   \n",
       "5 tt0059900 movie     Wenn du groß bist, lieber Adam\n",
       "6 tt0065188 movie     Vojtech, receny sirotek       \n",
       "  originalTitle                  isAdult startYear runtimeMinutes\n",
       "1 Dama de noche                  0       1993      102           \n",
       "2 Shiva und die Galgenblume      0       1993       NA           \n",
       "3 Crossroads of Laredo           0       1995       30           \n",
       "4 Jahrgang 45                    0       1990      100           \n",
       "5 Wenn du groß bist, lieber Adam 0       1990       78           \n",
       "6 Vojtech, receny sirotek        0       1990       80           \n",
       "  genres               \n",
       "1 Drama,Mystery,Romance\n",
       "2 Thriller             \n",
       "3 Short,Western        \n",
       "4 Drama,Romance        \n",
       "5 Drama,Fantasy        \n",
       "6 Drama                "
      ]
     },
     "metadata": {},
     "output_type": "display_data"
    }
   ],
   "source": [
    "df_filtrado <- df[which(!is.na(df$genres)),]\n",
    "head(df_filtrado)"
   ]
  },
  {
   "cell_type": "markdown",
   "id": "f081067e-102e-4d35-9a5a-2cde1ff54ec8",
   "metadata": {},
   "source": [
    "**Ejemplo:** Seleccionar las filas que no tienen valores nulos en *genres* con `dplyr`."
   ]
  },
  {
   "cell_type": "code",
   "execution_count": 24,
   "id": "151f7da6-1f95-4748-bb43-6942b4c2fb09",
   "metadata": {},
   "outputs": [
    {
     "data": {
      "text/html": [
       "<table>\n",
       "<thead><tr><th scope=col>tconst</th><th scope=col>titleType</th><th scope=col>primaryTitle</th><th scope=col>originalTitle</th><th scope=col>isAdult</th><th scope=col>startYear</th><th scope=col>runtimeMinutes</th><th scope=col>genres</th></tr></thead>\n",
       "<tbody>\n",
       "\t<tr><td>tt0015724                     </td><td>movie                         </td><td>Dama de noche                 </td><td>Dama de noche                 </td><td>0                             </td><td>1993                          </td><td>102                           </td><td>Drama,Mystery,Romance         </td></tr>\n",
       "\t<tr><td>tt0038086                     </td><td>movie                         </td><td>Shiva und die Galgenblume     </td><td>Shiva und die Galgenblume     </td><td>0                             </td><td>1993                          </td><td> NA                           </td><td>Thriller                      </td></tr>\n",
       "\t<tr><td>tt0040844                     </td><td>short                         </td><td>Crossroads of Laredo          </td><td>Crossroads of Laredo          </td><td>0                             </td><td>1995                          </td><td> 30                           </td><td>Short,Western                 </td></tr>\n",
       "\t<tr><td>tt0059325                     </td><td>movie                         </td><td>Born in '45                   </td><td>Jahrgang 45                   </td><td>0                             </td><td>1990                          </td><td>100                           </td><td>Drama,Romance                 </td></tr>\n",
       "\t<tr><td>tt0059900                     </td><td>movie                         </td><td>Wenn du groß bist, lieber Adam</td><td>Wenn du groß bist, lieber Adam</td><td>0                             </td><td>1990                          </td><td> 78                           </td><td>Drama,Fantasy                 </td></tr>\n",
       "\t<tr><td>tt0065188                     </td><td>movie                         </td><td>Vojtech, receny sirotek       </td><td>Vojtech, receny sirotek       </td><td>0                             </td><td>1990                          </td><td> 80                           </td><td>Drama                         </td></tr>\n",
       "</tbody>\n",
       "</table>\n"
      ],
      "text/latex": [
       "\\begin{tabular}{r|llllllll}\n",
       " tconst & titleType & primaryTitle & originalTitle & isAdult & startYear & runtimeMinutes & genres\\\\\n",
       "\\hline\n",
       "\t tt0015724                      & movie                          & Dama de noche                  & Dama de noche                  & 0                              & 1993                           & 102                            & Drama,Mystery,Romance         \\\\\n",
       "\t tt0038086                      & movie                          & Shiva und die Galgenblume      & Shiva und die Galgenblume      & 0                              & 1993                           &  NA                            & Thriller                      \\\\\n",
       "\t tt0040844                      & short                          & Crossroads of Laredo           & Crossroads of Laredo           & 0                              & 1995                           &  30                            & Short,Western                 \\\\\n",
       "\t tt0059325                      & movie                          & Born in '45                    & Jahrgang 45                    & 0                              & 1990                           & 100                            & Drama,Romance                 \\\\\n",
       "\t tt0059900                      & movie                          & Wenn du groß bist, lieber Adam & Wenn du groß bist, lieber Adam & 0                              & 1990                           &  78                            & Drama,Fantasy                 \\\\\n",
       "\t tt0065188                      & movie                          & Vojtech, receny sirotek        & Vojtech, receny sirotek        & 0                              & 1990                           &  80                            & Drama                         \\\\\n",
       "\\end{tabular}\n"
      ],
      "text/markdown": [
       "\n",
       "| tconst | titleType | primaryTitle | originalTitle | isAdult | startYear | runtimeMinutes | genres |\n",
       "|---|---|---|---|---|---|---|---|\n",
       "| tt0015724                      | movie                          | Dama de noche                  | Dama de noche                  | 0                              | 1993                           | 102                            | Drama,Mystery,Romance          |\n",
       "| tt0038086                      | movie                          | Shiva und die Galgenblume      | Shiva und die Galgenblume      | 0                              | 1993                           |  NA                            | Thriller                       |\n",
       "| tt0040844                      | short                          | Crossroads of Laredo           | Crossroads of Laredo           | 0                              | 1995                           |  30                            | Short,Western                  |\n",
       "| tt0059325                      | movie                          | Born in '45                    | Jahrgang 45                    | 0                              | 1990                           | 100                            | Drama,Romance                  |\n",
       "| tt0059900                      | movie                          | Wenn du groß bist, lieber Adam | Wenn du groß bist, lieber Adam | 0                              | 1990                           |  78                            | Drama,Fantasy                  |\n",
       "| tt0065188                      | movie                          | Vojtech, receny sirotek        | Vojtech, receny sirotek        | 0                              | 1990                           |  80                            | Drama                          |\n",
       "\n"
      ],
      "text/plain": [
       "  tconst    titleType primaryTitle                  \n",
       "1 tt0015724 movie     Dama de noche                 \n",
       "2 tt0038086 movie     Shiva und die Galgenblume     \n",
       "3 tt0040844 short     Crossroads of Laredo          \n",
       "4 tt0059325 movie     Born in '45                   \n",
       "5 tt0059900 movie     Wenn du groß bist, lieber Adam\n",
       "6 tt0065188 movie     Vojtech, receny sirotek       \n",
       "  originalTitle                  isAdult startYear runtimeMinutes\n",
       "1 Dama de noche                  0       1993      102           \n",
       "2 Shiva und die Galgenblume      0       1993       NA           \n",
       "3 Crossroads of Laredo           0       1995       30           \n",
       "4 Jahrgang 45                    0       1990      100           \n",
       "5 Wenn du groß bist, lieber Adam 0       1990       78           \n",
       "6 Vojtech, receny sirotek        0       1990       80           \n",
       "  genres               \n",
       "1 Drama,Mystery,Romance\n",
       "2 Thriller             \n",
       "3 Short,Western        \n",
       "4 Drama,Romance        \n",
       "5 Drama,Fantasy        \n",
       "6 Drama                "
      ]
     },
     "metadata": {},
     "output_type": "display_data"
    }
   ],
   "source": [
    "df_filtrado <- filter(df, !is.na(genres))\n",
    "head(df_filtrado)"
   ]
  },
  {
   "cell_type": "markdown",
   "id": "0d34b194-8d98-4347-8a01-d2ce0462bd0d",
   "metadata": {},
   "source": [
    "### Filtrar (coincidencia de texto)"
   ]
  },
  {
   "cell_type": "markdown",
   "id": "82f48d1b-c19a-4bd4-88ef-5948bba84dd4",
   "metadata": {},
   "source": [
    "Es posible seleccionar aquellas filas que contienen alguna coincidencia con un texto y no solo aquellas con las que coincide el texto completo.\n",
    "\n",
    "De base se puede hacer con la función `grepl()`. Esta función sirve para identificar aquellas instancias que cumplen un determinado patrón."
   ]
  },
  {
   "cell_type": "markdown",
   "id": "5546d9f4-bdf6-4183-8265-c6fc1c577798",
   "metadata": {},
   "source": [
    "**Ejemplo:** Seleccionar las filas que contengan en *genres* Drama, sin importar si salen más géneros."
   ]
  },
  {
   "cell_type": "code",
   "execution_count": 25,
   "id": "9a9c58ea-1b69-47f8-aa36-4630567b284c",
   "metadata": {},
   "outputs": [
    {
     "data": {
      "text/html": [
       "<table>\n",
       "<thead><tr><th></th><th scope=col>tconst</th><th scope=col>titleType</th><th scope=col>primaryTitle</th><th scope=col>originalTitle</th><th scope=col>isAdult</th><th scope=col>startYear</th><th scope=col>runtimeMinutes</th><th scope=col>genres</th></tr></thead>\n",
       "<tbody>\n",
       "\t<tr><th scope=row>1</th><td>tt0015724                     </td><td>movie                         </td><td>Dama de noche                 </td><td>Dama de noche                 </td><td>0                             </td><td>1993                          </td><td>102                           </td><td>Drama,Mystery,Romance         </td></tr>\n",
       "\t<tr><th scope=row>4</th><td>tt0059325                     </td><td>movie                         </td><td>Born in '45                   </td><td>Jahrgang 45                   </td><td>0                             </td><td>1990                          </td><td>100                           </td><td>Drama,Romance                 </td></tr>\n",
       "\t<tr><th scope=row>5</th><td>tt0059900                     </td><td>movie                         </td><td>Wenn du groß bist, lieber Adam</td><td>Wenn du groß bist, lieber Adam</td><td>0                             </td><td>1990                          </td><td> 78                           </td><td>Drama,Fantasy                 </td></tr>\n",
       "\t<tr><th scope=row>6</th><td>tt0065188                     </td><td>movie                         </td><td>Vojtech, receny sirotek       </td><td>Vojtech, receny sirotek       </td><td>0                             </td><td>1990                          </td><td> 80                           </td><td>Drama                         </td></tr>\n",
       "\t<tr><th scope=row>8</th><td>tt0068494                     </td><td>movie                         </td><td>Domo Arigato                  </td><td>Domo Arigato                  </td><td>0                             </td><td>1990                          </td><td> 91                           </td><td>Drama                         </td></tr>\n",
       "\t<tr><th scope=row>9</th><td>tt0075259                     </td><td>movie                         </td><td>Spy Story                     </td><td>Spy Story                     </td><td>0                             </td><td>1990                          </td><td>103                           </td><td>Action,Drama,Mystery          </td></tr>\n",
       "</tbody>\n",
       "</table>\n"
      ],
      "text/latex": [
       "\\begin{tabular}{r|llllllll}\n",
       "  & tconst & titleType & primaryTitle & originalTitle & isAdult & startYear & runtimeMinutes & genres\\\\\n",
       "\\hline\n",
       "\t1 & tt0015724                      & movie                          & Dama de noche                  & Dama de noche                  & 0                              & 1993                           & 102                            & Drama,Mystery,Romance         \\\\\n",
       "\t4 & tt0059325                      & movie                          & Born in '45                    & Jahrgang 45                    & 0                              & 1990                           & 100                            & Drama,Romance                 \\\\\n",
       "\t5 & tt0059900                      & movie                          & Wenn du groß bist, lieber Adam & Wenn du groß bist, lieber Adam & 0                              & 1990                           &  78                            & Drama,Fantasy                 \\\\\n",
       "\t6 & tt0065188                      & movie                          & Vojtech, receny sirotek        & Vojtech, receny sirotek        & 0                              & 1990                           &  80                            & Drama                         \\\\\n",
       "\t8 & tt0068494                      & movie                          & Domo Arigato                   & Domo Arigato                   & 0                              & 1990                           &  91                            & Drama                         \\\\\n",
       "\t9 & tt0075259                      & movie                          & Spy Story                      & Spy Story                      & 0                              & 1990                           & 103                            & Action,Drama,Mystery          \\\\\n",
       "\\end{tabular}\n"
      ],
      "text/markdown": [
       "\n",
       "| <!--/--> | tconst | titleType | primaryTitle | originalTitle | isAdult | startYear | runtimeMinutes | genres |\n",
       "|---|---|---|---|---|---|---|---|---|\n",
       "| 1 | tt0015724                      | movie                          | Dama de noche                  | Dama de noche                  | 0                              | 1993                           | 102                            | Drama,Mystery,Romance          |\n",
       "| 4 | tt0059325                      | movie                          | Born in '45                    | Jahrgang 45                    | 0                              | 1990                           | 100                            | Drama,Romance                  |\n",
       "| 5 | tt0059900                      | movie                          | Wenn du groß bist, lieber Adam | Wenn du groß bist, lieber Adam | 0                              | 1990                           |  78                            | Drama,Fantasy                  |\n",
       "| 6 | tt0065188                      | movie                          | Vojtech, receny sirotek        | Vojtech, receny sirotek        | 0                              | 1990                           |  80                            | Drama                          |\n",
       "| 8 | tt0068494                      | movie                          | Domo Arigato                   | Domo Arigato                   | 0                              | 1990                           |  91                            | Drama                          |\n",
       "| 9 | tt0075259                      | movie                          | Spy Story                      | Spy Story                      | 0                              | 1990                           | 103                            | Action,Drama,Mystery           |\n",
       "\n"
      ],
      "text/plain": [
       "  tconst    titleType primaryTitle                  \n",
       "1 tt0015724 movie     Dama de noche                 \n",
       "4 tt0059325 movie     Born in '45                   \n",
       "5 tt0059900 movie     Wenn du groß bist, lieber Adam\n",
       "6 tt0065188 movie     Vojtech, receny sirotek       \n",
       "8 tt0068494 movie     Domo Arigato                  \n",
       "9 tt0075259 movie     Spy Story                     \n",
       "  originalTitle                  isAdult startYear runtimeMinutes\n",
       "1 Dama de noche                  0       1993      102           \n",
       "4 Jahrgang 45                    0       1990      100           \n",
       "5 Wenn du groß bist, lieber Adam 0       1990       78           \n",
       "6 Vojtech, receny sirotek        0       1990       80           \n",
       "8 Domo Arigato                   0       1990       91           \n",
       "9 Spy Story                      0       1990      103           \n",
       "  genres               \n",
       "1 Drama,Mystery,Romance\n",
       "4 Drama,Romance        \n",
       "5 Drama,Fantasy        \n",
       "6 Drama                \n",
       "8 Drama                \n",
       "9 Action,Drama,Mystery "
      ]
     },
     "metadata": {},
     "output_type": "display_data"
    }
   ],
   "source": [
    "df_filtrado <- df[grepl('Drama', df$genres),]\n",
    "head(df_filtrado)"
   ]
  },
  {
   "cell_type": "markdown",
   "id": "959288c9-d3bd-42b3-8df0-db5bb5196f2f",
   "metadata": {},
   "source": [
    "En lo referido a `dplyr`, podemos usar también la función `grepl()` a través de `filter()`."
   ]
  },
  {
   "cell_type": "markdown",
   "id": "d181787e-1f55-49e6-837a-736161027341",
   "metadata": {},
   "source": [
    "**Ejemplo:** Seleccionar las filas que contengan en *genres* Drama, sin importar si salen más géneros con `dplyr`."
   ]
  },
  {
   "cell_type": "code",
   "execution_count": 26,
   "id": "1d0ab18c-48d9-4764-941e-72ea0061adc9",
   "metadata": {},
   "outputs": [
    {
     "data": {
      "text/html": [
       "<table>\n",
       "<thead><tr><th scope=col>tconst</th><th scope=col>titleType</th><th scope=col>primaryTitle</th><th scope=col>originalTitle</th><th scope=col>isAdult</th><th scope=col>startYear</th><th scope=col>runtimeMinutes</th><th scope=col>genres</th></tr></thead>\n",
       "<tbody>\n",
       "\t<tr><td>tt0015724                     </td><td>movie                         </td><td>Dama de noche                 </td><td>Dama de noche                 </td><td>0                             </td><td>1993                          </td><td>102                           </td><td>Drama,Mystery,Romance         </td></tr>\n",
       "\t<tr><td>tt0059325                     </td><td>movie                         </td><td>Born in '45                   </td><td>Jahrgang 45                   </td><td>0                             </td><td>1990                          </td><td>100                           </td><td>Drama,Romance                 </td></tr>\n",
       "\t<tr><td>tt0059900                     </td><td>movie                         </td><td>Wenn du groß bist, lieber Adam</td><td>Wenn du groß bist, lieber Adam</td><td>0                             </td><td>1990                          </td><td> 78                           </td><td>Drama,Fantasy                 </td></tr>\n",
       "\t<tr><td>tt0065188                     </td><td>movie                         </td><td>Vojtech, receny sirotek       </td><td>Vojtech, receny sirotek       </td><td>0                             </td><td>1990                          </td><td> 80                           </td><td>Drama                         </td></tr>\n",
       "\t<tr><td>tt0068494                     </td><td>movie                         </td><td>Domo Arigato                  </td><td>Domo Arigato                  </td><td>0                             </td><td>1990                          </td><td> 91                           </td><td>Drama                         </td></tr>\n",
       "\t<tr><td>tt0075259                     </td><td>movie                         </td><td>Spy Story                     </td><td>Spy Story                     </td><td>0                             </td><td>1990                          </td><td>103                           </td><td>Action,Drama,Mystery          </td></tr>\n",
       "</tbody>\n",
       "</table>\n"
      ],
      "text/latex": [
       "\\begin{tabular}{r|llllllll}\n",
       " tconst & titleType & primaryTitle & originalTitle & isAdult & startYear & runtimeMinutes & genres\\\\\n",
       "\\hline\n",
       "\t tt0015724                      & movie                          & Dama de noche                  & Dama de noche                  & 0                              & 1993                           & 102                            & Drama,Mystery,Romance         \\\\\n",
       "\t tt0059325                      & movie                          & Born in '45                    & Jahrgang 45                    & 0                              & 1990                           & 100                            & Drama,Romance                 \\\\\n",
       "\t tt0059900                      & movie                          & Wenn du groß bist, lieber Adam & Wenn du groß bist, lieber Adam & 0                              & 1990                           &  78                            & Drama,Fantasy                 \\\\\n",
       "\t tt0065188                      & movie                          & Vojtech, receny sirotek        & Vojtech, receny sirotek        & 0                              & 1990                           &  80                            & Drama                         \\\\\n",
       "\t tt0068494                      & movie                          & Domo Arigato                   & Domo Arigato                   & 0                              & 1990                           &  91                            & Drama                         \\\\\n",
       "\t tt0075259                      & movie                          & Spy Story                      & Spy Story                      & 0                              & 1990                           & 103                            & Action,Drama,Mystery          \\\\\n",
       "\\end{tabular}\n"
      ],
      "text/markdown": [
       "\n",
       "| tconst | titleType | primaryTitle | originalTitle | isAdult | startYear | runtimeMinutes | genres |\n",
       "|---|---|---|---|---|---|---|---|\n",
       "| tt0015724                      | movie                          | Dama de noche                  | Dama de noche                  | 0                              | 1993                           | 102                            | Drama,Mystery,Romance          |\n",
       "| tt0059325                      | movie                          | Born in '45                    | Jahrgang 45                    | 0                              | 1990                           | 100                            | Drama,Romance                  |\n",
       "| tt0059900                      | movie                          | Wenn du groß bist, lieber Adam | Wenn du groß bist, lieber Adam | 0                              | 1990                           |  78                            | Drama,Fantasy                  |\n",
       "| tt0065188                      | movie                          | Vojtech, receny sirotek        | Vojtech, receny sirotek        | 0                              | 1990                           |  80                            | Drama                          |\n",
       "| tt0068494                      | movie                          | Domo Arigato                   | Domo Arigato                   | 0                              | 1990                           |  91                            | Drama                          |\n",
       "| tt0075259                      | movie                          | Spy Story                      | Spy Story                      | 0                              | 1990                           | 103                            | Action,Drama,Mystery           |\n",
       "\n"
      ],
      "text/plain": [
       "  tconst    titleType primaryTitle                  \n",
       "1 tt0015724 movie     Dama de noche                 \n",
       "2 tt0059325 movie     Born in '45                   \n",
       "3 tt0059900 movie     Wenn du groß bist, lieber Adam\n",
       "4 tt0065188 movie     Vojtech, receny sirotek       \n",
       "5 tt0068494 movie     Domo Arigato                  \n",
       "6 tt0075259 movie     Spy Story                     \n",
       "  originalTitle                  isAdult startYear runtimeMinutes\n",
       "1 Dama de noche                  0       1993      102           \n",
       "2 Jahrgang 45                    0       1990      100           \n",
       "3 Wenn du groß bist, lieber Adam 0       1990       78           \n",
       "4 Vojtech, receny sirotek        0       1990       80           \n",
       "5 Domo Arigato                   0       1990       91           \n",
       "6 Spy Story                      0       1990      103           \n",
       "  genres               \n",
       "1 Drama,Mystery,Romance\n",
       "2 Drama,Romance        \n",
       "3 Drama,Fantasy        \n",
       "4 Drama                \n",
       "5 Drama                \n",
       "6 Action,Drama,Mystery "
      ]
     },
     "metadata": {},
     "output_type": "display_data"
    }
   ],
   "source": [
    "df_filtrado <- filter(df, grepl('Drama', genres))\n",
    "head(df_filtrado)"
   ]
  },
  {
   "cell_type": "markdown",
   "id": "fd0d76cc-c2f7-48dd-967a-0706d5f5ef4b",
   "metadata": {},
   "source": [
    "Una opción interesante y que permite `grepl()` es el uso de expresiones regulares."
   ]
  },
  {
   "cell_type": "markdown",
   "id": "858fa605-4156-4775-9420-97f924eaf782",
   "metadata": {},
   "source": [
    "**Ejemplo:** Seleccionar las filas que contengan en *primaryTitle* un número."
   ]
  },
  {
   "cell_type": "code",
   "execution_count": 27,
   "id": "f8e44746-e3df-4718-92ec-506444409849",
   "metadata": {},
   "outputs": [
    {
     "data": {
      "text/html": [
       "<table>\n",
       "<thead><tr><th></th><th scope=col>tconst</th><th scope=col>titleType</th><th scope=col>primaryTitle</th><th scope=col>originalTitle</th><th scope=col>isAdult</th><th scope=col>startYear</th><th scope=col>runtimeMinutes</th><th scope=col>genres</th></tr></thead>\n",
       "<tbody>\n",
       "\t<tr><th scope=row>4</th><td>tt0059325                                </td><td>movie                                    </td><td>Born in '45                              </td><td>Jahrgang 45                              </td><td>0                                        </td><td>1990                                     </td><td>100                                      </td><td>Drama,Romance                            </td></tr>\n",
       "\t<tr><th scope=row>51</th><td>tt0093210                                </td><td>movie                                    </td><td>La hora 24                               </td><td>La hora 24                               </td><td>0                                        </td><td>1990                                     </td><td> 98                                      </td><td>Drama,Fantasy                            </td></tr>\n",
       "\t<tr><th scope=row>113</th><td>tt0096749                                </td><td>movie                                    </td><td>Abatjour 2                               </td><td>Abatjour 2                               </td><td>1                                        </td><td>1990                                     </td><td>100                                      </td><td>Crime,Mystery,Romance                    </td></tr>\n",
       "\t<tr><th scope=row>128</th><td>tt0096845                                </td><td>movie                                    </td><td>Atlantic Rhapsody - 52 myndir úr Tórshavn</td><td>Atlantic Rhapsody - 52 myndir úr Tórshavn</td><td>0                                        </td><td>1990                                     </td><td> 80                                      </td><td>Comedy,Drama                             </td></tr>\n",
       "\t<tr><th scope=row>144</th><td>tt0096975                                </td><td>short                                    </td><td>Bravo Papa 2040                          </td><td>Bravo Papa 2040                          </td><td>0                                        </td><td>1992                                     </td><td>  6                                      </td><td>Short                                    </td></tr>\n",
       "\t<tr><th scope=row>202</th><td>tt0097592                                </td><td>tvMovie                                  </td><td>The Iron Butterfly 2                     </td><td>Dak ging 90 II - Zi mong meng tin ngaai  </td><td>0                                        </td><td>1990                                     </td><td> NA                                      </td><td>Action,Romance                           </td></tr>\n",
       "</tbody>\n",
       "</table>\n"
      ],
      "text/latex": [
       "\\begin{tabular}{r|llllllll}\n",
       "  & tconst & titleType & primaryTitle & originalTitle & isAdult & startYear & runtimeMinutes & genres\\\\\n",
       "\\hline\n",
       "\t4 & tt0059325                                 & movie                                     & Born in '45                               & Jahrgang 45                               & 0                                         & 1990                                      & 100                                       & Drama,Romance                            \\\\\n",
       "\t51 & tt0093210                                 & movie                                     & La hora 24                                & La hora 24                                & 0                                         & 1990                                      &  98                                       & Drama,Fantasy                            \\\\\n",
       "\t113 & tt0096749                                 & movie                                     & Abatjour 2                                & Abatjour 2                                & 1                                         & 1990                                      & 100                                       & Crime,Mystery,Romance                    \\\\\n",
       "\t128 & tt0096845                                 & movie                                     & Atlantic Rhapsody - 52 myndir úr Tórshavn & Atlantic Rhapsody - 52 myndir úr Tórshavn & 0                                         & 1990                                      &  80                                       & Comedy,Drama                             \\\\\n",
       "\t144 & tt0096975                                 & short                                     & Bravo Papa 2040                           & Bravo Papa 2040                           & 0                                         & 1992                                      &   6                                       & Short                                    \\\\\n",
       "\t202 & tt0097592                                 & tvMovie                                   & The Iron Butterfly 2                      & Dak ging 90 II - Zi mong meng tin ngaai   & 0                                         & 1990                                      &  NA                                       & Action,Romance                           \\\\\n",
       "\\end{tabular}\n"
      ],
      "text/markdown": [
       "\n",
       "| <!--/--> | tconst | titleType | primaryTitle | originalTitle | isAdult | startYear | runtimeMinutes | genres |\n",
       "|---|---|---|---|---|---|---|---|---|\n",
       "| 4 | tt0059325                                 | movie                                     | Born in '45                               | Jahrgang 45                               | 0                                         | 1990                                      | 100                                       | Drama,Romance                             |\n",
       "| 51 | tt0093210                                 | movie                                     | La hora 24                                | La hora 24                                | 0                                         | 1990                                      |  98                                       | Drama,Fantasy                             |\n",
       "| 113 | tt0096749                                 | movie                                     | Abatjour 2                                | Abatjour 2                                | 1                                         | 1990                                      | 100                                       | Crime,Mystery,Romance                     |\n",
       "| 128 | tt0096845                                 | movie                                     | Atlantic Rhapsody - 52 myndir úr Tórshavn | Atlantic Rhapsody - 52 myndir úr Tórshavn | 0                                         | 1990                                      |  80                                       | Comedy,Drama                              |\n",
       "| 144 | tt0096975                                 | short                                     | Bravo Papa 2040                           | Bravo Papa 2040                           | 0                                         | 1992                                      |   6                                       | Short                                     |\n",
       "| 202 | tt0097592                                 | tvMovie                                   | The Iron Butterfly 2                      | Dak ging 90 II - Zi mong meng tin ngaai   | 0                                         | 1990                                      |  NA                                       | Action,Romance                            |\n",
       "\n"
      ],
      "text/plain": [
       "    tconst    titleType primaryTitle                             \n",
       "4   tt0059325 movie     Born in '45                              \n",
       "51  tt0093210 movie     La hora 24                               \n",
       "113 tt0096749 movie     Abatjour 2                               \n",
       "128 tt0096845 movie     Atlantic Rhapsody - 52 myndir úr Tórshavn\n",
       "144 tt0096975 short     Bravo Papa 2040                          \n",
       "202 tt0097592 tvMovie   The Iron Butterfly 2                     \n",
       "    originalTitle                             isAdult startYear runtimeMinutes\n",
       "4   Jahrgang 45                               0       1990      100           \n",
       "51  La hora 24                                0       1990       98           \n",
       "113 Abatjour 2                                1       1990      100           \n",
       "128 Atlantic Rhapsody - 52 myndir úr Tórshavn 0       1990       80           \n",
       "144 Bravo Papa 2040                           0       1992        6           \n",
       "202 Dak ging 90 II - Zi mong meng tin ngaai   0       1990       NA           \n",
       "    genres               \n",
       "4   Drama,Romance        \n",
       "51  Drama,Fantasy        \n",
       "113 Crime,Mystery,Romance\n",
       "128 Comedy,Drama         \n",
       "144 Short                \n",
       "202 Action,Romance       "
      ]
     },
     "metadata": {},
     "output_type": "display_data"
    }
   ],
   "source": [
    "df_filtrado <- df[grepl('[0-9]', df$primaryTitle),]\n",
    "head(df_filtrado)"
   ]
  },
  {
   "cell_type": "markdown",
   "id": "aded3ab8-d37d-4930-b495-5cb18dd1a5e1",
   "metadata": {},
   "source": [
    "**Ejemplo:** Seleccionar las filas que contengan en *primaryTitle* un número con `dplyr`."
   ]
  },
  {
   "cell_type": "code",
   "execution_count": 28,
   "id": "4cea4f77-b19e-4aa1-b49d-1f368735068b",
   "metadata": {},
   "outputs": [
    {
     "data": {
      "text/html": [
       "<table>\n",
       "<thead><tr><th scope=col>tconst</th><th scope=col>titleType</th><th scope=col>primaryTitle</th><th scope=col>originalTitle</th><th scope=col>isAdult</th><th scope=col>startYear</th><th scope=col>runtimeMinutes</th><th scope=col>genres</th></tr></thead>\n",
       "<tbody>\n",
       "\t<tr><td>tt0059325                                </td><td>movie                                    </td><td>Born in '45                              </td><td>Jahrgang 45                              </td><td>0                                        </td><td>1990                                     </td><td>100                                      </td><td>Drama,Romance                            </td></tr>\n",
       "\t<tr><td>tt0093210                                </td><td>movie                                    </td><td>La hora 24                               </td><td>La hora 24                               </td><td>0                                        </td><td>1990                                     </td><td> 98                                      </td><td>Drama,Fantasy                            </td></tr>\n",
       "\t<tr><td>tt0096749                                </td><td>movie                                    </td><td>Abatjour 2                               </td><td>Abatjour 2                               </td><td>1                                        </td><td>1990                                     </td><td>100                                      </td><td>Crime,Mystery,Romance                    </td></tr>\n",
       "\t<tr><td>tt0096845                                </td><td>movie                                    </td><td>Atlantic Rhapsody - 52 myndir úr Tórshavn</td><td>Atlantic Rhapsody - 52 myndir úr Tórshavn</td><td>0                                        </td><td>1990                                     </td><td> 80                                      </td><td>Comedy,Drama                             </td></tr>\n",
       "\t<tr><td>tt0096975                                </td><td>short                                    </td><td>Bravo Papa 2040                          </td><td>Bravo Papa 2040                          </td><td>0                                        </td><td>1992                                     </td><td>  6                                      </td><td>Short                                    </td></tr>\n",
       "\t<tr><td>tt0097592                                </td><td>tvMovie                                  </td><td>The Iron Butterfly 2                     </td><td>Dak ging 90 II - Zi mong meng tin ngaai  </td><td>0                                        </td><td>1990                                     </td><td> NA                                      </td><td>Action,Romance                           </td></tr>\n",
       "</tbody>\n",
       "</table>\n"
      ],
      "text/latex": [
       "\\begin{tabular}{r|llllllll}\n",
       " tconst & titleType & primaryTitle & originalTitle & isAdult & startYear & runtimeMinutes & genres\\\\\n",
       "\\hline\n",
       "\t tt0059325                                 & movie                                     & Born in '45                               & Jahrgang 45                               & 0                                         & 1990                                      & 100                                       & Drama,Romance                            \\\\\n",
       "\t tt0093210                                 & movie                                     & La hora 24                                & La hora 24                                & 0                                         & 1990                                      &  98                                       & Drama,Fantasy                            \\\\\n",
       "\t tt0096749                                 & movie                                     & Abatjour 2                                & Abatjour 2                                & 1                                         & 1990                                      & 100                                       & Crime,Mystery,Romance                    \\\\\n",
       "\t tt0096845                                 & movie                                     & Atlantic Rhapsody - 52 myndir úr Tórshavn & Atlantic Rhapsody - 52 myndir úr Tórshavn & 0                                         & 1990                                      &  80                                       & Comedy,Drama                             \\\\\n",
       "\t tt0096975                                 & short                                     & Bravo Papa 2040                           & Bravo Papa 2040                           & 0                                         & 1992                                      &   6                                       & Short                                    \\\\\n",
       "\t tt0097592                                 & tvMovie                                   & The Iron Butterfly 2                      & Dak ging 90 II - Zi mong meng tin ngaai   & 0                                         & 1990                                      &  NA                                       & Action,Romance                           \\\\\n",
       "\\end{tabular}\n"
      ],
      "text/markdown": [
       "\n",
       "| tconst | titleType | primaryTitle | originalTitle | isAdult | startYear | runtimeMinutes | genres |\n",
       "|---|---|---|---|---|---|---|---|\n",
       "| tt0059325                                 | movie                                     | Born in '45                               | Jahrgang 45                               | 0                                         | 1990                                      | 100                                       | Drama,Romance                             |\n",
       "| tt0093210                                 | movie                                     | La hora 24                                | La hora 24                                | 0                                         | 1990                                      |  98                                       | Drama,Fantasy                             |\n",
       "| tt0096749                                 | movie                                     | Abatjour 2                                | Abatjour 2                                | 1                                         | 1990                                      | 100                                       | Crime,Mystery,Romance                     |\n",
       "| tt0096845                                 | movie                                     | Atlantic Rhapsody - 52 myndir úr Tórshavn | Atlantic Rhapsody - 52 myndir úr Tórshavn | 0                                         | 1990                                      |  80                                       | Comedy,Drama                              |\n",
       "| tt0096975                                 | short                                     | Bravo Papa 2040                           | Bravo Papa 2040                           | 0                                         | 1992                                      |   6                                       | Short                                     |\n",
       "| tt0097592                                 | tvMovie                                   | The Iron Butterfly 2                      | Dak ging 90 II - Zi mong meng tin ngaai   | 0                                         | 1990                                      |  NA                                       | Action,Romance                            |\n",
       "\n"
      ],
      "text/plain": [
       "  tconst    titleType primaryTitle                             \n",
       "1 tt0059325 movie     Born in '45                              \n",
       "2 tt0093210 movie     La hora 24                               \n",
       "3 tt0096749 movie     Abatjour 2                               \n",
       "4 tt0096845 movie     Atlantic Rhapsody - 52 myndir úr Tórshavn\n",
       "5 tt0096975 short     Bravo Papa 2040                          \n",
       "6 tt0097592 tvMovie   The Iron Butterfly 2                     \n",
       "  originalTitle                             isAdult startYear runtimeMinutes\n",
       "1 Jahrgang 45                               0       1990      100           \n",
       "2 La hora 24                                0       1990       98           \n",
       "3 Abatjour 2                                1       1990      100           \n",
       "4 Atlantic Rhapsody - 52 myndir úr Tórshavn 0       1990       80           \n",
       "5 Bravo Papa 2040                           0       1992        6           \n",
       "6 Dak ging 90 II - Zi mong meng tin ngaai   0       1990       NA           \n",
       "  genres               \n",
       "1 Drama,Romance        \n",
       "2 Drama,Fantasy        \n",
       "3 Crime,Mystery,Romance\n",
       "4 Comedy,Drama         \n",
       "5 Short                \n",
       "6 Action,Romance       "
      ]
     },
     "metadata": {},
     "output_type": "display_data"
    }
   ],
   "source": [
    "df_filtrado <- filter(df, grepl('[0-9]', primaryTitle))\n",
    "head(df_filtrado)"
   ]
  },
  {
   "cell_type": "markdown",
   "id": "5b481dd8-dc28-4d4c-9b86-d122deb570eb",
   "metadata": {},
   "source": [
    "## Concatenación de operaciones"
   ]
  },
  {
   "cell_type": "markdown",
   "id": "fa00eaaa-93df-4851-860e-0ff8c8a8dcb8",
   "metadata": {},
   "source": [
    "Podemos realizar simultáneamente una selección de variables y casos. La opción básica no requiere de mayores explicaciones."
   ]
  },
  {
   "cell_type": "markdown",
   "id": "a3e5f45f-6cf0-4471-ac26-52983dcd6e19",
   "metadata": {},
   "source": [
    "**Ejemplo:** Seleccionar las filas que contengan en *genres* Comedy y las columnas *primaryTitle* y *startYear*."
   ]
  },
  {
   "cell_type": "code",
   "execution_count": 29,
   "id": "c7d8f866-8cc2-44c2-a414-260685953ca9",
   "metadata": {},
   "outputs": [
    {
     "data": {
      "text/html": [
       "<table>\n",
       "<thead><tr><th></th><th scope=col>primaryTitle</th><th scope=col>startYear</th></tr></thead>\n",
       "<tbody>\n",
       "\t<tr><th scope=row>13</th><td>Me and the Kid                 </td><td>1993                           </td></tr>\n",
       "\t<tr><th scope=row>23</th><td>The Buddhist Spell             </td><td>1993                           </td></tr>\n",
       "\t<tr><th scope=row>28</th><td>Tian di xuan men               </td><td>1991                           </td></tr>\n",
       "\t<tr><th scope=row>31</th><td>Man(n) sucht Frau              </td><td>1995                           </td></tr>\n",
       "\t<tr><th scope=row>35</th><td>Halfaouine: Boy of the Terraces</td><td>1990                           </td></tr>\n",
       "\t<tr><th scope=row>40</th><td>The Scarlet Scorpion           </td><td>1990                           </td></tr>\n",
       "</tbody>\n",
       "</table>\n"
      ],
      "text/latex": [
       "\\begin{tabular}{r|ll}\n",
       "  & primaryTitle & startYear\\\\\n",
       "\\hline\n",
       "\t13 & Me and the Kid                  & 1993                           \\\\\n",
       "\t23 & The Buddhist Spell              & 1993                           \\\\\n",
       "\t28 & Tian di xuan men                & 1991                           \\\\\n",
       "\t31 & Man(n) sucht Frau               & 1995                           \\\\\n",
       "\t35 & Halfaouine: Boy of the Terraces & 1990                           \\\\\n",
       "\t40 & The Scarlet Scorpion            & 1990                           \\\\\n",
       "\\end{tabular}\n"
      ],
      "text/markdown": [
       "\n",
       "| <!--/--> | primaryTitle | startYear |\n",
       "|---|---|---|\n",
       "| 13 | Me and the Kid                  | 1993                            |\n",
       "| 23 | The Buddhist Spell              | 1993                            |\n",
       "| 28 | Tian di xuan men                | 1991                            |\n",
       "| 31 | Man(n) sucht Frau               | 1995                            |\n",
       "| 35 | Halfaouine: Boy of the Terraces | 1990                            |\n",
       "| 40 | The Scarlet Scorpion            | 1990                            |\n",
       "\n"
      ],
      "text/plain": [
       "   primaryTitle                    startYear\n",
       "13 Me and the Kid                  1993     \n",
       "23 The Buddhist Spell              1993     \n",
       "28 Tian di xuan men                1991     \n",
       "31 Man(n) sucht Frau               1995     \n",
       "35 Halfaouine: Boy of the Terraces 1990     \n",
       "40 The Scarlet Scorpion            1990     "
      ]
     },
     "metadata": {},
     "output_type": "display_data"
    }
   ],
   "source": [
    "df_filtrado <- df[grepl('Comedy', df$genres), c('primaryTitle', 'startYear')]\n",
    "head(df_filtrado)"
   ]
  },
  {
   "cell_type": "markdown",
   "id": "e1ecb38b-a236-4a3f-b631-f0905305d55b",
   "metadata": {},
   "source": [
    "Sin embargo, como ya adelantamos, para concatenar operaciones en `dplyr` tenemos el operador pipe (%\\>%). Un aspecto importante en su uso es que en primer lugar indicamos el *data.frame* y tras ello vamos encadenando funciones sin indicar en estas la variable."
   ]
  },
  {
   "cell_type": "markdown",
   "id": "f4cf00d1-0b68-450c-af19-08d1ea11732f",
   "metadata": {},
   "source": [
    "**Ejemplo:** Seleccionar las filas que contengan en *genres* Comedy y las columnas *primaryTitle* y *startYear* con `dplyr`."
   ]
  },
  {
   "cell_type": "code",
   "execution_count": 30,
   "id": "8c466cc0-fef6-4973-9182-7df8a4383382",
   "metadata": {},
   "outputs": [
    {
     "data": {
      "text/html": [
       "<table>\n",
       "<thead><tr><th scope=col>primaryTitle</th><th scope=col>startYear</th></tr></thead>\n",
       "<tbody>\n",
       "\t<tr><td>Me and the Kid                 </td><td>1993                           </td></tr>\n",
       "\t<tr><td>The Buddhist Spell             </td><td>1993                           </td></tr>\n",
       "\t<tr><td>Tian di xuan men               </td><td>1991                           </td></tr>\n",
       "\t<tr><td>Man(n) sucht Frau              </td><td>1995                           </td></tr>\n",
       "\t<tr><td>Halfaouine: Boy of the Terraces</td><td>1990                           </td></tr>\n",
       "\t<tr><td>The Scarlet Scorpion           </td><td>1990                           </td></tr>\n",
       "</tbody>\n",
       "</table>\n"
      ],
      "text/latex": [
       "\\begin{tabular}{r|ll}\n",
       " primaryTitle & startYear\\\\\n",
       "\\hline\n",
       "\t Me and the Kid                  & 1993                           \\\\\n",
       "\t The Buddhist Spell              & 1993                           \\\\\n",
       "\t Tian di xuan men                & 1991                           \\\\\n",
       "\t Man(n) sucht Frau               & 1995                           \\\\\n",
       "\t Halfaouine: Boy of the Terraces & 1990                           \\\\\n",
       "\t The Scarlet Scorpion            & 1990                           \\\\\n",
       "\\end{tabular}\n"
      ],
      "text/markdown": [
       "\n",
       "| primaryTitle | startYear |\n",
       "|---|---|\n",
       "| Me and the Kid                  | 1993                            |\n",
       "| The Buddhist Spell              | 1993                            |\n",
       "| Tian di xuan men                | 1991                            |\n",
       "| Man(n) sucht Frau               | 1995                            |\n",
       "| Halfaouine: Boy of the Terraces | 1990                            |\n",
       "| The Scarlet Scorpion            | 1990                            |\n",
       "\n"
      ],
      "text/plain": [
       "  primaryTitle                    startYear\n",
       "1 Me and the Kid                  1993     \n",
       "2 The Buddhist Spell              1993     \n",
       "3 Tian di xuan men                1991     \n",
       "4 Man(n) sucht Frau               1995     \n",
       "5 Halfaouine: Boy of the Terraces 1990     \n",
       "6 The Scarlet Scorpion            1990     "
      ]
     },
     "metadata": {},
     "output_type": "display_data"
    }
   ],
   "source": [
    "df_filtrado <- df %>%\n",
    "  filter(grepl('Comedy', genres)) %>%\n",
    "  select(primaryTitle, startYear)\n",
    "head(df_filtrado)"
   ]
  },
  {
   "cell_type": "markdown",
   "id": "525860af-c9f6-4541-a99a-ba4bc0139a2c",
   "metadata": {},
   "source": [
    "## Cruzando *data.frames*"
   ]
  },
  {
   "cell_type": "markdown",
   "id": "d887c609-1104-4f0d-9748-b0b77f1fc9fe",
   "metadata": {},
   "source": [
    "Esta es una de las operaciones clave y que en R se puede llevar a cabo de manera muy rápida y sencilla. Al cruzar diferentes datasets tenemos cuatro opciones básicas:\n",
    "\n",
    "-   **Inner** - Se mantienen las instancias comunes, combinándose las variables de ambos datasets.\n",
    "-   **Left** - Se mantienen las instancias comunes y todas las demás del dataset que se mantiene a la izquierda, combinándose las variables de ambos datasets. En el caso de las instancias no comunes, los valores de las variables nuevas aparecen como nulos.\n",
    "-   **Right** - Se mantienen las instancias comunes y todas las demás del dataset que se mantiene a la derecha, combinándose las variables de ambos datasets. En el caso de las instancias no comunes, los valores de las variables nuevas aparecen como nulos.\n",
    "-   **Full** - Se mantienen las instancias comunes y todas las demás, combinándose las variables de ambos datasets. En el caso de las instancias no comunes, los valores de las variables nuevas aparecen como nulos.\n",
    "\n",
    "![Fuente: https://www.hostingplus.cl/blog/tipos-de-join-en-sql-cuales-son-los-principales/](images/joins.jpg)\n",
    "\n",
    "Para este caso vamos a importar un nuevo dataset para cruzarlo con el ya presente. Vamos a importar los datos de votaciones."
   ]
  },
  {
   "cell_type": "code",
   "execution_count": 31,
   "id": "e41051c9-334c-47ef-80e9-76bcc86c6721",
   "metadata": {},
   "outputs": [],
   "source": [
    "df_notas <- read.delim(file = 'data/title_ratings.tsv',\n",
    "                       quote = '', # no tengo calificadores\n",
    "                       na.strings = 'null', # caracteres nulos\n",
    "                       encoding = 'UTF-8') # codificación\n",
    "\n",
    "df_akas <- read.delim(file = 'data/title_akas.tsv',\n",
    "                      quote = '', # no tengo calificadores\n",
    "                      na.strings = 'null', # caracteres nulos\n",
    "                      encoding = 'UTF-8') # codificación"
   ]
  },
  {
   "cell_type": "markdown",
   "id": "6d83d11b-0bb8-4f50-8516-7b446689d04c",
   "metadata": {},
   "source": [
    "En lugar de usar la opción base de R vamos a optar directamente por el paquete `dplyr`, ya que está más optimizado al respecto. De este modo contamos con las funciones `inner_join()`, `left_join()`, `right_join()` y `full_join()`. En todos ellos la forma de trabajar es la misma, se indica el dataset de la izquierda, el de la derecha y la variable en común para cruzarlos."
   ]
  },
  {
   "cell_type": "markdown",
   "id": "cd0c9057-e494-418c-87a1-b5b5d6bd4239",
   "metadata": {},
   "source": [
    "**Ejemplo:** Combinar los datos de películas con los datos de sus respectivas notas dejando solo las películas que tienen notas con `dplyr`."
   ]
  },
  {
   "cell_type": "code",
   "execution_count": 32,
   "id": "123ed9fe-2fa4-45f1-9dc2-2026e37c81ef",
   "metadata": {},
   "outputs": [
    {
     "name": "stderr",
     "output_type": "stream",
     "text": [
      "Warning message:\n",
      "“Column `tconst` joining character vector and factor, coercing into character vector”"
     ]
    },
    {
     "data": {
      "text/html": [
       "<table>\n",
       "<thead><tr><th scope=col>tconst</th><th scope=col>titleType</th><th scope=col>primaryTitle</th><th scope=col>originalTitle</th><th scope=col>isAdult</th><th scope=col>startYear</th><th scope=col>runtimeMinutes</th><th scope=col>genres</th><th scope=col>averageRating</th><th scope=col>numVotes</th></tr></thead>\n",
       "<tbody>\n",
       "\t<tr><td>tt0015724                     </td><td>movie                         </td><td>Dama de noche                 </td><td>Dama de noche                 </td><td>0                             </td><td>1993                          </td><td>102                           </td><td>Drama,Mystery,Romance         </td><td>6.1                           </td><td> 26                           </td></tr>\n",
       "\t<tr><td>tt0038086                     </td><td>movie                         </td><td>Shiva und die Galgenblume     </td><td>Shiva und die Galgenblume     </td><td>0                             </td><td>1993                          </td><td> NA                           </td><td>Thriller                      </td><td>7.0                           </td><td> 26                           </td></tr>\n",
       "\t<tr><td>tt0040844                     </td><td>short                         </td><td>Crossroads of Laredo          </td><td>Crossroads of Laredo          </td><td>0                             </td><td>1995                          </td><td> 30                           </td><td>Short,Western                 </td><td>3.3                           </td><td>186                           </td></tr>\n",
       "\t<tr><td>tt0059325                     </td><td>movie                         </td><td>Born in '45                   </td><td>Jahrgang 45                   </td><td>0                             </td><td>1990                          </td><td>100                           </td><td>Drama,Romance                 </td><td>6.4                           </td><td>249                           </td></tr>\n",
       "\t<tr><td>tt0059900                     </td><td>movie                         </td><td>Wenn du groß bist, lieber Adam</td><td>Wenn du groß bist, lieber Adam</td><td>0                             </td><td>1990                          </td><td> 78                           </td><td>Drama,Fantasy                 </td><td>6.6                           </td><td> 37                           </td></tr>\n",
       "\t<tr><td>tt0065188                     </td><td>movie                         </td><td>Vojtech, receny sirotek       </td><td>Vojtech, receny sirotek       </td><td>0                             </td><td>1990                          </td><td> 80                           </td><td>Drama                         </td><td>6.5                           </td><td> 36                           </td></tr>\n",
       "</tbody>\n",
       "</table>\n"
      ],
      "text/latex": [
       "\\begin{tabular}{r|llllllllll}\n",
       " tconst & titleType & primaryTitle & originalTitle & isAdult & startYear & runtimeMinutes & genres & averageRating & numVotes\\\\\n",
       "\\hline\n",
       "\t tt0015724                      & movie                          & Dama de noche                  & Dama de noche                  & 0                              & 1993                           & 102                            & Drama,Mystery,Romance          & 6.1                            &  26                           \\\\\n",
       "\t tt0038086                      & movie                          & Shiva und die Galgenblume      & Shiva und die Galgenblume      & 0                              & 1993                           &  NA                            & Thriller                       & 7.0                            &  26                           \\\\\n",
       "\t tt0040844                      & short                          & Crossroads of Laredo           & Crossroads of Laredo           & 0                              & 1995                           &  30                            & Short,Western                  & 3.3                            & 186                           \\\\\n",
       "\t tt0059325                      & movie                          & Born in '45                    & Jahrgang 45                    & 0                              & 1990                           & 100                            & Drama,Romance                  & 6.4                            & 249                           \\\\\n",
       "\t tt0059900                      & movie                          & Wenn du groß bist, lieber Adam & Wenn du groß bist, lieber Adam & 0                              & 1990                           &  78                            & Drama,Fantasy                  & 6.6                            &  37                           \\\\\n",
       "\t tt0065188                      & movie                          & Vojtech, receny sirotek        & Vojtech, receny sirotek        & 0                              & 1990                           &  80                            & Drama                          & 6.5                            &  36                           \\\\\n",
       "\\end{tabular}\n"
      ],
      "text/markdown": [
       "\n",
       "| tconst | titleType | primaryTitle | originalTitle | isAdult | startYear | runtimeMinutes | genres | averageRating | numVotes |\n",
       "|---|---|---|---|---|---|---|---|---|---|\n",
       "| tt0015724                      | movie                          | Dama de noche                  | Dama de noche                  | 0                              | 1993                           | 102                            | Drama,Mystery,Romance          | 6.1                            |  26                            |\n",
       "| tt0038086                      | movie                          | Shiva und die Galgenblume      | Shiva und die Galgenblume      | 0                              | 1993                           |  NA                            | Thriller                       | 7.0                            |  26                            |\n",
       "| tt0040844                      | short                          | Crossroads of Laredo           | Crossroads of Laredo           | 0                              | 1995                           |  30                            | Short,Western                  | 3.3                            | 186                            |\n",
       "| tt0059325                      | movie                          | Born in '45                    | Jahrgang 45                    | 0                              | 1990                           | 100                            | Drama,Romance                  | 6.4                            | 249                            |\n",
       "| tt0059900                      | movie                          | Wenn du groß bist, lieber Adam | Wenn du groß bist, lieber Adam | 0                              | 1990                           |  78                            | Drama,Fantasy                  | 6.6                            |  37                            |\n",
       "| tt0065188                      | movie                          | Vojtech, receny sirotek        | Vojtech, receny sirotek        | 0                              | 1990                           |  80                            | Drama                          | 6.5                            |  36                            |\n",
       "\n"
      ],
      "text/plain": [
       "  tconst    titleType primaryTitle                  \n",
       "1 tt0015724 movie     Dama de noche                 \n",
       "2 tt0038086 movie     Shiva und die Galgenblume     \n",
       "3 tt0040844 short     Crossroads of Laredo          \n",
       "4 tt0059325 movie     Born in '45                   \n",
       "5 tt0059900 movie     Wenn du groß bist, lieber Adam\n",
       "6 tt0065188 movie     Vojtech, receny sirotek       \n",
       "  originalTitle                  isAdult startYear runtimeMinutes\n",
       "1 Dama de noche                  0       1993      102           \n",
       "2 Shiva und die Galgenblume      0       1993       NA           \n",
       "3 Crossroads of Laredo           0       1995       30           \n",
       "4 Jahrgang 45                    0       1990      100           \n",
       "5 Wenn du groß bist, lieber Adam 0       1990       78           \n",
       "6 Vojtech, receny sirotek        0       1990       80           \n",
       "  genres                averageRating numVotes\n",
       "1 Drama,Mystery,Romance 6.1            26     \n",
       "2 Thriller              7.0            26     \n",
       "3 Short,Western         3.3           186     \n",
       "4 Drama,Romance         6.4           249     \n",
       "5 Drama,Fantasy         6.6            37     \n",
       "6 Drama                 6.5            36     "
      ]
     },
     "metadata": {},
     "output_type": "display_data"
    }
   ],
   "source": [
    "df_filtrado <- inner_join(x=df, y=df_notas, by='tconst')\n",
    "head(df_filtrado)"
   ]
  },
  {
   "cell_type": "markdown",
   "id": "317202dc-13de-4ef6-b8a5-7934d63d86ab",
   "metadata": {},
   "source": [
    "**Ejemplo:** Combinar los datos de películas con los datos de sus respectivas notas dejando tanto las películas que tienen notas como las que no con `dplyr`."
   ]
  },
  {
   "cell_type": "code",
   "execution_count": 33,
   "id": "71945d28-bed7-42d1-aa3e-d8a0772b8f2c",
   "metadata": {},
   "outputs": [
    {
     "name": "stderr",
     "output_type": "stream",
     "text": [
      "Warning message:\n",
      "“Column `tconst` joining character vector and factor, coercing into character vector”Warning message:\n",
      "“Column `tconst` joining character vector and factor, coercing into character vector”"
     ]
    },
    {
     "data": {
      "text/html": [
       "<table>\n",
       "<thead><tr><th scope=col>tconst</th><th scope=col>titleType</th><th scope=col>primaryTitle</th><th scope=col>originalTitle</th><th scope=col>isAdult</th><th scope=col>startYear</th><th scope=col>runtimeMinutes</th><th scope=col>genres</th><th scope=col>averageRating</th><th scope=col>numVotes</th></tr></thead>\n",
       "<tbody>\n",
       "\t<tr><td>tt0015724                     </td><td>movie                         </td><td>Dama de noche                 </td><td>Dama de noche                 </td><td>0                             </td><td>1993                          </td><td>102                           </td><td>Drama,Mystery,Romance         </td><td>6.1                           </td><td> 26                           </td></tr>\n",
       "\t<tr><td>tt0038086                     </td><td>movie                         </td><td>Shiva und die Galgenblume     </td><td>Shiva und die Galgenblume     </td><td>0                             </td><td>1993                          </td><td> NA                           </td><td>Thriller                      </td><td>7.0                           </td><td> 26                           </td></tr>\n",
       "\t<tr><td>tt0040844                     </td><td>short                         </td><td>Crossroads of Laredo          </td><td>Crossroads of Laredo          </td><td>0                             </td><td>1995                          </td><td> 30                           </td><td>Short,Western                 </td><td>3.3                           </td><td>186                           </td></tr>\n",
       "\t<tr><td>tt0059325                     </td><td>movie                         </td><td>Born in '45                   </td><td>Jahrgang 45                   </td><td>0                             </td><td>1990                          </td><td>100                           </td><td>Drama,Romance                 </td><td>6.4                           </td><td>249                           </td></tr>\n",
       "\t<tr><td>tt0059900                     </td><td>movie                         </td><td>Wenn du groß bist, lieber Adam</td><td>Wenn du groß bist, lieber Adam</td><td>0                             </td><td>1990                          </td><td> 78                           </td><td>Drama,Fantasy                 </td><td>6.6                           </td><td> 37                           </td></tr>\n",
       "\t<tr><td>tt0065188                     </td><td>movie                         </td><td>Vojtech, receny sirotek       </td><td>Vojtech, receny sirotek       </td><td>0                             </td><td>1990                          </td><td> 80                           </td><td>Drama                         </td><td>6.5                           </td><td> 36                           </td></tr>\n",
       "</tbody>\n",
       "</table>\n"
      ],
      "text/latex": [
       "\\begin{tabular}{r|llllllllll}\n",
       " tconst & titleType & primaryTitle & originalTitle & isAdult & startYear & runtimeMinutes & genres & averageRating & numVotes\\\\\n",
       "\\hline\n",
       "\t tt0015724                      & movie                          & Dama de noche                  & Dama de noche                  & 0                              & 1993                           & 102                            & Drama,Mystery,Romance          & 6.1                            &  26                           \\\\\n",
       "\t tt0038086                      & movie                          & Shiva und die Galgenblume      & Shiva und die Galgenblume      & 0                              & 1993                           &  NA                            & Thriller                       & 7.0                            &  26                           \\\\\n",
       "\t tt0040844                      & short                          & Crossroads of Laredo           & Crossroads of Laredo           & 0                              & 1995                           &  30                            & Short,Western                  & 3.3                            & 186                           \\\\\n",
       "\t tt0059325                      & movie                          & Born in '45                    & Jahrgang 45                    & 0                              & 1990                           & 100                            & Drama,Romance                  & 6.4                            & 249                           \\\\\n",
       "\t tt0059900                      & movie                          & Wenn du groß bist, lieber Adam & Wenn du groß bist, lieber Adam & 0                              & 1990                           &  78                            & Drama,Fantasy                  & 6.6                            &  37                           \\\\\n",
       "\t tt0065188                      & movie                          & Vojtech, receny sirotek        & Vojtech, receny sirotek        & 0                              & 1990                           &  80                            & Drama                          & 6.5                            &  36                           \\\\\n",
       "\\end{tabular}\n"
      ],
      "text/markdown": [
       "\n",
       "| tconst | titleType | primaryTitle | originalTitle | isAdult | startYear | runtimeMinutes | genres | averageRating | numVotes |\n",
       "|---|---|---|---|---|---|---|---|---|---|\n",
       "| tt0015724                      | movie                          | Dama de noche                  | Dama de noche                  | 0                              | 1993                           | 102                            | Drama,Mystery,Romance          | 6.1                            |  26                            |\n",
       "| tt0038086                      | movie                          | Shiva und die Galgenblume      | Shiva und die Galgenblume      | 0                              | 1993                           |  NA                            | Thriller                       | 7.0                            |  26                            |\n",
       "| tt0040844                      | short                          | Crossroads of Laredo           | Crossroads of Laredo           | 0                              | 1995                           |  30                            | Short,Western                  | 3.3                            | 186                            |\n",
       "| tt0059325                      | movie                          | Born in '45                    | Jahrgang 45                    | 0                              | 1990                           | 100                            | Drama,Romance                  | 6.4                            | 249                            |\n",
       "| tt0059900                      | movie                          | Wenn du groß bist, lieber Adam | Wenn du groß bist, lieber Adam | 0                              | 1990                           |  78                            | Drama,Fantasy                  | 6.6                            |  37                            |\n",
       "| tt0065188                      | movie                          | Vojtech, receny sirotek        | Vojtech, receny sirotek        | 0                              | 1990                           |  80                            | Drama                          | 6.5                            |  36                            |\n",
       "\n"
      ],
      "text/plain": [
       "  tconst    titleType primaryTitle                  \n",
       "1 tt0015724 movie     Dama de noche                 \n",
       "2 tt0038086 movie     Shiva und die Galgenblume     \n",
       "3 tt0040844 short     Crossroads of Laredo          \n",
       "4 tt0059325 movie     Born in '45                   \n",
       "5 tt0059900 movie     Wenn du groß bist, lieber Adam\n",
       "6 tt0065188 movie     Vojtech, receny sirotek       \n",
       "  originalTitle                  isAdult startYear runtimeMinutes\n",
       "1 Dama de noche                  0       1993      102           \n",
       "2 Shiva und die Galgenblume      0       1993       NA           \n",
       "3 Crossroads of Laredo           0       1995       30           \n",
       "4 Jahrgang 45                    0       1990      100           \n",
       "5 Wenn du groß bist, lieber Adam 0       1990       78           \n",
       "6 Vojtech, receny sirotek        0       1990       80           \n",
       "  genres                averageRating numVotes\n",
       "1 Drama,Mystery,Romance 6.1            26     \n",
       "2 Thriller              7.0            26     \n",
       "3 Short,Western         3.3           186     \n",
       "4 Drama,Romance         6.4           249     \n",
       "5 Drama,Fantasy         6.6            37     \n",
       "6 Drama                 6.5            36     "
      ]
     },
     "metadata": {},
     "output_type": "display_data"
    }
   ],
   "source": [
    "df_filtrado <- left_join(x=df, y=df_notas, by='tconst')\n",
    "df_filtrado <- full_join(x=df, y=df_notas, by='tconst') # no hay notas sin películas\n",
    "head(df_filtrado)"
   ]
  },
  {
   "cell_type": "markdown",
   "id": "7006b2c2-c96c-45a0-b42b-4d3a6eb81a8e",
   "metadata": {},
   "source": [
    "Puede darse el caso también de que la variable que utilizamos para hacer el join se llame de forma diferente en ambos datasets. Entre las alternativas posibles para sortear este contratiempo la más rápida pasa por indicarle esta asociación a la función de join que estemos usando."
   ]
  },
  {
   "cell_type": "markdown",
   "id": "b5ecae6c-053c-4d0d-a41e-931e2836a217",
   "metadata": {},
   "source": [
    "**Ejemplo:** Combinar los datos de películas con los datos de sus títulos en otros idiomas dejando solo las películas con títulos traducidos con `dplyr`."
   ]
  },
  {
   "cell_type": "code",
   "execution_count": 34,
   "id": "9b7a54ed-70b1-459f-964c-bd513ede9eed",
   "metadata": {},
   "outputs": [
    {
     "name": "stderr",
     "output_type": "stream",
     "text": [
      "Warning message:\n",
      "“Column `tconst`/`titleId` joining character vector and factor, coercing into character vector”"
     ]
    },
    {
     "data": {
      "text/html": [
       "<table>\n",
       "<thead><tr><th scope=col>tconst</th><th scope=col>titleType</th><th scope=col>primaryTitle</th><th scope=col>originalTitle</th><th scope=col>isAdult</th><th scope=col>startYear</th><th scope=col>runtimeMinutes</th><th scope=col>genres</th><th scope=col>ordering</th><th scope=col>title</th><th scope=col>region</th><th scope=col>language</th><th scope=col>types</th><th scope=col>attributes</th><th scope=col>isOriginalTitle</th></tr></thead>\n",
       "<tbody>\n",
       "\t<tr><td>tt0015724                </td><td>movie                    </td><td>Dama de noche            </td><td>Dama de noche            </td><td>0                        </td><td>1993                     </td><td>102                      </td><td>Drama,Mystery,Romance    </td><td>1                        </td><td>Dama de noche            </td><td>MX                       </td><td>NA                       </td><td>imdbDisplay              </td><td>NA                       </td><td>0                        </td></tr>\n",
       "\t<tr><td>tt0015724                </td><td>movie                    </td><td>Dama de noche            </td><td>Dama de noche            </td><td>0                        </td><td>1993                     </td><td>102                      </td><td>Drama,Mystery,Romance    </td><td>2                        </td><td>Dama de noche            </td><td>NA                       </td><td>NA                       </td><td>original                 </td><td>NA                       </td><td>1                        </td></tr>\n",
       "\t<tr><td>tt0015724                </td><td>movie                    </td><td>Dama de noche            </td><td>Dama de noche            </td><td>0                        </td><td>1993                     </td><td>102                      </td><td>Drama,Mystery,Romance    </td><td>3                        </td><td>Éjszakai gyilkosság      </td><td>HU                       </td><td>NA                       </td><td>imdbDisplay              </td><td>NA                       </td><td>0                        </td></tr>\n",
       "\t<tr><td>tt0015724                </td><td>movie                    </td><td>Dama de noche            </td><td>Dama de noche            </td><td>0                        </td><td>1993                     </td><td>102                      </td><td>Drama,Mystery,Romance    </td><td>4                        </td><td>Lady of the Night        </td><td>NA                       </td><td>NA                       </td><td>NA                       </td><td>NA                       </td><td>0                        </td></tr>\n",
       "\t<tr><td>tt0038086                </td><td>movie                    </td><td>Shiva und die Galgenblume</td><td>Shiva und die Galgenblume</td><td>0                        </td><td>1993                     </td><td> NA                      </td><td>Thriller                 </td><td>1                        </td><td>Shiva und die Galgenblume</td><td>DE                       </td><td>NA                       </td><td>imdbDisplay              </td><td>NA                       </td><td>0                        </td></tr>\n",
       "\t<tr><td>tt0038086                </td><td>movie                    </td><td>Shiva und die Galgenblume</td><td>Shiva und die Galgenblume</td><td>0                        </td><td>1993                     </td><td> NA                      </td><td>Thriller                 </td><td>2                        </td><td>Shiva und die Galgenblume</td><td>NA                       </td><td>NA                       </td><td>original                 </td><td>NA                       </td><td>1                        </td></tr>\n",
       "</tbody>\n",
       "</table>\n"
      ],
      "text/latex": [
       "\\begin{tabular}{r|lllllllllllllll}\n",
       " tconst & titleType & primaryTitle & originalTitle & isAdult & startYear & runtimeMinutes & genres & ordering & title & region & language & types & attributes & isOriginalTitle\\\\\n",
       "\\hline\n",
       "\t tt0015724                 & movie                     & Dama de noche             & Dama de noche             & 0                         & 1993                      & 102                       & Drama,Mystery,Romance     & 1                         & Dama de noche             & MX                        & NA                        & imdbDisplay               & NA                        & 0                        \\\\\n",
       "\t tt0015724                 & movie                     & Dama de noche             & Dama de noche             & 0                         & 1993                      & 102                       & Drama,Mystery,Romance     & 2                         & Dama de noche             & NA                        & NA                        & original                  & NA                        & 1                        \\\\\n",
       "\t tt0015724                 & movie                     & Dama de noche             & Dama de noche             & 0                         & 1993                      & 102                       & Drama,Mystery,Romance     & 3                         & Éjszakai gyilkosság       & HU                        & NA                        & imdbDisplay               & NA                        & 0                        \\\\\n",
       "\t tt0015724                 & movie                     & Dama de noche             & Dama de noche             & 0                         & 1993                      & 102                       & Drama,Mystery,Romance     & 4                         & Lady of the Night         & NA                        & NA                        & NA                        & NA                        & 0                        \\\\\n",
       "\t tt0038086                 & movie                     & Shiva und die Galgenblume & Shiva und die Galgenblume & 0                         & 1993                      &  NA                       & Thriller                  & 1                         & Shiva und die Galgenblume & DE                        & NA                        & imdbDisplay               & NA                        & 0                        \\\\\n",
       "\t tt0038086                 & movie                     & Shiva und die Galgenblume & Shiva und die Galgenblume & 0                         & 1993                      &  NA                       & Thriller                  & 2                         & Shiva und die Galgenblume & NA                        & NA                        & original                  & NA                        & 1                        \\\\\n",
       "\\end{tabular}\n"
      ],
      "text/markdown": [
       "\n",
       "| tconst | titleType | primaryTitle | originalTitle | isAdult | startYear | runtimeMinutes | genres | ordering | title | region | language | types | attributes | isOriginalTitle |\n",
       "|---|---|---|---|---|---|---|---|---|---|---|---|---|---|---|\n",
       "| tt0015724                 | movie                     | Dama de noche             | Dama de noche             | 0                         | 1993                      | 102                       | Drama,Mystery,Romance     | 1                         | Dama de noche             | MX                        | NA                        | imdbDisplay               | NA                        | 0                         |\n",
       "| tt0015724                 | movie                     | Dama de noche             | Dama de noche             | 0                         | 1993                      | 102                       | Drama,Mystery,Romance     | 2                         | Dama de noche             | NA                        | NA                        | original                  | NA                        | 1                         |\n",
       "| tt0015724                 | movie                     | Dama de noche             | Dama de noche             | 0                         | 1993                      | 102                       | Drama,Mystery,Romance     | 3                         | Éjszakai gyilkosság       | HU                        | NA                        | imdbDisplay               | NA                        | 0                         |\n",
       "| tt0015724                 | movie                     | Dama de noche             | Dama de noche             | 0                         | 1993                      | 102                       | Drama,Mystery,Romance     | 4                         | Lady of the Night         | NA                        | NA                        | NA                        | NA                        | 0                         |\n",
       "| tt0038086                 | movie                     | Shiva und die Galgenblume | Shiva und die Galgenblume | 0                         | 1993                      |  NA                       | Thriller                  | 1                         | Shiva und die Galgenblume | DE                        | NA                        | imdbDisplay               | NA                        | 0                         |\n",
       "| tt0038086                 | movie                     | Shiva und die Galgenblume | Shiva und die Galgenblume | 0                         | 1993                      |  NA                       | Thriller                  | 2                         | Shiva und die Galgenblume | NA                        | NA                        | original                  | NA                        | 1                         |\n",
       "\n"
      ],
      "text/plain": [
       "  tconst    titleType primaryTitle              originalTitle            \n",
       "1 tt0015724 movie     Dama de noche             Dama de noche            \n",
       "2 tt0015724 movie     Dama de noche             Dama de noche            \n",
       "3 tt0015724 movie     Dama de noche             Dama de noche            \n",
       "4 tt0015724 movie     Dama de noche             Dama de noche            \n",
       "5 tt0038086 movie     Shiva und die Galgenblume Shiva und die Galgenblume\n",
       "6 tt0038086 movie     Shiva und die Galgenblume Shiva und die Galgenblume\n",
       "  isAdult startYear runtimeMinutes genres                ordering\n",
       "1 0       1993      102            Drama,Mystery,Romance 1       \n",
       "2 0       1993      102            Drama,Mystery,Romance 2       \n",
       "3 0       1993      102            Drama,Mystery,Romance 3       \n",
       "4 0       1993      102            Drama,Mystery,Romance 4       \n",
       "5 0       1993       NA            Thriller              1       \n",
       "6 0       1993       NA            Thriller              2       \n",
       "  title                     region language types       attributes\n",
       "1 Dama de noche             MX     NA       imdbDisplay NA        \n",
       "2 Dama de noche             NA     NA       original    NA        \n",
       "3 Éjszakai gyilkosság       HU     NA       imdbDisplay NA        \n",
       "4 Lady of the Night         NA     NA       NA          NA        \n",
       "5 Shiva und die Galgenblume DE     NA       imdbDisplay NA        \n",
       "6 Shiva und die Galgenblume NA     NA       original    NA        \n",
       "  isOriginalTitle\n",
       "1 0              \n",
       "2 1              \n",
       "3 0              \n",
       "4 0              \n",
       "5 0              \n",
       "6 1              "
      ]
     },
     "metadata": {},
     "output_type": "display_data"
    }
   ],
   "source": [
    "df_filtrado <- inner_join(x=df, y=df_akas, by=c('tconst'='titleId'))\n",
    "head(df_filtrado)"
   ]
  },
  {
   "cell_type": "markdown",
   "id": "4d348ade-018e-409d-8fb7-f701627024ca",
   "metadata": {},
   "source": [
    "## Agrupando datos"
   ]
  },
  {
   "cell_type": "markdown",
   "id": "8bbe8a01-56f8-4f4d-b4b6-36a196274890",
   "metadata": {},
   "source": [
    "Otra de las operaciones más populares es la de agregar datos. Tomando una o varias columnas podemos agregar las variables asociadas a ellas y aplicar alguna operación a estos datos agregados (recuento, suma, promedio...). Nuevamente, vamos a centrarnos en la opción que ofrece `dplyr` a través de `group_by()`. No obstante, en este caso también necesitamos usar la función `summarise()`, pues con la primera indicamos cómo agrupamos y con esta última la operación realizada sobre el resto de variables."
   ]
  },
  {
   "cell_type": "markdown",
   "id": "db5488ce-3b81-4c5a-80e4-37682aa89adb",
   "metadata": {},
   "source": [
    "**Ejemplo:** Calcular el año de publicación (*startYear*) promedio de cada tipología (*titleType*) en `dplyr`."
   ]
  },
  {
   "cell_type": "code",
   "execution_count": 35,
   "id": "c3e92b3e-6b96-4d16-9947-403f077b9166",
   "metadata": {},
   "outputs": [
    {
     "data": {
      "text/html": [
       "<table>\n",
       "<thead><tr><th scope=col>titleType</th><th scope=col>startYear_avg</th></tr></thead>\n",
       "<tbody>\n",
       "\t<tr><td>movie    </td><td>1994.561 </td></tr>\n",
       "\t<tr><td>short    </td><td>1995.407 </td></tr>\n",
       "\t<tr><td>tvMovie  </td><td>1994.888 </td></tr>\n",
       "\t<tr><td>tvShort  </td><td>1994.530 </td></tr>\n",
       "\t<tr><td>videoGame</td><td>1994.587 </td></tr>\n",
       "</tbody>\n",
       "</table>\n"
      ],
      "text/latex": [
       "\\begin{tabular}{r|ll}\n",
       " titleType & startYear\\_avg\\\\\n",
       "\\hline\n",
       "\t movie     & 1994.561 \\\\\n",
       "\t short     & 1995.407 \\\\\n",
       "\t tvMovie   & 1994.888 \\\\\n",
       "\t tvShort   & 1994.530 \\\\\n",
       "\t videoGame & 1994.587 \\\\\n",
       "\\end{tabular}\n"
      ],
      "text/markdown": [
       "\n",
       "| titleType | startYear_avg |\n",
       "|---|---|\n",
       "| movie     | 1994.561  |\n",
       "| short     | 1995.407  |\n",
       "| tvMovie   | 1994.888  |\n",
       "| tvShort   | 1994.530  |\n",
       "| videoGame | 1994.587  |\n",
       "\n"
      ],
      "text/plain": [
       "  titleType startYear_avg\n",
       "1 movie     1994.561     \n",
       "2 short     1995.407     \n",
       "3 tvMovie   1994.888     \n",
       "4 tvShort   1994.530     \n",
       "5 videoGame 1994.587     "
      ]
     },
     "metadata": {},
     "output_type": "display_data"
    }
   ],
   "source": [
    "df_filtrado <- df %>%\n",
    "  group_by(titleType) %>%\n",
    "  summarise(startYear_avg = mean(startYear))\n",
    "head(df_filtrado)"
   ]
  },
  {
   "cell_type": "markdown",
   "id": "a56c4e64-15d4-46f1-8221-d901b300c8d0",
   "metadata": {},
   "source": [
    "**Ejemplo:** Calcular el número de obras que se han publicado anualmente (*startYear*) por tipología (*titleType*) en `dplyr`."
   ]
  },
  {
   "cell_type": "code",
   "execution_count": 36,
   "id": "ddd7a318-2bfb-4907-a4ae-600e4cde496e",
   "metadata": {},
   "outputs": [
    {
     "data": {
      "text/html": [
       "<table>\n",
       "<thead><tr><th scope=col>titleType</th><th scope=col>startYear</th><th scope=col>total</th></tr></thead>\n",
       "<tbody>\n",
       "\t<tr><td>movie</td><td>1990 </td><td>4842 </td></tr>\n",
       "\t<tr><td>movie</td><td>1991 </td><td>4393 </td></tr>\n",
       "\t<tr><td>movie</td><td>1992 </td><td>4321 </td></tr>\n",
       "\t<tr><td>movie</td><td>1993 </td><td>4156 </td></tr>\n",
       "\t<tr><td>movie</td><td>1994 </td><td>4125 </td></tr>\n",
       "\t<tr><td>movie</td><td>1995 </td><td>4303 </td></tr>\n",
       "</tbody>\n",
       "</table>\n"
      ],
      "text/latex": [
       "\\begin{tabular}{r|lll}\n",
       " titleType & startYear & total\\\\\n",
       "\\hline\n",
       "\t movie & 1990  & 4842 \\\\\n",
       "\t movie & 1991  & 4393 \\\\\n",
       "\t movie & 1992  & 4321 \\\\\n",
       "\t movie & 1993  & 4156 \\\\\n",
       "\t movie & 1994  & 4125 \\\\\n",
       "\t movie & 1995  & 4303 \\\\\n",
       "\\end{tabular}\n"
      ],
      "text/markdown": [
       "\n",
       "| titleType | startYear | total |\n",
       "|---|---|---|\n",
       "| movie | 1990  | 4842  |\n",
       "| movie | 1991  | 4393  |\n",
       "| movie | 1992  | 4321  |\n",
       "| movie | 1993  | 4156  |\n",
       "| movie | 1994  | 4125  |\n",
       "| movie | 1995  | 4303  |\n",
       "\n"
      ],
      "text/plain": [
       "  titleType startYear total\n",
       "1 movie     1990      4842 \n",
       "2 movie     1991      4393 \n",
       "3 movie     1992      4321 \n",
       "4 movie     1993      4156 \n",
       "5 movie     1994      4125 \n",
       "6 movie     1995      4303 "
      ]
     },
     "metadata": {},
     "output_type": "display_data"
    }
   ],
   "source": [
    "df_filtrado <- df %>%\n",
    "  group_by(titleType, startYear) %>%\n",
    "  summarise(total = n())\n",
    "head(df_filtrado)"
   ]
  },
  {
   "cell_type": "markdown",
   "id": "49aec911-07e4-43be-9cc8-dbd8759fd9f1",
   "metadata": {},
   "source": [
    "## Algunos casos prácticos"
   ]
  },
  {
   "cell_type": "markdown",
   "id": "7c51add2-4a61-4c9b-b054-3060b4164579",
   "metadata": {},
   "source": [
    "A modo de ejercicios para poner a prueba lo aprendido hasta ahora y captar mejor el potencial de estas opciones, vamos a llevar a cabo diferentes casos prácticos. Todos ellos se van a realizar en `dplyr`."
   ]
  },
  {
   "cell_type": "markdown",
   "id": "2d2b8a3a-bc24-4271-ac07-79ab1960351a",
   "metadata": {},
   "source": [
    "**Caso 1:** Obtener el listado con la película más votada de cada año."
   ]
  },
  {
   "cell_type": "code",
   "execution_count": 37,
   "id": "5ec3cbb9-7395-45aa-87c6-1d261ae7dd44",
   "metadata": {},
   "outputs": [
    {
     "name": "stderr",
     "output_type": "stream",
     "text": [
      "Warning message:\n",
      "“Column `tconst` joining character vector and factor, coercing into character vector”"
     ]
    },
    {
     "data": {
      "text/html": [
       "<table>\n",
       "<thead><tr><th scope=col>startYear</th><th scope=col>primaryTitle</th><th scope=col>numVotes</th></tr></thead>\n",
       "<tbody>\n",
       "\t<tr><td>1990                    </td><td>Goodfellas              </td><td>1148796                 </td></tr>\n",
       "\t<tr><td>1991                    </td><td>The Silence of the Lambs</td><td>1417722                 </td></tr>\n",
       "\t<tr><td>1992                    </td><td>Reservoir Dogs          </td><td>1010002                 </td></tr>\n",
       "\t<tr><td>1993                    </td><td>Schindler's List        </td><td>1343514                 </td></tr>\n",
       "\t<tr><td>1994                    </td><td>The Shawshank Redemption</td><td>2651251                 </td></tr>\n",
       "\t<tr><td>1995                    </td><td>Se7en                   </td><td>1632691                 </td></tr>\n",
       "\t<tr><td>1996                    </td><td>Trainspotting           </td><td> 684236                 </td></tr>\n",
       "\t<tr><td>1997                    </td><td>Titanic                 </td><td>1162341                 </td></tr>\n",
       "\t<tr><td>1998                    </td><td>Saving Private Ryan     </td><td>1378178                 </td></tr>\n",
       "\t<tr><td>1999                    </td><td>Fight Club              </td><td>2096443                 </td></tr>\n",
       "</tbody>\n",
       "</table>\n"
      ],
      "text/latex": [
       "\\begin{tabular}{r|lll}\n",
       " startYear & primaryTitle & numVotes\\\\\n",
       "\\hline\n",
       "\t 1990                     & Goodfellas               & 1148796                 \\\\\n",
       "\t 1991                     & The Silence of the Lambs & 1417722                 \\\\\n",
       "\t 1992                     & Reservoir Dogs           & 1010002                 \\\\\n",
       "\t 1993                     & Schindler's List         & 1343514                 \\\\\n",
       "\t 1994                     & The Shawshank Redemption & 2651251                 \\\\\n",
       "\t 1995                     & Se7en                    & 1632691                 \\\\\n",
       "\t 1996                     & Trainspotting            &  684236                 \\\\\n",
       "\t 1997                     & Titanic                  & 1162341                 \\\\\n",
       "\t 1998                     & Saving Private Ryan      & 1378178                 \\\\\n",
       "\t 1999                     & Fight Club               & 2096443                 \\\\\n",
       "\\end{tabular}\n"
      ],
      "text/markdown": [
       "\n",
       "| startYear | primaryTitle | numVotes |\n",
       "|---|---|---|\n",
       "| 1990                     | Goodfellas               | 1148796                  |\n",
       "| 1991                     | The Silence of the Lambs | 1417722                  |\n",
       "| 1992                     | Reservoir Dogs           | 1010002                  |\n",
       "| 1993                     | Schindler's List         | 1343514                  |\n",
       "| 1994                     | The Shawshank Redemption | 2651251                  |\n",
       "| 1995                     | Se7en                    | 1632691                  |\n",
       "| 1996                     | Trainspotting            |  684236                  |\n",
       "| 1997                     | Titanic                  | 1162341                  |\n",
       "| 1998                     | Saving Private Ryan      | 1378178                  |\n",
       "| 1999                     | Fight Club               | 2096443                  |\n",
       "\n"
      ],
      "text/plain": [
       "   startYear primaryTitle             numVotes\n",
       "1  1990      Goodfellas               1148796 \n",
       "2  1991      The Silence of the Lambs 1417722 \n",
       "3  1992      Reservoir Dogs           1010002 \n",
       "4  1993      Schindler's List         1343514 \n",
       "5  1994      The Shawshank Redemption 2651251 \n",
       "6  1995      Se7en                    1632691 \n",
       "7  1996      Trainspotting             684236 \n",
       "8  1997      Titanic                  1162341 \n",
       "9  1998      Saving Private Ryan      1378178 \n",
       "10 1999      Fight Club               2096443 "
      ]
     },
     "metadata": {},
     "output_type": "display_data"
    }
   ],
   "source": [
    "df_filtrado <- df %>%\n",
    "  inner_join(df_notas, by='tconst') %>%\n",
    "  filter(titleType == 'movie') %>%\n",
    "  group_by(startYear) %>%\n",
    "  filter(numVotes == max(numVotes)) %>%\n",
    "  select(startYear, primaryTitle, numVotes)\n",
    "df_filtrado"
   ]
  },
  {
   "cell_type": "markdown",
   "id": "7aa9855e-55eb-466c-b735-3d1399926106",
   "metadata": {},
   "source": [
    "**Caso 2:** Obtener el listado de las 20 películas con mayor puntuación promedio, habiéndolas votado al menos 50000 usuarios, junto al género/s."
   ]
  },
  {
   "cell_type": "code",
   "execution_count": 38,
   "id": "3ec87813-1f73-4b06-98df-b23861aeb89e",
   "metadata": {},
   "outputs": [
    {
     "name": "stderr",
     "output_type": "stream",
     "text": [
      "Warning message:\n",
      "“Column `tconst` joining character vector and factor, coercing into character vector”"
     ]
    },
    {
     "data": {
      "text/html": [
       "<table>\n",
       "<thead><tr><th scope=col>primaryTitle</th><th scope=col>genres</th><th scope=col>averageRating</th></tr></thead>\n",
       "<tbody>\n",
       "\t<tr><td>The Shawshank Redemption  </td><td>Drama                     </td><td>9.3                       </td></tr>\n",
       "\t<tr><td>Schindler's List          </td><td>Biography,Drama,History   </td><td>9.0                       </td></tr>\n",
       "\t<tr><td>Pulp Fiction              </td><td>Crime,Drama               </td><td>8.9                       </td></tr>\n",
       "\t<tr><td>Forrest Gump              </td><td>Drama,Romance             </td><td>8.8                       </td></tr>\n",
       "\t<tr><td>Fight Club                </td><td>Drama                     </td><td>8.8                       </td></tr>\n",
       "\t<tr><td>Goodfellas                </td><td>Biography,Crime,Drama     </td><td>8.7                       </td></tr>\n",
       "\t<tr><td>The Matrix                </td><td>Action,Sci-Fi             </td><td>8.7                       </td></tr>\n",
       "\t<tr><td>The Silence of the Lambs  </td><td>Crime,Drama,Thriller      </td><td>8.6                       </td></tr>\n",
       "\t<tr><td>Terminator 2: Judgment Day</td><td>Action,Sci-Fi             </td><td>8.6                       </td></tr>\n",
       "\t<tr><td>Se7en                     </td><td>Crime,Drama,Mystery       </td><td>8.6                       </td></tr>\n",
       "\t<tr><td>Life Is Beautiful         </td><td>Comedy,Drama,Romance      </td><td>8.6                       </td></tr>\n",
       "\t<tr><td>The Green Mile            </td><td>Crime,Drama,Fantasy       </td><td>8.6                       </td></tr>\n",
       "\t<tr><td>Saving Private Ryan       </td><td>Drama,War                 </td><td>8.6                       </td></tr>\n",
       "\t<tr><td>The Lion King             </td><td>Adventure,Animation,Drama </td><td>8.5                       </td></tr>\n",
       "\t<tr><td>Léon: The Professional    </td><td>Action,Crime,Drama        </td><td>8.5                       </td></tr>\n",
       "\t<tr><td>The Usual Suspects        </td><td>Crime,Drama,Mystery       </td><td>8.5                       </td></tr>\n",
       "\t<tr><td>American History X        </td><td>Crime,Drama               </td><td>8.5                       </td></tr>\n",
       "\t<tr><td>Braveheart                </td><td>Biography,Drama,History   </td><td>8.4                       </td></tr>\n",
       "\t<tr><td>Princess Mononoke         </td><td>Action,Adventure,Animation</td><td>8.4                       </td></tr>\n",
       "\t<tr><td>American Beauty           </td><td>Drama                     </td><td>8.4                       </td></tr>\n",
       "</tbody>\n",
       "</table>\n"
      ],
      "text/latex": [
       "\\begin{tabular}{r|lll}\n",
       " primaryTitle & genres & averageRating\\\\\n",
       "\\hline\n",
       "\t The Shawshank Redemption   & Drama                      & 9.3                       \\\\\n",
       "\t Schindler's List           & Biography,Drama,History    & 9.0                       \\\\\n",
       "\t Pulp Fiction               & Crime,Drama                & 8.9                       \\\\\n",
       "\t Forrest Gump               & Drama,Romance              & 8.8                       \\\\\n",
       "\t Fight Club                 & Drama                      & 8.8                       \\\\\n",
       "\t Goodfellas                 & Biography,Crime,Drama      & 8.7                       \\\\\n",
       "\t The Matrix                 & Action,Sci-Fi              & 8.7                       \\\\\n",
       "\t The Silence of the Lambs   & Crime,Drama,Thriller       & 8.6                       \\\\\n",
       "\t Terminator 2: Judgment Day & Action,Sci-Fi              & 8.6                       \\\\\n",
       "\t Se7en                      & Crime,Drama,Mystery        & 8.6                       \\\\\n",
       "\t Life Is Beautiful          & Comedy,Drama,Romance       & 8.6                       \\\\\n",
       "\t The Green Mile             & Crime,Drama,Fantasy        & 8.6                       \\\\\n",
       "\t Saving Private Ryan        & Drama,War                  & 8.6                       \\\\\n",
       "\t The Lion King              & Adventure,Animation,Drama  & 8.5                       \\\\\n",
       "\t Léon: The Professional     & Action,Crime,Drama         & 8.5                       \\\\\n",
       "\t The Usual Suspects         & Crime,Drama,Mystery        & 8.5                       \\\\\n",
       "\t American History X         & Crime,Drama                & 8.5                       \\\\\n",
       "\t Braveheart                 & Biography,Drama,History    & 8.4                       \\\\\n",
       "\t Princess Mononoke          & Action,Adventure,Animation & 8.4                       \\\\\n",
       "\t American Beauty            & Drama                      & 8.4                       \\\\\n",
       "\\end{tabular}\n"
      ],
      "text/markdown": [
       "\n",
       "| primaryTitle | genres | averageRating |\n",
       "|---|---|---|\n",
       "| The Shawshank Redemption   | Drama                      | 9.3                        |\n",
       "| Schindler's List           | Biography,Drama,History    | 9.0                        |\n",
       "| Pulp Fiction               | Crime,Drama                | 8.9                        |\n",
       "| Forrest Gump               | Drama,Romance              | 8.8                        |\n",
       "| Fight Club                 | Drama                      | 8.8                        |\n",
       "| Goodfellas                 | Biography,Crime,Drama      | 8.7                        |\n",
       "| The Matrix                 | Action,Sci-Fi              | 8.7                        |\n",
       "| The Silence of the Lambs   | Crime,Drama,Thriller       | 8.6                        |\n",
       "| Terminator 2: Judgment Day | Action,Sci-Fi              | 8.6                        |\n",
       "| Se7en                      | Crime,Drama,Mystery        | 8.6                        |\n",
       "| Life Is Beautiful          | Comedy,Drama,Romance       | 8.6                        |\n",
       "| The Green Mile             | Crime,Drama,Fantasy        | 8.6                        |\n",
       "| Saving Private Ryan        | Drama,War                  | 8.6                        |\n",
       "| The Lion King              | Adventure,Animation,Drama  | 8.5                        |\n",
       "| Léon: The Professional     | Action,Crime,Drama         | 8.5                        |\n",
       "| The Usual Suspects         | Crime,Drama,Mystery        | 8.5                        |\n",
       "| American History X         | Crime,Drama                | 8.5                        |\n",
       "| Braveheart                 | Biography,Drama,History    | 8.4                        |\n",
       "| Princess Mononoke          | Action,Adventure,Animation | 8.4                        |\n",
       "| American Beauty            | Drama                      | 8.4                        |\n",
       "\n"
      ],
      "text/plain": [
       "   primaryTitle               genres                     averageRating\n",
       "1  The Shawshank Redemption   Drama                      9.3          \n",
       "2  Schindler's List           Biography,Drama,History    9.0          \n",
       "3  Pulp Fiction               Crime,Drama                8.9          \n",
       "4  Forrest Gump               Drama,Romance              8.8          \n",
       "5  Fight Club                 Drama                      8.8          \n",
       "6  Goodfellas                 Biography,Crime,Drama      8.7          \n",
       "7  The Matrix                 Action,Sci-Fi              8.7          \n",
       "8  The Silence of the Lambs   Crime,Drama,Thriller       8.6          \n",
       "9  Terminator 2: Judgment Day Action,Sci-Fi              8.6          \n",
       "10 Se7en                      Crime,Drama,Mystery        8.6          \n",
       "11 Life Is Beautiful          Comedy,Drama,Romance       8.6          \n",
       "12 The Green Mile             Crime,Drama,Fantasy        8.6          \n",
       "13 Saving Private Ryan        Drama,War                  8.6          \n",
       "14 The Lion King              Adventure,Animation,Drama  8.5          \n",
       "15 Léon: The Professional     Action,Crime,Drama         8.5          \n",
       "16 The Usual Suspects         Crime,Drama,Mystery        8.5          \n",
       "17 American History X         Crime,Drama                8.5          \n",
       "18 Braveheart                 Biography,Drama,History    8.4          \n",
       "19 Princess Mononoke          Action,Adventure,Animation 8.4          \n",
       "20 American Beauty            Drama                      8.4          "
      ]
     },
     "metadata": {},
     "output_type": "display_data"
    }
   ],
   "source": [
    "df_filtrado <- df %>%\n",
    "  inner_join(df_notas, by='tconst') %>%\n",
    "  filter(titleType == 'movie' & numVotes >= 50000) %>%\n",
    "  arrange(desc(averageRating)) %>%\n",
    "  slice(1:20) %>%\n",
    "  select(primaryTitle, genres, averageRating)\n",
    "df_filtrado"
   ]
  },
  {
   "cell_type": "markdown",
   "id": "196fb96f-bbcc-4986-a5e6-46d9b9ca7970",
   "metadata": {},
   "source": [
    "**Caso 3:** El listado anterior pero con los títulos en Español."
   ]
  },
  {
   "cell_type": "code",
   "execution_count": 39,
   "id": "e4a7a221-af81-4d6c-a567-85a04d1895d3",
   "metadata": {},
   "outputs": [
    {
     "name": "stderr",
     "output_type": "stream",
     "text": [
      "Warning message:\n",
      "“Column `tconst` joining character vector and factor, coercing into character vector”Warning message:\n",
      "“Column `tconst`/`titleId` joining character vector and factor, coercing into character vector”"
     ]
    },
    {
     "data": {
      "text/html": [
       "<table>\n",
       "<thead><tr><th scope=col>title</th><th scope=col>genres</th><th scope=col>averageRating</th></tr></thead>\n",
       "<tbody>\n",
       "\t<tr><td>Cadena perpetua              </td><td>Drama                        </td><td>9.3                          </td></tr>\n",
       "\t<tr><td>La lista de Schindler        </td><td>Biography,Drama,History      </td><td>9.0                          </td></tr>\n",
       "\t<tr><td>Pulp Fiction                 </td><td>Crime,Drama                  </td><td>8.9                          </td></tr>\n",
       "\t<tr><td>Forrest Gump                 </td><td>Drama,Romance                </td><td>8.8                          </td></tr>\n",
       "\t<tr><td>El club de la lucha          </td><td>Drama                        </td><td>8.8                          </td></tr>\n",
       "\t<tr><td>Uno de los nuestros          </td><td>Biography,Crime,Drama        </td><td>8.7                          </td></tr>\n",
       "\t<tr><td>Matrix                       </td><td>Action,Sci-Fi                </td><td>8.7                          </td></tr>\n",
       "\t<tr><td>El silencio de los corderos  </td><td>Crime,Drama,Thriller         </td><td>8.6                          </td></tr>\n",
       "\t<tr><td>Terminator 2: El juicio final</td><td>Action,Sci-Fi                </td><td>8.6                          </td></tr>\n",
       "\t<tr><td>Seven                        </td><td>Crime,Drama,Mystery          </td><td>8.6                          </td></tr>\n",
       "\t<tr><td>La vida es bella             </td><td>Comedy,Drama,Romance         </td><td>8.6                          </td></tr>\n",
       "\t<tr><td>La milla verde               </td><td>Crime,Drama,Fantasy          </td><td>8.6                          </td></tr>\n",
       "\t<tr><td>Salvar al soldado Ryan       </td><td>Drama,War                    </td><td>8.6                          </td></tr>\n",
       "\t<tr><td>El rey león                  </td><td>Adventure,Animation,Drama    </td><td>8.5                          </td></tr>\n",
       "\t<tr><td>El profesional (Léon)        </td><td>Action,Crime,Drama           </td><td>8.5                          </td></tr>\n",
       "\t<tr><td>Sospechosos habituales       </td><td>Crime,Drama,Mystery          </td><td>8.5                          </td></tr>\n",
       "\t<tr><td>American History X           </td><td>Crime,Drama                  </td><td>8.5                          </td></tr>\n",
       "\t<tr><td>Braveheart                   </td><td>Biography,Drama,History      </td><td>8.4                          </td></tr>\n",
       "\t<tr><td>La princesa Mononoke         </td><td>Action,Adventure,Animation   </td><td>8.4                          </td></tr>\n",
       "\t<tr><td>American Beauty              </td><td>Drama                        </td><td>8.4                          </td></tr>\n",
       "</tbody>\n",
       "</table>\n"
      ],
      "text/latex": [
       "\\begin{tabular}{r|lll}\n",
       " title & genres & averageRating\\\\\n",
       "\\hline\n",
       "\t Cadena perpetua               & Drama                         & 9.3                          \\\\\n",
       "\t La lista de Schindler         & Biography,Drama,History       & 9.0                          \\\\\n",
       "\t Pulp Fiction                  & Crime,Drama                   & 8.9                          \\\\\n",
       "\t Forrest Gump                  & Drama,Romance                 & 8.8                          \\\\\n",
       "\t El club de la lucha           & Drama                         & 8.8                          \\\\\n",
       "\t Uno de los nuestros           & Biography,Crime,Drama         & 8.7                          \\\\\n",
       "\t Matrix                        & Action,Sci-Fi                 & 8.7                          \\\\\n",
       "\t El silencio de los corderos   & Crime,Drama,Thriller          & 8.6                          \\\\\n",
       "\t Terminator 2: El juicio final & Action,Sci-Fi                 & 8.6                          \\\\\n",
       "\t Seven                         & Crime,Drama,Mystery           & 8.6                          \\\\\n",
       "\t La vida es bella              & Comedy,Drama,Romance          & 8.6                          \\\\\n",
       "\t La milla verde                & Crime,Drama,Fantasy           & 8.6                          \\\\\n",
       "\t Salvar al soldado Ryan        & Drama,War                     & 8.6                          \\\\\n",
       "\t El rey león                   & Adventure,Animation,Drama     & 8.5                          \\\\\n",
       "\t El profesional (Léon)         & Action,Crime,Drama            & 8.5                          \\\\\n",
       "\t Sospechosos habituales        & Crime,Drama,Mystery           & 8.5                          \\\\\n",
       "\t American History X            & Crime,Drama                   & 8.5                          \\\\\n",
       "\t Braveheart                    & Biography,Drama,History       & 8.4                          \\\\\n",
       "\t La princesa Mononoke          & Action,Adventure,Animation    & 8.4                          \\\\\n",
       "\t American Beauty               & Drama                         & 8.4                          \\\\\n",
       "\\end{tabular}\n"
      ],
      "text/markdown": [
       "\n",
       "| title | genres | averageRating |\n",
       "|---|---|---|\n",
       "| Cadena perpetua               | Drama                         | 9.3                           |\n",
       "| La lista de Schindler         | Biography,Drama,History       | 9.0                           |\n",
       "| Pulp Fiction                  | Crime,Drama                   | 8.9                           |\n",
       "| Forrest Gump                  | Drama,Romance                 | 8.8                           |\n",
       "| El club de la lucha           | Drama                         | 8.8                           |\n",
       "| Uno de los nuestros           | Biography,Crime,Drama         | 8.7                           |\n",
       "| Matrix                        | Action,Sci-Fi                 | 8.7                           |\n",
       "| El silencio de los corderos   | Crime,Drama,Thriller          | 8.6                           |\n",
       "| Terminator 2: El juicio final | Action,Sci-Fi                 | 8.6                           |\n",
       "| Seven                         | Crime,Drama,Mystery           | 8.6                           |\n",
       "| La vida es bella              | Comedy,Drama,Romance          | 8.6                           |\n",
       "| La milla verde                | Crime,Drama,Fantasy           | 8.6                           |\n",
       "| Salvar al soldado Ryan        | Drama,War                     | 8.6                           |\n",
       "| El rey león                   | Adventure,Animation,Drama     | 8.5                           |\n",
       "| El profesional (Léon)         | Action,Crime,Drama            | 8.5                           |\n",
       "| Sospechosos habituales        | Crime,Drama,Mystery           | 8.5                           |\n",
       "| American History X            | Crime,Drama                   | 8.5                           |\n",
       "| Braveheart                    | Biography,Drama,History       | 8.4                           |\n",
       "| La princesa Mononoke          | Action,Adventure,Animation    | 8.4                           |\n",
       "| American Beauty               | Drama                         | 8.4                           |\n",
       "\n"
      ],
      "text/plain": [
       "   title                         genres                     averageRating\n",
       "1  Cadena perpetua               Drama                      9.3          \n",
       "2  La lista de Schindler         Biography,Drama,History    9.0          \n",
       "3  Pulp Fiction                  Crime,Drama                8.9          \n",
       "4  Forrest Gump                  Drama,Romance              8.8          \n",
       "5  El club de la lucha           Drama                      8.8          \n",
       "6  Uno de los nuestros           Biography,Crime,Drama      8.7          \n",
       "7  Matrix                        Action,Sci-Fi              8.7          \n",
       "8  El silencio de los corderos   Crime,Drama,Thriller       8.6          \n",
       "9  Terminator 2: El juicio final Action,Sci-Fi              8.6          \n",
       "10 Seven                         Crime,Drama,Mystery        8.6          \n",
       "11 La vida es bella              Comedy,Drama,Romance       8.6          \n",
       "12 La milla verde                Crime,Drama,Fantasy        8.6          \n",
       "13 Salvar al soldado Ryan        Drama,War                  8.6          \n",
       "14 El rey león                   Adventure,Animation,Drama  8.5          \n",
       "15 El profesional (Léon)         Action,Crime,Drama         8.5          \n",
       "16 Sospechosos habituales        Crime,Drama,Mystery        8.5          \n",
       "17 American History X            Crime,Drama                8.5          \n",
       "18 Braveheart                    Biography,Drama,History    8.4          \n",
       "19 La princesa Mononoke          Action,Adventure,Animation 8.4          \n",
       "20 American Beauty               Drama                      8.4          "
      ]
     },
     "metadata": {},
     "output_type": "display_data"
    }
   ],
   "source": [
    "df_filtrado <- df %>%\n",
    "  inner_join(df_notas, by='tconst') %>%\n",
    "  filter(titleType == 'movie' & numVotes >= 50000) %>%\n",
    "  arrange(desc(averageRating)) %>%\n",
    "  slice(1:20) %>%\n",
    "  inner_join(df_akas, by=c('tconst'='titleId')) %>%\n",
    "  filter(region=='ES' & is.na(language) & is.na(attributes)) %>%\n",
    "  select(title, genres, averageRating)\n",
    "df_filtrado"
   ]
  },
  {
   "cell_type": "markdown",
   "id": "abca509a-b9a5-4114-ac8d-e011c2aa708d",
   "metadata": {},
   "source": [
    "**Caso 4:** Calcular el total anual de películas de comedia valoradas por un mínimo de 1000 personas, y su valoración y duración promedio."
   ]
  },
  {
   "cell_type": "code",
   "execution_count": 40,
   "id": "9cfcf6f1-2f9d-424f-8c40-26b67a847a8d",
   "metadata": {},
   "outputs": [
    {
     "name": "stderr",
     "output_type": "stream",
     "text": [
      "Warning message:\n",
      "“Column `tconst` joining character vector and factor, coercing into character vector”"
     ]
    },
    {
     "data": {
      "text/html": [
       "<table>\n",
       "<thead><tr><th scope=col>startYear</th><th scope=col>movies</th><th scope=col>averageRating_avg</th><th scope=col>runtimeMinutes</th></tr></thead>\n",
       "<tbody>\n",
       "\t<tr><td>1990     </td><td>146      </td><td>6.154795 </td><td> 99.71918</td></tr>\n",
       "\t<tr><td>1991     </td><td>155      </td><td>6.289677 </td><td>101.26452</td></tr>\n",
       "\t<tr><td>1992     </td><td>139      </td><td>6.211511 </td><td>102.83453</td></tr>\n",
       "\t<tr><td>1993     </td><td>150      </td><td>6.281333 </td><td>101.90667</td></tr>\n",
       "\t<tr><td>1994     </td><td>185      </td><td>6.052973 </td><td>103.01622</td></tr>\n",
       "\t<tr><td>1995     </td><td>157      </td><td>6.237580 </td><td>101.42675</td></tr>\n",
       "\t<tr><td>1996     </td><td>185      </td><td>6.217297 </td><td>102.23784</td></tr>\n",
       "\t<tr><td>1997     </td><td>199      </td><td>6.103518 </td><td>102.14573</td></tr>\n",
       "\t<tr><td>1998     </td><td>212      </td><td>6.353774 </td><td>104.88208</td></tr>\n",
       "\t<tr><td>1999     </td><td>230      </td><td>6.191739 </td><td>102.06987</td></tr>\n",
       "</tbody>\n",
       "</table>\n"
      ],
      "text/latex": [
       "\\begin{tabular}{r|llll}\n",
       " startYear & movies & averageRating\\_avg & runtimeMinutes\\\\\n",
       "\\hline\n",
       "\t 1990      & 146       & 6.154795  &  99.71918\\\\\n",
       "\t 1991      & 155       & 6.289677  & 101.26452\\\\\n",
       "\t 1992      & 139       & 6.211511  & 102.83453\\\\\n",
       "\t 1993      & 150       & 6.281333  & 101.90667\\\\\n",
       "\t 1994      & 185       & 6.052973  & 103.01622\\\\\n",
       "\t 1995      & 157       & 6.237580  & 101.42675\\\\\n",
       "\t 1996      & 185       & 6.217297  & 102.23784\\\\\n",
       "\t 1997      & 199       & 6.103518  & 102.14573\\\\\n",
       "\t 1998      & 212       & 6.353774  & 104.88208\\\\\n",
       "\t 1999      & 230       & 6.191739  & 102.06987\\\\\n",
       "\\end{tabular}\n"
      ],
      "text/markdown": [
       "\n",
       "| startYear | movies | averageRating_avg | runtimeMinutes |\n",
       "|---|---|---|---|\n",
       "| 1990      | 146       | 6.154795  |  99.71918 |\n",
       "| 1991      | 155       | 6.289677  | 101.26452 |\n",
       "| 1992      | 139       | 6.211511  | 102.83453 |\n",
       "| 1993      | 150       | 6.281333  | 101.90667 |\n",
       "| 1994      | 185       | 6.052973  | 103.01622 |\n",
       "| 1995      | 157       | 6.237580  | 101.42675 |\n",
       "| 1996      | 185       | 6.217297  | 102.23784 |\n",
       "| 1997      | 199       | 6.103518  | 102.14573 |\n",
       "| 1998      | 212       | 6.353774  | 104.88208 |\n",
       "| 1999      | 230       | 6.191739  | 102.06987 |\n",
       "\n"
      ],
      "text/plain": [
       "   startYear movies averageRating_avg runtimeMinutes\n",
       "1  1990      146    6.154795           99.71918     \n",
       "2  1991      155    6.289677          101.26452     \n",
       "3  1992      139    6.211511          102.83453     \n",
       "4  1993      150    6.281333          101.90667     \n",
       "5  1994      185    6.052973          103.01622     \n",
       "6  1995      157    6.237580          101.42675     \n",
       "7  1996      185    6.217297          102.23784     \n",
       "8  1997      199    6.103518          102.14573     \n",
       "9  1998      212    6.353774          104.88208     \n",
       "10 1999      230    6.191739          102.06987     "
      ]
     },
     "metadata": {},
     "output_type": "display_data"
    }
   ],
   "source": [
    "df_filtrado <- df %>%\n",
    "  inner_join(df_notas, by='tconst') %>%\n",
    "  filter(grepl('Comedy', genres) & titleType == 'movie' & numVotes >= 1000) %>%\n",
    "  group_by(startYear)  %>%\n",
    "  summarise(movies = n(), averageRating_avg = mean(averageRating), runtimeMinutes = mean(runtimeMinutes, na.rm=TRUE))\n",
    "df_filtrado"
   ]
  },
  {
   "cell_type": "markdown",
   "id": "0dc71ae0-5f12-42ea-aef8-5d3c156e7c06",
   "metadata": {},
   "source": [
    "**Caso 5:** Obtener el listado de los 10 videojuegos publicados entre 1995 y 1997 con mayor puntuación promedio, habiéndolos votado al menos 5000 usuarios, junto al año."
   ]
  },
  {
   "cell_type": "code",
   "execution_count": 41,
   "id": "39900fa2-e1f3-4c1d-aae7-2e113245aa0c",
   "metadata": {},
   "outputs": [
    {
     "name": "stderr",
     "output_type": "stream",
     "text": [
      "Warning message:\n",
      "“Column `tconst` joining character vector and factor, coercing into character vector”"
     ]
    },
    {
     "data": {
      "text/html": [
       "<table>\n",
       "<thead><tr><th scope=col>primaryTitle</th><th scope=col>startYear</th><th scope=col>averageRating</th></tr></thead>\n",
       "<tbody>\n",
       "\t<tr><td>Metal Gear Solid                    </td><td>1998                                </td><td>9.6                                 </td></tr>\n",
       "\t<tr><td>The Legend of Zelda: Ocarina of Time</td><td>1998                                </td><td>9.6                                 </td></tr>\n",
       "\t<tr><td>Final Fantasy VII                   </td><td>1997                                </td><td>9.5                                 </td></tr>\n",
       "\t<tr><td>StarCraft                           </td><td>1998                                </td><td>9.2                                 </td></tr>\n",
       "\t<tr><td>Half-Life                           </td><td>1998                                </td><td>9.2                                 </td></tr>\n",
       "\t<tr><td>Resident Evil 2                     </td><td>1998                                </td><td>9.1                                 </td></tr>\n",
       "\t<tr><td>Super Mario 64                      </td><td>1996                                </td><td>9.1                                 </td></tr>\n",
       "\t<tr><td>GoldenEye 007                       </td><td>1997                                </td><td>9.1                                 </td></tr>\n",
       "\t<tr><td>Silent Hill                         </td><td>1999                                </td><td>9.0                                 </td></tr>\n",
       "\t<tr><td>Resident Evil                       </td><td>1996                                </td><td>8.9                                 </td></tr>\n",
       "</tbody>\n",
       "</table>\n"
      ],
      "text/latex": [
       "\\begin{tabular}{r|lll}\n",
       " primaryTitle & startYear & averageRating\\\\\n",
       "\\hline\n",
       "\t Metal Gear Solid                     & 1998                                 & 9.6                                 \\\\\n",
       "\t The Legend of Zelda: Ocarina of Time & 1998                                 & 9.6                                 \\\\\n",
       "\t Final Fantasy VII                    & 1997                                 & 9.5                                 \\\\\n",
       "\t StarCraft                            & 1998                                 & 9.2                                 \\\\\n",
       "\t Half-Life                            & 1998                                 & 9.2                                 \\\\\n",
       "\t Resident Evil 2                      & 1998                                 & 9.1                                 \\\\\n",
       "\t Super Mario 64                       & 1996                                 & 9.1                                 \\\\\n",
       "\t GoldenEye 007                        & 1997                                 & 9.1                                 \\\\\n",
       "\t Silent Hill                          & 1999                                 & 9.0                                 \\\\\n",
       "\t Resident Evil                        & 1996                                 & 8.9                                 \\\\\n",
       "\\end{tabular}\n"
      ],
      "text/markdown": [
       "\n",
       "| primaryTitle | startYear | averageRating |\n",
       "|---|---|---|\n",
       "| Metal Gear Solid                     | 1998                                 | 9.6                                  |\n",
       "| The Legend of Zelda: Ocarina of Time | 1998                                 | 9.6                                  |\n",
       "| Final Fantasy VII                    | 1997                                 | 9.5                                  |\n",
       "| StarCraft                            | 1998                                 | 9.2                                  |\n",
       "| Half-Life                            | 1998                                 | 9.2                                  |\n",
       "| Resident Evil 2                      | 1998                                 | 9.1                                  |\n",
       "| Super Mario 64                       | 1996                                 | 9.1                                  |\n",
       "| GoldenEye 007                        | 1997                                 | 9.1                                  |\n",
       "| Silent Hill                          | 1999                                 | 9.0                                  |\n",
       "| Resident Evil                        | 1996                                 | 8.9                                  |\n",
       "\n"
      ],
      "text/plain": [
       "   primaryTitle                         startYear averageRating\n",
       "1  Metal Gear Solid                     1998      9.6          \n",
       "2  The Legend of Zelda: Ocarina of Time 1998      9.6          \n",
       "3  Final Fantasy VII                    1997      9.5          \n",
       "4  StarCraft                            1998      9.2          \n",
       "5  Half-Life                            1998      9.2          \n",
       "6  Resident Evil 2                      1998      9.1          \n",
       "7  Super Mario 64                       1996      9.1          \n",
       "8  GoldenEye 007                        1997      9.1          \n",
       "9  Silent Hill                          1999      9.0          \n",
       "10 Resident Evil                        1996      8.9          "
      ]
     },
     "metadata": {},
     "output_type": "display_data"
    }
   ],
   "source": [
    "df_filtrado <- df %>%\n",
    "  inner_join(df_notas, by='tconst') %>%\n",
    "  filter(titleType == 'videoGame' & numVotes >= 5000) %>%\n",
    "  arrange(desc(averageRating)) %>%\n",
    "  slice(1:10) %>%\n",
    "  select(primaryTitle, startYear, averageRating)\n",
    "df_filtrado"
   ]
  },
  {
   "cell_type": "markdown",
   "id": "d8b2a0f3-7177-4605-bcb3-030205d6de50",
   "metadata": {},
   "source": [
    "# Exportar"
   ]
  },
  {
   "cell_type": "markdown",
   "id": "27a18391-e3b4-4a04-8826-275358b81fb3",
   "metadata": {},
   "source": [
    "En última instancia, llega el turno de exportar los datos. Nuevamente contamos con la opción base y la ofrecida por el paquete `data.table`.\n",
    "\n",
    "De base tenemos la función `write.table()`, que es la general y exporta por defecto en formato separado por tabuladores, y sus versiones derivadas que los hacen en separado por comas `write.csv()` y `write.csv2()`. Se trata de un proceso muy parecido al de lectura, donde debemos dejar claro el formato del archivo para garantizar que este sea después utilizable."
   ]
  },
  {
   "cell_type": "markdown",
   "id": "eaea4e3d-988b-4e19-a147-a7aee5a1289b",
   "metadata": {},
   "source": [
    "**Ejemplo:** Exportar el *data.frame* del último caso práctico separado por tabuladores."
   ]
  },
  {
   "cell_type": "code",
   "execution_count": 42,
   "id": "cdee4c8e-5f21-43a5-a971-d460784fa6bf",
   "metadata": {},
   "outputs": [],
   "source": [
    "write.table(df_filtrado, # data.frame a exportar\n",
    "            'results/archivo_exportado.tsv', # ruta y nombre de archivo\n",
    "            quote = FALSE, # en este caso no quiero ya que no necesito\n",
    "            fileEncoding = 'UTF-8', # codificación\n",
    "            row.names = FALSE) # omito los nombres/indices de filas"
   ]
  },
  {
   "cell_type": "markdown",
   "id": "5661f984-2db6-4b72-bfd6-746c594ec28d",
   "metadata": {},
   "source": [
    "**Ejemplo:** Exportar el *data.frame* del último caso práctico separado por comas."
   ]
  },
  {
   "cell_type": "code",
   "execution_count": 43,
   "id": "72e23898-f5a8-41af-b728-2dcbb9978d17",
   "metadata": {},
   "outputs": [],
   "source": [
    "write.csv(df_filtrado, # data.frame a exportar\n",
    "          'results/archivo_exportado.csv', # ruta y nombre de archivo\n",
    "          fileEncoding = 'UTF-8', # codificación\n",
    "          row.names = FALSE) # omito los nombres/indices de filas"
   ]
  },
  {
   "cell_type": "markdown",
   "id": "268c5979-fc7d-4158-8f16-7cda052b0026",
   "metadata": {},
   "source": [
    "Con `data.table` el proceso se realiza con la función `fwrite()` y es igual de sencillo. Por defecto utiliza el calificador cuando detecta que es necesario, y usa de separador las comas."
   ]
  },
  {
   "cell_type": "code",
   "execution_count": 44,
   "id": "89423e99-81dd-4e77-895c-78d081693450",
   "metadata": {},
   "outputs": [],
   "source": [
    "fwrite(df_filtrado, # data.frame a exportar\n",
    "       'results/archivo_exportado.csv') # ruta y nombre de archivo"
   ]
  }
 ],
 "metadata": {
  "kernelspec": {
   "display_name": "R",
   "language": "R",
   "name": "ir"
  },
  "language_info": {
   "codemirror_mode": "r",
   "file_extension": ".r",
   "mimetype": "text/x-r-source",
   "name": "R",
   "pygments_lexer": "r",
   "version": "3.6.0"
  }
 },
 "nbformat": 4,
 "nbformat_minor": 5
}
